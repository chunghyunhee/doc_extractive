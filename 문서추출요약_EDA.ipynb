{
  "nbformat": 4,
  "nbformat_minor": 0,
  "metadata": {
    "colab": {
      "name": "문서추출요약_EDA.ipynb",
      "provenance": []
    },
    "kernelspec": {
      "name": "python3",
      "display_name": "Python 3"
    }
  },
  "cells": [
    {
      "cell_type": "code",
      "metadata": {
        "colab": {
          "base_uri": "https://localhost:8080/"
        },
        "id": "nTMvTBTB5g_z",
        "outputId": "ef89801f-3d7c-4395-cb4f-ba3a3c23d4a9"
      },
      "source": [
        "import os\r\n",
        "import sys\r\n",
        "import warnings\r\n",
        "import numpy as np\r\n",
        "import pandas as pd\r\n",
        "import json\r\n",
        "\r\n",
        "import matplotlib.pyplot as plt\r\n",
        "%matplotlib inline\r\n",
        "import seaborn as sns\r\n",
        "sns.set(style='white', context='notebook', palette='deep')\r\n",
        "\r\n",
        "warnings.filterwarnings(action='ignore')\r\n",
        "\r\n",
        "if get_ipython():\r\n",
        "    print(\"jupyter envirionment\")\r\n",
        "    PROJECT_DIR = os.path.abspath(os.path.join(os.path.dirname('__file__'), '..'))\r\n",
        "    from tqdm import tqdm_notebook as tqdm  # 이거 안해주면 한 줄씩 출력됨 ;;\r\n",
        "else:\r\n",
        "    print(\"command shell envirionment\")\r\n",
        "    PROJECT_DIR = os.path.abspath(os.path.join(os.path.dirname(__file__), '..'))\r\n",
        "    from tqdm import tqdm\r\n",
        "\r\n",
        "# sys.pathdp PROJECT_DIR 추가\r\n",
        "sys.path.insert(0, PROJECT_DIR)"
      ],
      "execution_count": 1,
      "outputs": [
        {
          "output_type": "stream",
          "text": [
            "jupyter envirionment\n"
          ],
          "name": "stdout"
        }
      ]
    },
    {
      "cell_type": "markdown",
      "metadata": {
        "id": "b3-F3rHL9SAS"
      },
      "source": [
        "## Data 확인 "
      ]
    },
    {
      "cell_type": "code",
      "metadata": {
        "colab": {
          "base_uri": "https://localhost:8080/",
          "height": 197
        },
        "id": "uke8GCWJ6ZIm",
        "outputId": "9163d311-3be5-4f2a-ca4a-4a98c4805f19"
      },
      "source": [
        "with open('train.jsonl', 'r') as json_file:\r\n",
        "    json_list = list(json_file)\r\n",
        "\r\n",
        "trains = []\r\n",
        "for json_str in json_list:\r\n",
        "    line = json.loads(json_str)\r\n",
        "    trains.append(line)\r\n",
        "\r\n",
        "train_df = pd.DataFrame(trains)\r\n",
        "train_df.head()"
      ],
      "execution_count": 5,
      "outputs": [
        {
          "output_type": "execute_result",
          "data": {
            "text/html": [
              "<div>\n",
              "<style scoped>\n",
              "    .dataframe tbody tr th:only-of-type {\n",
              "        vertical-align: middle;\n",
              "    }\n",
              "\n",
              "    .dataframe tbody tr th {\n",
              "        vertical-align: top;\n",
              "    }\n",
              "\n",
              "    .dataframe thead th {\n",
              "        text-align: right;\n",
              "    }\n",
              "</style>\n",
              "<table border=\"1\" class=\"dataframe\">\n",
              "  <thead>\n",
              "    <tr style=\"text-align: right;\">\n",
              "      <th></th>\n",
              "      <th>media</th>\n",
              "      <th>id</th>\n",
              "      <th>article_original</th>\n",
              "      <th>abstractive</th>\n",
              "      <th>extractive</th>\n",
              "    </tr>\n",
              "  </thead>\n",
              "  <tbody>\n",
              "    <tr>\n",
              "      <th>0</th>\n",
              "      <td>당진시대</td>\n",
              "      <td>327827480</td>\n",
              "      <td>[당진시 문화관광과를 대상으로 하는 행정사무감사에서 당진시립합창단 관계자가 보낸 것...</td>\n",
              "      <td>지난 6일 당진시의회 행정사무감사에서 '합창단이 소리를 작게 낼 것이니 알고 있으라...</td>\n",
              "      <td>[0, 1, 2]</td>\n",
              "    </tr>\n",
              "    <tr>\n",
              "      <th>1</th>\n",
              "      <td>국제신문</td>\n",
              "      <td>339840364</td>\n",
              "      <td>[미국 메이저리그(MLB)에서 활동하는 한국 선수들의 시즌 초반 희비가 엇갈리고 있...</td>\n",
              "      <td>LA 에인절스의 최지만이 맹활약을 하여 시즌 타율 0.250에서 0.313으로 올리...</td>\n",
              "      <td>[0, 1, 3]</td>\n",
              "    </tr>\n",
              "    <tr>\n",
              "      <th>2</th>\n",
              "      <td>기호일보</td>\n",
              "      <td>371071597</td>\n",
              "      <td>[인천 부영공원 운영 생활야구협회 80여 동호회 팀에 260만 원씩 받아, 국유지로...</td>\n",
              "      <td>16일 부평구와 협회 등에 따르면 부영공원 안에 있는 야구장을 구생활체육야구협회가 ...</td>\n",
              "      <td>[6, 7, 10]</td>\n",
              "    </tr>\n",
              "    <tr>\n",
              "      <th>3</th>\n",
              "      <td>대구일보</td>\n",
              "      <td>354806783</td>\n",
              "      <td>[대구·경북첨단의료산업진흥재단 의약생산센터는 항암주사제 무균충전 시설을 갖추고 있다...</td>\n",
              "      <td>대구·경북첨단의료산업진흥재단 의약생산센터는 약사법 시행규칙에서 정한 바에 따라 전용...</td>\n",
              "      <td>[1, 6, 4]</td>\n",
              "    </tr>\n",
              "    <tr>\n",
              "      <th>4</th>\n",
              "      <td>대구신문</td>\n",
              "      <td>347022773</td>\n",
              "      <td>[국내 유통되는 탄산음료 중 식품의약품안전처에 품질인증을 받은 제품이 하나도 없는 ...</td>\n",
              "      <td>식품의약품안전처는 29일 어린이가 즐겨마시는 음료를 대상으로 영양성분을 조사한 결과...</td>\n",
              "      <td>[2, 3, 10]</td>\n",
              "    </tr>\n",
              "  </tbody>\n",
              "</table>\n",
              "</div>"
            ],
            "text/plain": [
              "  media  ...  extractive\n",
              "0  당진시대  ...   [0, 1, 2]\n",
              "1  국제신문  ...   [0, 1, 3]\n",
              "2  기호일보  ...  [6, 7, 10]\n",
              "3  대구일보  ...   [1, 6, 4]\n",
              "4  대구신문  ...  [2, 3, 10]\n",
              "\n",
              "[5 rows x 5 columns]"
            ]
          },
          "metadata": {
            "tags": []
          },
          "execution_count": 5
        }
      ]
    },
    {
      "cell_type": "code",
      "metadata": {
        "colab": {
          "base_uri": "https://localhost:8080/",
          "height": 281
        },
        "id": "ZPK6Quvc9IUS",
        "outputId": "6d1611f3-7464-4734-9954-943c8b1043b1"
      },
      "source": [
        "train_df['extractive_sents'] = train_df.apply(lambda row: list(np.array(row['article_original'])[row['extractive']]) , axis=1)\r\n",
        "train_df['no_extractive_sents'] = train_df.apply(lambda row: [sent for sent in row['article_original'] if sent not in row['extractive_sents']] , axis=1)\r\n",
        "train_df.head()"
      ],
      "execution_count": 6,
      "outputs": [
        {
          "output_type": "execute_result",
          "data": {
            "text/html": [
              "<div>\n",
              "<style scoped>\n",
              "    .dataframe tbody tr th:only-of-type {\n",
              "        vertical-align: middle;\n",
              "    }\n",
              "\n",
              "    .dataframe tbody tr th {\n",
              "        vertical-align: top;\n",
              "    }\n",
              "\n",
              "    .dataframe thead th {\n",
              "        text-align: right;\n",
              "    }\n",
              "</style>\n",
              "<table border=\"1\" class=\"dataframe\">\n",
              "  <thead>\n",
              "    <tr style=\"text-align: right;\">\n",
              "      <th></th>\n",
              "      <th>media</th>\n",
              "      <th>id</th>\n",
              "      <th>article_original</th>\n",
              "      <th>abstractive</th>\n",
              "      <th>extractive</th>\n",
              "      <th>extractive_sents</th>\n",
              "      <th>no_extractive_sents</th>\n",
              "    </tr>\n",
              "  </thead>\n",
              "  <tbody>\n",
              "    <tr>\n",
              "      <th>0</th>\n",
              "      <td>당진시대</td>\n",
              "      <td>327827480</td>\n",
              "      <td>[당진시 문화관광과를 대상으로 하는 행정사무감사에서 당진시립합창단 관계자가 보낸 것...</td>\n",
              "      <td>지난 6일 당진시의회 행정사무감사에서 '합창단이 소리를 작게 낼 것이니 알고 있으라...</td>\n",
              "      <td>[0, 1, 2]</td>\n",
              "      <td>[당진시 문화관광과를 대상으로 하는 행정사무감사에서 당진시립합창단 관계자가 보낸 것...</td>\n",
              "      <td>[문제의 문자메세지를 전달받은 문화관광과는 감사법무담당관에게 조사를 의뢰했다., 권...</td>\n",
              "    </tr>\n",
              "    <tr>\n",
              "      <th>1</th>\n",
              "      <td>국제신문</td>\n",
              "      <td>339840364</td>\n",
              "      <td>[미국 메이저리그(MLB)에서 활동하는 한국 선수들의 시즌 초반 희비가 엇갈리고 있...</td>\n",
              "      <td>LA 에인절스의 최지만이 맹활약을 하여 시즌 타율 0.250에서 0.313으로 올리...</td>\n",
              "      <td>[0, 1, 3]</td>\n",
              "      <td>[미국 메이저리그(MLB)에서 활동하는 한국 선수들의 시즌 초반 희비가 엇갈리고 있...</td>\n",
              "      <td>[최지만은 2일(한국시간) 미국 플로리다주 세인트피터즈버그 트로피카나 필드에서 열린...</td>\n",
              "    </tr>\n",
              "    <tr>\n",
              "      <th>2</th>\n",
              "      <td>기호일보</td>\n",
              "      <td>371071597</td>\n",
              "      <td>[인천 부영공원 운영 생활야구협회 80여 동호회 팀에 260만 원씩 받아, 국유지로...</td>\n",
              "      <td>16일 부평구와 협회 등에 따르면 부영공원 안에 있는 야구장을 구생활체육야구협회가 ...</td>\n",
              "      <td>[6, 7, 10]</td>\n",
              "      <td>[16일 부평구와 협회 등에 따르면 부영공원 안에 있는 야구장을 구생활체육야구협회가...</td>\n",
              "      <td>[인천 부영공원 운영 생활야구협회 80여 동호회 팀에 260만 원씩 받아, 국유지로...</td>\n",
              "    </tr>\n",
              "    <tr>\n",
              "      <th>3</th>\n",
              "      <td>대구일보</td>\n",
              "      <td>354806783</td>\n",
              "      <td>[대구·경북첨단의료산업진흥재단 의약생산센터는 항암주사제 무균충전 시설을 갖추고 있다...</td>\n",
              "      <td>대구·경북첨단의료산업진흥재단 의약생산센터는 약사법 시행규칙에서 정한 바에 따라 전용...</td>\n",
              "      <td>[1, 6, 4]</td>\n",
              "      <td>[대구·경북첨단의료산업진흥재단(이하 대구첨복재단) 의약생산센터는 주세제 특수제제인 ...</td>\n",
              "      <td>[대구·경북첨단의료산업진흥재단 의약생산센터는 항암주사제 무균충전 시설을 갖추고 있다...</td>\n",
              "    </tr>\n",
              "    <tr>\n",
              "      <th>4</th>\n",
              "      <td>대구신문</td>\n",
              "      <td>347022773</td>\n",
              "      <td>[국내 유통되는 탄산음료 중 식품의약품안전처에 품질인증을 받은 제품이 하나도 없는 ...</td>\n",
              "      <td>식품의약품안전처는 29일 어린이가 즐겨마시는 음료를 대상으로 영양성분을 조사한 결과...</td>\n",
              "      <td>[2, 3, 10]</td>\n",
              "      <td>[식품의약품안전처는 29일 여름철 어린이가 즐겨 마시는 탄산음료 282개와 혼합음료...</td>\n",
              "      <td>[국내 유통되는 탄산음료 중 식품의약품안전처에 품질인증을 받은 제품이 하나도 없는 ...</td>\n",
              "    </tr>\n",
              "  </tbody>\n",
              "</table>\n",
              "</div>"
            ],
            "text/plain": [
              "  media  ...                                no_extractive_sents\n",
              "0  당진시대  ...  [문제의 문자메세지를 전달받은 문화관광과는 감사법무담당관에게 조사를 의뢰했다., 권...\n",
              "1  국제신문  ...  [최지만은 2일(한국시간) 미국 플로리다주 세인트피터즈버그 트로피카나 필드에서 열린...\n",
              "2  기호일보  ...  [인천 부영공원 운영 생활야구협회 80여 동호회 팀에 260만 원씩 받아, 국유지로...\n",
              "3  대구일보  ...  [대구·경북첨단의료산업진흥재단 의약생산센터는 항암주사제 무균충전 시설을 갖추고 있다...\n",
              "4  대구신문  ...  [국내 유통되는 탄산음료 중 식품의약품안전처에 품질인증을 받은 제품이 하나도 없는 ...\n",
              "\n",
              "[5 rows x 7 columns]"
            ]
          },
          "metadata": {
            "tags": []
          },
          "execution_count": 6
        }
      ]
    },
    {
      "cell_type": "markdown",
      "metadata": {
        "id": "aIJfUVeH9OXT"
      },
      "source": [
        "## EDA\r\n",
        "### 1. media 분포 확인 "
      ]
    },
    {
      "cell_type": "code",
      "metadata": {
        "colab": {
          "base_uri": "https://localhost:8080/"
        },
        "id": "7Fb7bDpD9Msj",
        "outputId": "562c6cf4-c42d-48da-f9ba-5d61d5d0e527"
      },
      "source": [
        "train_df['media'].value_counts()"
      ],
      "execution_count": 7,
      "outputs": [
        {
          "output_type": "execute_result",
          "data": {
            "text/plain": [
              "기호일보      7166\n",
              "국제신문      6678\n",
              "대전일보      4831\n",
              "광주일보      4155\n",
              "남도일보      4148\n",
              "광주매일신문    3783\n",
              "대구신문      3750\n",
              "대구일보      3060\n",
              "경기일보      2319\n",
              "당진시대      2014\n",
              "광양신문       899\n",
              "Name: media, dtype: int64"
            ]
          },
          "metadata": {
            "tags": []
          },
          "execution_count": 7
        }
      ]
    },
    {
      "cell_type": "markdown",
      "metadata": {
        "id": "vYvnwmYJ9V66"
      },
      "source": [
        "총 11개의 미디어로부터 데이터가 구성되어 있다. 가장 수가 적은 광양신문도 899개로 적지 않아, 미디어 별로 요약문 특성이 다르다면 좋은 정보가 될 수 있다. "
      ]
    },
    {
      "cell_type": "markdown",
      "metadata": {
        "id": "enI8ZBB29eIB"
      },
      "source": [
        "### 2. 원문 (article_original)"
      ]
    },
    {
      "cell_type": "code",
      "metadata": {
        "colab": {
          "base_uri": "https://localhost:8080/"
        },
        "id": "98zWTqXl9VPe",
        "outputId": "7cc4085f-1887-4cb5-c70f-3714a6ad235b"
      },
      "source": [
        "train_df['article_original'][1]"
      ],
      "execution_count": 8,
      "outputs": [
        {
          "output_type": "execute_result",
          "data": {
            "text/plain": [
              "['미국 메이저리그(MLB)에서 활동하는 한국 선수들의 시즌 초반 희비가 엇갈리고 있다.',\n",
              " 'LA 에인절스의 최지만은 맹활약으로 주전 입지를 굳혀가는 반면 텍사스 레인저스의 추신수는 개막전 선발에서 밀려나는 수모를 당한 뒤에서도 좀처럼 반등을 하지 못하고 있다.',\n",
              " '최지만은 2일(한국시간) 미국 플로리다주 세인트피터즈버그 트로피카나 필드에서 열린 2019 미국프로야구 메이저리그 콜로라도 로키스와 홈경기에 3번 타자 1루수로 선발 출전해 4타수 2안타를 치고 1득점을 올렸다.',\n",
              " '시즌 타율은 0.250에서 0.313(16타수 5안타)로 올랐다.',\n",
              " '최지만은 개막전에서 4타수 무안타로 침묵했으나 이후 3경기 연속 안타이자 2경기 연속 멀티 히트를 뽑아내며 입지를 굳혀갔다.',\n",
              " '2016년 LA 에인절스 소속으로 메이저리그에 데뷔한 최지만이 2경기 연속 멀티 히트를 친 것은 이번이 처음이다.',\n",
              " '스코어가 벌어진 탓에 콜로라도 불펜의 필승조인 오승환과 최지만의 맞대결은 성사되지 않았다.',\n",
              " '추신수는 들쭉날쭉한 출전 일정 탓인지 타격감을 찾지 못하고 있다.',\n",
              " '추신수는 이날 텍사스주 알링턴 글로브 라이프 파크에서 열린 휴스턴 애스트로스와 홈경기에 1번 지명타자로 선발 출전했지만 4타수 무안타로 침묵했다.',\n",
              " '시즌 타율은 0.167에서 0.100(10타수 1안타)로 떨어졌다.',\n",
              " '추신수는 11년 만에 개막전 선발 라인업에서 제외되는 등 이날까지 텍사스가 치른 4경기 가운데 2경기에만 선발 출전했다.',\n",
              " '크리스 우드워드 텍사스 감독은 상대 선발이 좌완이면 좌타자인 추신수 대신 우타자인 헌터 펜스를 선발 지명타자로 기용하고 있다.',\n",
              " '텍사스(2승 2패)는 휴스턴 마운드에 2안타로 꽁꽁 묶이며 1-2로 패해 2연승 행진을 마감했다.',\n",
              " '한편 피츠버그 파이리츠의 강정호는 914일 만에 홈경기에 나섰지만 안타를 만들어내지 못했다.',\n",
              " '이날 펜실베이니아주 피츠버그의 PNC 파크에서 열린 세인트루이스 카디널스와 홈 개막전에 선발 라인업에서 제외된 강정호는 벤치에서 경기를 시작했다.',\n",
              " '강정호는 4-4 동점이 된 8회 초 2사 2루에서 3루 대수비로 교체 출전했다.',\n",
              " '강정호가 PNC 파크 그라운드를 다시 밟은 것은 2016년 9월 30일 시카고 컵스와의 홈 최종전 이후 정확히 914일 만이다.',\n",
              " '강정호는 8회 말 선두타자 모란이 솔로포를 터트려 스코어가 5-4가 된 이후 후속 타석에 들어섰지만 중견수 뜬공으로 물러났다.',\n",
              " '연장 10회 말 1사에서 다시 타석에 들어선 강정호는 세인트루이스의 우완 ‘파이어볼러’ 조던 힉스에게 3구 삼진으로 물러났다.',\n",
              " '2타수 무안타 1삼진으로 침묵한 강정호의 시즌 타율은 0.222(9타수 2안타)가 됐다.',\n",
              " '피츠버그는 연장 11회 혈투 끝에 5-6으로 패했다.']"
            ]
          },
          "metadata": {
            "tags": []
          },
          "execution_count": 8
        }
      ]
    },
    {
      "cell_type": "markdown",
      "metadata": {
        "id": "o7R0SxVw9jag"
      },
      "source": [
        "article_original 데이터는 문장이 이미 분리되어 list로 저장되어 있기 때문에 sentence tokenizing 과정 없이 바로 분석이 가능하다. "
      ]
    },
    {
      "cell_type": "code",
      "metadata": {
        "colab": {
          "base_uri": "https://localhost:8080/",
          "height": 412
        },
        "id": "7Sm3WCmK9iWQ",
        "outputId": "d1010790-1cc2-4270-869d-497751f31373"
      },
      "source": [
        "# sentence\r\n",
        "original_sent_counts = train_df['article_original'].apply(len)\r\n",
        "\r\n",
        "fig, axs = plt.subplots(1, 2, figsize=(16, 6), gridspec_kw=dict(width_ratios=[4, 3]))\r\n",
        "sns.histplot(original_sent_counts, binwidth=1, ax=axs[0])\r\n",
        "sns.boxplot(original_sent_counts, ax=axs[1])"
      ],
      "execution_count": 9,
      "outputs": [
        {
          "output_type": "execute_result",
          "data": {
            "text/plain": [
              "<matplotlib.axes._subplots.AxesSubplot at 0x7fd88d56b240>"
            ]
          },
          "metadata": {
            "tags": []
          },
          "execution_count": 9
        },
        {
          "output_type": "display_data",
          "data": {
            "image/png": "[encoded data removed]",
            "text/plain": [
              "<Figure size 1152x432 with 2 Axes>"
            ]
          },
          "metadata": {
            "tags": [],
            "needs_background": "light"
          }
        }
      ]
    },
    {
      "cell_type": "code",
      "metadata": {
        "colab": {
          "base_uri": "https://localhost:8080/"
        },
        "id": "c5CSXXrR9r37",
        "outputId": "4dd02f52-f7cf-4de3-f467-cc8f1fde29a3"
      },
      "source": [
        "original_sent_counts.describe()"
      ],
      "execution_count": 10,
      "outputs": [
        {
          "output_type": "execute_result",
          "data": {
            "text/plain": [
              "count    42803.000000\n",
              "mean        13.256594\n",
              "std          5.965359\n",
              "min          3.000000\n",
              "25%          9.000000\n",
              "50%         12.000000\n",
              "75%         16.000000\n",
              "max         97.000000\n",
              "Name: article_original, dtype: float64"
            ]
          },
          "metadata": {
            "tags": []
          },
          "execution_count": 10
        }
      ]
    },
    {
      "cell_type": "code",
      "metadata": {
        "colab": {
          "base_uri": "https://localhost:8080/",
          "height": 412
        },
        "id": "vLxO7ven9tFN",
        "outputId": "89743694-cc6d-4736-821a-336342de35a1"
      },
      "source": [
        "# word 수\r\n",
        "original_word_counts = train_df['article_original'].apply(lambda x:len(' '.join(x).split(' ')))\r\n",
        "\r\n",
        "fig, axs = plt.subplots(1, 2, figsize=(16, 6), gridspec_kw=dict(width_ratios=[4, 3]))\r\n",
        "sns.histplot(original_word_counts, binwidth=1, ax=axs[0])\r\n",
        "sns.boxplot(original_word_counts, ax=axs[1])"
      ],
      "execution_count": 11,
      "outputs": [
        {
          "output_type": "execute_result",
          "data": {
            "text/plain": [
              "<matplotlib.axes._subplots.AxesSubplot at 0x7fd88d35b438>"
            ]
          },
          "metadata": {
            "tags": []
          },
          "execution_count": 11
        },
        {
          "output_type": "display_data",
          "data": {
            "image/png": "[encoded data removed]",
            "text/plain": [
              "<Figure size 1152x432 with 2 Axes>"
            ]
          },
          "metadata": {
            "tags": [],
            "needs_background": "light"
          }
        }
      ]
    },
    {
      "cell_type": "code",
      "metadata": {
        "colab": {
          "base_uri": "https://localhost:8080/"
        },
        "id": "HeZSTE339uYO",
        "outputId": "05bed8ea-d5bc-4920-fe5c-b76425c788f5"
      },
      "source": [
        "original_word_counts.describe()"
      ],
      "execution_count": 12,
      "outputs": [
        {
          "output_type": "execute_result",
          "data": {
            "text/plain": [
              "count    42803.000000\n",
              "mean       214.226456\n",
              "std         64.350373\n",
              "min         90.000000\n",
              "25%        164.000000\n",
              "50%        198.000000\n",
              "75%        251.000000\n",
              "max        501.000000\n",
              "Name: article_original, dtype: float64"
            ]
          },
          "metadata": {
            "tags": []
          },
          "execution_count": 12
        }
      ]
    },
    {
      "cell_type": "markdown",
      "metadata": {
        "id": "qm0oOAzm9wH6"
      },
      "source": [
        "본문의 길이는 평균 13문장 및 214개 정도의 단어로 구성되어 있다. 이는 기존 summary task에서 많이 쓰는 CNN이나 DailyMail 같은 데이터와 비교했을 때, 상당히 길이가 적은 편이다. "
      ]
    },
    {
      "cell_type": "markdown",
      "metadata": {
        "id": "syggtM2V998w"
      },
      "source": [
        "### 3. 생성요약 정답값 column"
      ]
    },
    {
      "cell_type": "code",
      "metadata": {
        "colab": {
          "base_uri": "https://localhost:8080/",
          "height": 34
        },
        "id": "WYXXmNsc9vc7",
        "outputId": "e5495e60-7cce-4a7b-bbce-bbeec9aff1bd"
      },
      "source": [
        "train_df['abstractive'][0]"
      ],
      "execution_count": 13,
      "outputs": [
        {
          "output_type": "execute_result",
          "data": {
            "application/vnd.google.colaboratory.intrinsic+json": {
              "type": "string"
            },
            "text/plain": [
              "\"지난 6일 당진시의회 행정사무감사에서 '합창단이 소리를 작게 낼 것이니 알고 있으라'라는 문자 등으로 불거진 합창단의 의무 불이행 논란에 대해 행정사무조사특별위원회를 구성해 조사를 수행하겠다는 의견을 표명했다.\""
            ]
          },
          "metadata": {
            "tags": []
          },
          "execution_count": 13
        }
      ]
    },
    {
      "cell_type": "markdown",
      "metadata": {
        "id": "aoL6ZKSx-SdT"
      },
      "source": [
        "#### Novel N-gram"
      ]
    },
    {
      "cell_type": "markdown",
      "metadata": {
        "id": "MiLMm9d7-Ck5"
      },
      "source": [
        "원문 문장(article_original)과 사람이 생성한 요약문장(abstract) 간 단어가 얼마나 겹치는지 확인 "
      ]
    },
    {
      "cell_type": "code",
      "metadata": {
        "id": "x5jYrQRa-CAv"
      },
      "source": [
        "def n_grams(tokens, n):\r\n",
        "    \"\"\"\r\n",
        "    If length of tokens less then n, return empty list\r\n",
        "    \"\"\"\r\n",
        "    l = len(tokens)\r\n",
        "    return [tuple(tokens[i:i + n]) for i in range(l) if i + n <= l]"
      ],
      "execution_count": 14,
      "outputs": []
    },
    {
      "cell_type": "code",
      "metadata": {
        "id": "Z0caChUX-YtI"
      },
      "source": [
        "def cal_novel(source, summary, n=2, use_tokenizer=False):\r\n",
        "    if use_tokenizer == True:\r\n",
        "        pass\r\n",
        "#         tokenizer = Mecab()\r\n",
        "#         source_tokens = tokenizer.morphs(source)\r\n",
        "#         summary_tokens = tokenizer.morphs(summary)\r\n",
        "    else:\r\n",
        "        source_tokens  = source.split()\r\n",
        "        summary_tokens = summary.split()\r\n",
        "        \r\n",
        "    source_grams = set(n_grams(source_tokens, n))\r\n",
        "    summary_grams = set(n_grams(summary_tokens, n))\r\n",
        "\r\n",
        "    joint = summary_grams.intersection(source_grams)\r\n",
        "    novel = summary_grams - joint\r\n",
        "\r\n",
        "    return len(novel), len(summary_grams)\r\n",
        "\r\n",
        "        \r\n",
        "def cal_novel_repeat(source_lines, summary_lines, n=2, use_tokenizer=False):\r\n",
        "    assert len(source_lines) == len(summary_lines)\r\n",
        "    \r\n",
        "    lines = zip(source_lines, summary_lines)\r\n",
        "    \r\n",
        "    novel_n_grams_prop_list = []\r\n",
        "    total_novel_grams_num = 0\r\n",
        "    total_summary_grams_num = 0\r\n",
        "    for source, summary in lines:\r\n",
        "        novel_grams_num, summary_grams_num = cal_novel(source, summary, n, use_tokenizer)\r\n",
        "        novel_n_grams_prop_list.append(novel_grams_num / (summary_grams_num + 1e-6))\r\n",
        "        total_novel_grams_num += novel_grams_num\r\n",
        "        total_summary_grams_num += summary_grams_num\r\n",
        "    return novel_n_grams_prop_list, total_novel_grams_num, total_summary_grams_num"
      ],
      "execution_count": 15,
      "outputs": []
    },
    {
      "cell_type": "code",
      "metadata": {
        "id": "VwPK8yhg-aax"
      },
      "source": [
        "## 적용 \r\n",
        "origin_text = train_df['article_original'].apply(lambda l: ' '.join(l) )\r\n",
        "summary_text = train_df['abstractive']"
      ],
      "execution_count": 16,
      "outputs": []
    },
    {
      "cell_type": "code",
      "metadata": {
        "colab": {
          "base_uri": "https://localhost:8080/",
          "height": 404
        },
        "id": "efel9SYP-daE",
        "outputId": "b682db36-9d89-4417-e007-12561769d067"
      },
      "source": [
        "# 1-gram\r\n",
        "novel_n_grams_prop_list, total_novel_grams_num, total_summary_grams_num = cal_novel_repeat(origin_text, summary_text, 1)\r\n",
        "print(total_novel_grams_num / total_summary_grams_num)\r\n",
        "sns.displot(novel_n_grams_prop_list)"
      ],
      "execution_count": 17,
      "outputs": [
        {
          "output_type": "stream",
          "text": [
            "0.29965738845226947\n"
          ],
          "name": "stdout"
        },
        {
          "output_type": "execute_result",
          "data": {
            "text/plain": [
              "<seaborn.axisgrid.FacetGrid at 0x7fd88c045390>"
            ]
          },
          "metadata": {
            "tags": []
          },
          "execution_count": 17
        },
        {
          "output_type": "display_data",
          "data": {
            "image/png": "[encoded data removed]",
            "text/plain": [
              "<Figure size 360x360 with 1 Axes>"
            ]
          },
          "metadata": {
            "tags": [],
            "needs_background": "light"
          }
        }
      ]
    },
    {
      "cell_type": "code",
      "metadata": {
        "colab": {
          "base_uri": "https://localhost:8080/",
          "height": 404
        },
        "id": "S2QCPVul-ejN",
        "outputId": "22579ec2-943c-4a0b-e7f8-7be44edfff62"
      },
      "source": [
        "# 2-gram\r\n",
        "novel_n_grams_prop_list, total_novel_grams_num, total_summary_grams_num = cal_novel_repeat(origin_text, summary_text, 2)\r\n",
        "print(total_novel_grams_num / total_summary_grams_num)\r\n",
        "sns.displot(novel_n_grams_prop_list)"
      ],
      "execution_count": 18,
      "outputs": [
        {
          "output_type": "stream",
          "text": [
            "0.5465292075477393\n"
          ],
          "name": "stdout"
        },
        {
          "output_type": "execute_result",
          "data": {
            "text/plain": [
              "<seaborn.axisgrid.FacetGrid at 0x7fd8835e2630>"
            ]
          },
          "metadata": {
            "tags": []
          },
          "execution_count": 18
        },
        {
          "output_type": "display_data",
          "data": {
            "image/png": "[encoded data removed]",
            "text/plain": [
              "<Figure size 360x360 with 1 Axes>"
            ]
          },
          "metadata": {
            "tags": [],
            "needs_background": "light"
          }
        }
      ]
    },
    {
      "cell_type": "markdown",
      "metadata": {
        "id": "aUMUIfkG-i2g"
      },
      "source": [
        "#### sentence 분포 "
      ]
    },
    {
      "cell_type": "code",
      "metadata": {
        "colab": {
          "base_uri": "https://localhost:8080/"
        },
        "id": "QVvae7Dp-g0W",
        "outputId": "8193d667-eedb-4fd3-95cc-ef5f1484a4ec"
      },
      "source": [
        "!pip install kss\r\n",
        "import kss"
      ],
      "execution_count": 22,
      "outputs": [
        {
          "output_type": "stream",
          "text": [
            "Requirement already satisfied: kss in /usr/local/lib/python3.6/dist-packages (2.2.0.2)\n"
          ],
          "name": "stdout"
        }
      ]
    },
    {
      "cell_type": "code",
      "metadata": {
        "colab": {
          "base_uri": "https://localhost:8080/"
        },
        "id": "GNOsskqnANvV",
        "outputId": "7a14fd3c-7e24-4f44-fb58-c90921e63267"
      },
      "source": [
        "last_char = set()\r\n",
        "counter = 5\r\n",
        "\r\n",
        "for abstractive in train_df['abstractive'].values:\r\n",
        "    sents_splited = kss.split_sentences(abstractive)\r\n",
        "    if len(sents_splited) > 1:\r\n",
        "        if counter > 0:\r\n",
        "            print(sents_splited)\r\n",
        "            counter -= 1\r\n",
        "        for sent_splited in sents_splited:\r\n",
        "            last_char.add(sent_splited)\r\n",
        "last_char"
      ],
      "execution_count": 39,
      "outputs": [
        {
          "output_type": "stream",
          "text": [
            "['3일 한국자동차산업협회와 한국수입자동차협회에 따르면 한국지엠(GM)과 르노삼성 등 국내 완성차업체가 모회사의 해외 생산 차량을 수입해 국내에 판매하는 OEM 수입차의 판매량이 2017년까지 하락세를 보이다', '지난해 반등했으며 수입차 대비 비중도 높아질 전망이다.']\n",
            "['경기도 특별사법경찰단은 소방공사 기간에 해외여행 중이던 상주 감리원이 현장에서 업무 한 것처럼 감리일지를 거짓으로 작성하는 불법행위를 한 감리업체 9곳을 적발했으며, 이들이 없는 틈에  공사 현장에서는 주요', '소방공사가 그대로 시행됐다.']\n",
            "['2019광주세계수영선수권대회 기간 중 조선대학교에서는 수영대회의 ‘백미’인 하이다', '이빙 경기가 치러지며 조선대 본관 건물과 무등산을 배경으로 27m 높은 곳에서 뛰어내리는 아찔한 광경을 순간 포착하는 등 전 세계에 광주를 알릴 수 있는 절호의 기회가 될 것으로 보이고 하이다', '이빙은 단순히 경기를 넘어서 역동적이고 예술적인 모습이 포착되는 종목이어서 관객들의 시선과 탄성을 자아낼 것으로 보인다.']\n",
            "['전과 8범 A씨는 아동청소년 강간미수 혐의로 징역1년 3월형을 살고, 5년간 전자발찌 부착 명령상태에서 지난 17일 전자발찌를 끊고 도주하다', '광주 북부경찰서가 검거하여 부착기간이 2020년 8월14일까지 늘었다.']\n",
            "['노르웨이 프리미엄 유아용품 전문 기업 스토케에서 부모가 서서 아이들을 목욕시킬 수 있는 신제품인 플렉시바스 스탠드를 출시함으로써 아이와의 목욕을 낯설어하던 육아대디, 배쓰 파파들에게 보다', '즐거운 목욕 시간을 가질 수 있을 것으로 기대한다.']\n"
          ],
          "name": "stdout"
        },
        {
          "output_type": "execute_result",
          "data": {
            "text/plain": [
              "{'',\n",
              " '더불어민주당 지방혁신균형발전추진단과 대통령직속 국가균형발전위원회는 17일 신년간담회를 개최하고 2019년 균형발전을 위한 정책과 주요',\n",
              " '지난달 27~28일, 광주세계수영선수권대회조직위원회가 파워 블로거와 수영 전문인 등 20여 명을 초청해 국제방송센터와 남부대시립국제수영장, 수구경기장, 조선대하이다',\n",
              " '500명의 신청자 중 150명에 선정된 제7기 통일부어린이 기자 중 통일부 장관과의 만남을 주제로 한 인터뷰 기사를 써서 우수기사로 선정된 계성초 5학년 이다',\n",
              " \"국정 과제와 관련한 성과 창출의 필요성으로 인해 지난해 군정운영에 대한 실적과 난점을 바탕으로 일자리 창출, 4차 산업혁명 등의 사업을 연계한 계획을'2019년 주요업무 추진계획 보고회'에서 밝혔다.\",\n",
              " '농림축산식품부 국립농산품질관리원은 21일 설을 맞아 내달 1일까지 차례상에 오르는 주요',\n",
              " '가수 정준영이 구속된 가운데 2017년 디지털 성범죄는 전년보다 1280건이 늘어난 6465건이 발생하여 불법촬영물로 피해를 당하면 회복하기 어려운 고통을 겪는다는 점에서 보다',\n",
              " '횡단보도 사고 다발지점에 경찰관을 집중 배치한다고 29일 밝혔다.',\n",
              " '고민정 청와대 대변인은 8일 문대통령의 G20 정상회의에서 주요',\n",
              " '지난달 취업자가 26만여 명 증가하며 13개월 만에 가장 큰 폭으로 늘어났지만, 제조업 같은 주요',\n",
              " '루프는 유휴공간인 루프탑을 활용하고 싶은 소유주와 이용하고 싶은 소비자들에게 위치기반으로 대여 가능한 루프탑 정보를 매칭해주는 옥상공유 플랫폼이다.',\n",
              " \"고용노동부와 전남도가 주체하고 한국장애인고용공단 전남지사와 한국장애인고용안정협회 전남지부가 주관해서 열리는 '전남도 장애인 기능경기대회'가 26일에 목포에서 개막한다.\",\n",
              " '이번 토론회를 계기로 시는 사람이 살기 좋은 여주 만들기를 위한 주제를 선정해 시민이 참여하는 인구정책 토론회를 개최할 계획이며, 각계각층 시민의 의견을 받는 인구정책 창구를 일원화할 것이라고 밝혔다.',\n",
              " '송악읍 중흥리에 지난 2015년 착공한 광명메이루즈 아파트는 업체 부도로 골조공사를 50% 가량 진행하다',\n",
              " '한국자살예방협회 및 보건복지부는 자살 예방을 사회적 문제로 인식하여 공동체 노력으로 해결하고자 위험과 예방의 중간다',\n",
              " '수성아트피아는 올해를 재도약 원년으로 삼아 명품공연장의 위상을 재확인하는 과정에서 가장 눈에 띄는 변화는 발레 중심 공연장으로서의 이미지 제고로 시민들에게는 존재감이 분명한 아트센터, 예술인에게는 성장의 발판이 될 수 있는 든든한 버팀목이 되겠다',\n",
              " '국내 상반기 일본차 수입액은 26.2%나 뛰어 역대 최대를 기록했으나 국산차는 일본수출이 없다',\n",
              " '21일 오전 광주시청 중회의실에서 개최된 인공지능 중심도시 광주 만들기에 역량을 집중하기 위한 이용섭 시장 주재의 회의에서 24개의 각 공공기관은 주요',\n",
              " \"’, ‘이별길' 등 총 23곡이 수록, 또한 아이콘은 오는 6일 서울 송파구 KSPO DOME(올림픽체조경기장)에서 앵콜 콘서트를 진행할 예정이다.\",\n",
              " '복통을 호소한 건양대 학생 2명은 병원에서 치료를 받던 중 9일 오후, 10일 오전 각각 사망했다.',\n",
              " '이빙 경기장을 찾아 온 세계 각국의 선수·임원과 관람객들을 위해 한국인의 생활상과 풍습을 한 눈에 볼 수 있도록 ‘민화 특별전’을 개최하여 우리 문화의 우수성을 세계에 널리 알리는 절호의 기회로 한국전통 예술이 세계인들에게 더욱 친숙하고 사랑받는 계기가 될 것이라고 밝혔다.',\n",
              " '광주·전남지방중소기벤처기업청과 광주사회적경제지원센터는 사회적 목적 추구와 수익을 창출하는 사회적 경제기업이 일반 중소기업에 보다',\n",
              " '(Beyond Reality)를 열고 있으며 티켓은 현장에서 무료로 받을 수 있다.',\n",
              " '밝히면서, 대형 전시회가 지역 경제에 미치는 파급력을 고려해 3개 전시회 이외, 기존 주관 전시회의 규모를 확대하는 방안을 검토하고 전담팀을 구축하여 대형 국제회의에서 파생되는 고급 지식이 지역에 체화될 수 있게 지원한다고 하였다.',\n",
              " '밝혔으며, 한편 도심 밀집 지역 주민들을 위해 건립하는 이 사업에는 2020년부터 3년간 총사업비 227억 원이 투입된다.',\n",
              " '한국 콜롬비아전 MBC 축구 중계를 한 BJ감스트는 인터넷방송 출신을 왜 공중파에 기용하는지 이해가 안 간다,',\n",
              " '영동군은 12일 A형 간염 충청권 확산에 따라 주요',\n",
              " '지난 22일 부산시가 처음으로 비상저감조치를 발령했지만 공무원 및 공용차량의 비중이 매우 적은 데다',\n",
              " '절실한 가구가 유리하도록 개정안을 마련해 이달 30일까지 행정예고 한다고 9일 밝혔다.',\n",
              " '자유 한국당 송언석 의원은 28일 우리나라 경제성장률이 10년 만에 최저치 도달이 좌파식 경제 실험이냐고 따졌으며 대통령 취임식에서 언급한 ‘한 번도 경험해보지 못한 나라’의 종착점이 ‘모두 함께 힘들게 사는 나라’는 아니지 않는가?',\n",
              " '제15회 영 호남 시 도지사 협력회의에서는 주요',\n",
              " '밝혔으나 행정안전부가 운영하는 안전신문고 애플리케이션을 통한 단속규정만 통일됐을 뿐, 생활불편신고 앱은 기초자치단체마다 다른 규정을 적용토록 해 혼란은 해소되지 않을 것으로 보인다.',\n",
              " '충북도는 4차 산업혁명 시대에 제조분야의 경쟁력 확보를 위해 기업 부담금을 일부 지원하는 등 스마트공장 보급 확대에 힘쓸 계획이라고 13일 밝혔으며 또한 스마트공장 수요.',\n",
              " \"빅뱅의 승리가 사내이사로 있었던 클럽 버닝썬에서 ' 물뽕 성폭행' 의혹이 불거졌다.\",\n",
              " '37회 단양소백산철쭉제가 소백산산신제, 실버가요',\n",
              " '전남대 여수캠퍼스가 주최하는 외국인 유학생 자율방범대에 참여한 외국인 유학생들은 앞으로 범죄예방차원에서 외국인유학생 밀집지역의 집중순찰 및 범죄피해에 대한 신고요',\n",
              " '이에 논산시보건소 관계자는 \"초고령화로 가는 현재\\'웰빙, 웰다잉\\' 웰에이징\\'할 수 있도록 도와주는 존재는 필수이며 \"전문 지도자 양성을 통해 행복한 노후를 응원하고, 안내할 수 있도록 최선을 다하겠다',\n",
              " '최근 30도를 웃도는 고온다',\n",
              " '희경루는 7월 중 토지매입을 완료하고 8월 실시설계등의 절차를 진행할 계획으로, 문화공간도 함께 설립할 예정이다.',\n",
              " '지난해 한국관광공사의 12월 추천 걷기여행길에 선정된 충남 홍성군의 홍주성천년여행길은 홍성역이 걷기여행길의 시종점인 힐링코스로 관광객들의 발길이 줄을 잇고 있는데, 천 년 역사를 둘러볼 수 있는 길을 따라 걷다',\n",
              " \"태안군은 23일 군청 브리핑실에서 정례 브리핑을 통해 '문화가 있는 태안'건설에 나선다고 하였다.\",\n",
              " \"23일 세종시의회 '2019 행정사무감사'의 교육안전위원회 진행 중 의원간 진행절차 이견으로 인한 감사 중단 사태가 벌어졌다.\",\n",
              " \"태안군이 친절한 민원서비스 제공을 위해 매주 월요일 아침 업무 시작 10분 전 직원들의 친절마인드 향상과 친절의 생활화를 도모하는 '미소 친절 방송'을 진행하며, 활기찬 직장 분위기를 위해 가요,\",\n",
              " '\"고 사과했다.',\n",
              " '28일 한국철도공단은 동암역 지하연결통로 상가에 있던 28개 점포 철거 완료 후 새 민간사업자를 찾고 있지만 그 지역에서 10년 가까이 생업을 유지하다',\n",
              " '민선7기 광주시가 사회적 대통합의 광주형일자리 모델인 광주글로벌모터스가 26일 공장 착공 기공식을 하여 공사에 돌입한다.',\n",
              " '지난해 9월 27일 오후 6시 20분에 대구시 북구 도로에서 음주운전을 하다',\n",
              " '대구지방기상청에 따르면 주말 대구,경북은 일본 오키나와 남쪽 약 470km 부근 해상에서 발생한 타파의 영향권에 들면서 많은 양의 비가 내릴 전망이며, 21일에는 북쪽 상공에서 남하하는 찬 공기와 태풍에 의해 유입되는 남쪽의 고온다',\n",
              " '경기도 특별사법경찰단은 개발제한구역 수사권을 얻은 이후 지난 7월 15일부터 26일까지 경기북부 개발제한구역 내 동식물 관련 시설이나 농업용 창고로 허가를 받은 53곳을 수사한 결과, 작업장 또는 주택 등으로 불법 용도 변경해 사용하다',\n",
              " 'A양이 가족여행 중에 친어머니와 의붓아버지에게 살해당한 후 저수지에 버려졌다.',\n",
              " '군과 함께하는 육아 일상을 공개할 예정이다.',\n",
              " \"부산지법 형사10단독은 학교 근처에서 속칭 '키스방' 영업을 하다\",\n",
              " '이번 캠페인은 추석이 농식품 소비에 큰 비중을 차지하는 중요한 시기인 만큼 기업이 전남 농식품 소비 촉진에 적극 동참하도록 하기 위한 것이다.',\n",
              " '아산시는 미세먼지 저감을 위해 정책기반 부분, 수송 부문, 생활 부문 등 27개 중점과제를 선정하고 179억 원을 투입하기로 했으며 아산시장은 시민이 체감할 수 있는 수송 및 생활부문과 취약계층 중심으로 보다',\n",
              " '보니 교통 법규를 지키지 않는 배달원이 늘어나고 있어 보다 강력한 단속이 필요하다는 지적이 나온다.',\n",
              " '”라고 질문하자 나홍진 감독과는 구두로 \"함께 하자\"고 이야기를 나눈 상태라고 답했다.',\n",
              " '여수시가 한국지방자치경영대상 시상식에서 열린 혁신부문 대상을 차지했다.',\n",
              " \"직장 내 성범죄의 원인인 '세대간 성인식의 간극'이 벌어지지 않도록 의식 개선이 중요하다고 강조했다.\",\n",
              " '제11회 구례 전국여자천하장사 씨름대회에서 구례군청의 조현주 선수가 최희화 선수에게 패해 아쉽게 3위를 차지했으며 최희화 선수는 결승에서 이다',\n",
              " '자유한국당 주호영의원은 30일 국회에서 열린 한국당 비상대책위원장-중진의원 연석회의에서 황교안 전 국무총리와 오세훈 전 서울시장의 출마자격 부여에 대해  \"당헌·당규를 따르지 않고 입당했다고 다 피선거권을 준다면 앞으로 기회주의자만 나올 것\"이라고 비판,\"힘으로 밀어붙이면 기록하고 책임지도록 해야 한다',\n",
              " '부산경영자총협회가 주요',\n",
              " '접수는 보건소 및 각 행정복지센터에서 가능하며, 신청 문의는 보건소 모자건강팀 041 360-6080~4로 문의하면 세부사항을 안내 받을 수 있다.',\n",
              " '보령시가 올해부터 추진 중인 스마트 마을방송이 서비스 개시 1개월 만에 시민들로부터 높은 호응을 얻고 있는 가운데, 시는 노후된 마을방송 장비 개선 건의와 가정 내 수신기 설치 요구를 수용하여 고효율 저비용의 스마트 마을 방송을 도입하기 위해 지난해 1회 추경 예산을 편성하여 시스템을 구축하고 올해부터 시간과 장소의 제약 없이 주요',\n",
              " '이빙에 많은 관중이 몰리며 초반 흥행 부진에서 벗어나 폐막일인 28일까지 막판 흥행몰이를 할 것으로 보인다.',\n",
              " '소 차단을 위한 종합대책을 마련했다.',\n",
              " '방송에서 다른 가수에게 불리는 모습을 봤다며 딸의 억울함을 풀어달라고 절규했다.',\n",
              " '이빙 경기 성공을 응원하고자 기업·기관·단체·개인 등이입장권 2천여 장을 구매해 관람석을 메울 예정이다.',\n",
              " '광주시가 산업통상자원부의 2019년도 지역산업거점기관지원사업인 ‘대용량 전력 저장용 레독스흐름전지(RFB)인증센터 구축 사업’에 최종 선정되었다.',\n",
              " '기존 이사들의 항의로 결국 무산됐으며 특히 신임 이사들의 법적 효력이 없어서 이사회를 개최하지 못하는 등 재단 운영이 비정상적으로 치달을 것으로 예상된다.',\n",
              " \"농림축산식품부는 청년층의 농업분야 창업 활성화를 위해 2019년 '청년창업농 영농정착지원사업' 대상자를 선발하고 각 시군을 통해 통보했으며, 앞으로 지원 대상자 1600명에 대해서는 최장 3년간 매월 100만원씩 창업자금과 함께 영농기술 교육 등 맞춤형 지원을 제공한다고 14일 발표했다.\",\n",
              " '에서 희대의 사기꾼 장영자 씨의 약 500억원의 무기명 예금증서에 대한 의혹을 푼다.',\n",
              " '사망사고를 낸 운전자 전모(17) 군을 교통사고처리특례법(치사)위반 혐의로 구속했다고 6일 밝혔다.',\n",
              " '환경가전을 많이 사용하다',\n",
              " '수원시는 28일 수원시청 영상회의실에서 수원시의 국제자매결연도시인 러시아 니즈니노브고로드시의 민간대표단 8명과 함께 보다',\n",
              " '한국소비자원이 고령소비자의 합리적인 선택을 지원하기 위해 이동통신 3사의 실버요금제를 분석하여 나온 결과로 일반 저가요',\n",
              " '국토교통부는 저소득·다자녀·신혼부부에 대한 주거지원을 강화하기 위해 입주자 선정 가점항목 및 배점을 개편해 주거지원이 보다',\n",
              " '정부는 지자체의 무허가 축사 적법화 담당자가 행정집행을 하다',\n",
              " '하락한 순위인 7위에 올라 도 차원에서 경각심을 갖고 개선을 위한 노력이 필요하다는 지적이 이어지고 있다.',\n",
              " '대학 관계자들은 이러한 일들이 반복되지 않고 대책들이 만들어질 것이라고 강조했다.',\n",
              " '5·18역사왜곡처벌 광주운동본부가 5·18 망언을 일삼은 자유한국당 3인 국회의원들(김진태, 이종명, 김순례 의원)의 퇴출을 강력히 촉구했다.',\n",
              " '이날 15일 오후에 방송되는 생방송 오늘 저녁 1110회에서 나 혼자 간다',\n",
              " '남도일보 기고-인위적인 사고로 대형 인명·재산 피해가 발생되면 안전불감증이 불러온 대형참사 되풀이되고 있다.',\n",
              " '농협유통이 18개 납품업자와 제주옥돔세트 등 냉동수산품 직매입거래를 하면서 1억2천여만원 상당의 총 4천329건을 상품에 하자가 있다',\n",
              " '들어가는 비용과 비교해 실익이 없고 학교의 경우 교수 1인당 학생 수가 늘어나 각종 평가에서 불리한 요인이 될 있기 때문인것으로 보인다.',\n",
              " '15일 국무조정실 정부합동 부패예방감시단은 어업법인 운영실태 조사에서 수산보조금 위반 138건의 위반사례를 적발하고, 앞으로 분기별로 점검해 보조금을 보다',\n",
              " '한편 사전 붐업 조성을 위해 오는 4월28일 sbs 인기가요',\n",
              " '과일 품종 대다수가 일본 품종인 것으로 나타났다.',\n",
              " '공간의 화단에 금어초, 천일홍, 국화 등 가을 꽃을 심어서 주민들에게 쾌적하고 아름다운 공간을 제공할 것이다.',\n",
              " '올해 중·만생종 양파 생산량이 크게 증가할 것으로 예상되면서 농협 등 관련 기관들이 주요',\n",
              " '수원에서 14년 동안 해장국을 운영해온 이창성·양숙희 대표가 구 원당가든 자리에 ‘원당해장’을 개업했으며 가장 신선하고 맛좋은 고기를 제공하고 있으며 배추김치와 깍두기맛도 자랑할 만하다.',\n",
              " '상사화는 수선화과의 여러해 살이 식물로 꽃과 잎이 서로 달리 피고 지는 모습이 인간세계에서 서로 떨어져 사모하는 정인들과 같다',\n",
              " '부산광역시 해운대 경찰서는 온라인 게임에서 사기 행각을 벌이다',\n",
              " '쓰러진 노인(남,72세)을 역 직원이 응급구호 조치를 빠르게 실시한 덕분에 병원에 도착 후 뇌출혈 수술을 받은 뒤 좋은 경과를 내고 있다는 사실이 가족들의 제보로 뒤늦게 밝혀졌다.',\n",
              " '요구를 관철하기 위해 오는 9일 전국동시집회를 시작으로 23일 전국범국민대회를 통해 끝까지 투쟁할 것이다',\n",
              " '12일 남구는 \"산업통상자원부의 \\'2020년 에너지 복지사업\\'공모에서 3개 분야 사업이 선정돼 사업비 5억7천500만원을 확보했다',\n",
              " \"대한민국 대표팀으로 소집돼 U-20월드컵에서 한국 대표팀의 결승 진출을 견인한 국민영웅 이강인의 할머니 김영례씨는 '강인이가 초등학교 2학년 때 강진에 내려와 축구를 했었다'며 그때도 사람들이 '축구신동'이라고 말했다.\",\n",
              " \"박물관건립저지시민연합은 '친일파 박시춘을 중심으로 박물관을 건립하는 것은 사실상 친일 인사 기념관 건립과 마찬가지'라며 건립 계획을 즉시 백지화하라고 요구했다.\",\n",
              " '이빙 안전요원의 임무는 높은 곳에서 안전하게 연기하는 선수들에게 심리적 안정감을 주는 일이다.',\n",
              " \"한국방송진흥공사 대구지사, 대구지역방송사, 대구·경북광고산업협회에서 공동 주최하는 ‘2019 지역대학생 라디오 공익캠페인 COPY 대회’의 시상식을 지난 27일 열어 한국방송진흥공사 대구지사장, 대구·경북광고산업협회장 등이 참여한 가운데 대상작 '묻지 말고 믿어주세요', 최우수상작 '절대 포기하지 마세요\",\n",
              " '6중 추돌사고를 일으킨 김모(48) 씨를 교통사고처리 특례법 위반 혐의로 불구속 입건했다.',\n",
              " '일본 정보는 일본 전범 기업들에 배상을 명령한 작년 10월의 한국 대법원 판결과 관련해 1965년 체결된 한일청구권협정에 따라 배상 문제는 해결된 것이라고 주장하며 판결 이행을 거부한 채 지난 20일 한국 정부에 제3국 위원을 포함한 중재위원회 개최를 요청했다.',\n",
              " '이빙 종목에서 화려한 연기를 펼치며 각각 남자부와 여자부에서 우승을 향해 나아갔다.',\n",
              " '매년 여름 잠실 종합운동장과 같은 트렌디한 장소에서, 세계 1등 사이다',\n",
              " '광주문화예술회관 대극장에서 정기연주회를 개최한다.',\n",
              " '김영록 전남지사가 3차례 태풍후 피해 벼에 대해 철저한 품질관리를 부탁하였다.',\n",
              " '김성해 인천 연수구의회 의장이 지난 1년간 연수구의 미래를 책임질 다양한 사업이 차례로 시작되면서 연수구의 교통·교육·경제·문화 인프라가 확충됐으며 구민과 소통하고 공감하는 열정의회가 되도록 최선의 노력을 다하겠다',\n",
              " '밀양가요',\n",
              " \"'에서 민혁,민규, 신은수가 MC로 호흡을 맞추고며  몬스타엑스, SF9, 효민, 이달의 소녀가 컴백했다.\",\n",
              " '23일~24일 특별공급을 시작으로 25일 1순위 청약, 28일 2순위 청약을 받는다.',\n",
              " '밝히고, 소녀상 건립과 함께 한민족평화통일연구원장의 초청특강까지 진행할 계획이라 밝혔다.',\n",
              " \"지난 14일 서울 리베라호텔에서 열린 '2020 여자실업핸드볼 신입 드래프트'에서 광주시체육회는 사방 돌파 능려깅 탁월하다\",\n",
              " \"국내 최초 MCN 전문기업 트레져헌터는 5일, 3세대 모델인 '전문가 채널'을 런칭하며 김호인 변호사가 MCN 자문 변호사로 활약하다\",\n",
              " '사업계획을 꼼꼼히 짚어보며 새 출발각오를 다진다.',\n",
              " '아프리카돼지열병이 파주와 연천에 이어 김포에서도 발생하는 등 확산이 되자 평택시는 방역 관련 긴급회의를 열고 이종호 부시장은 사전예방을 위해 방역 수준 강화와 주요',\n",
              " '릴레이코스경기 등 여러 종목에서 4명이 출전해 창단 1년만에 전원 입상하는 쾌거를 거뒀다.',\n",
              " '21일 한국토지주택공사(LH) 경기지역본부는 건설 현장 내 재해요',\n",
              " '꼼꼼하게 살피기 위한 체력검정에 관한 업무협약을 체결하고 올해 하반기 공개채용부터 국민체육진흥공단이 발급하는 인증서를 활용한다고 31일 밝혔다.',\n",
              " '하남시 나룰도서관은 17일 오후7시에 <글쓰기의 최전선>, <글기의 말들>, <싸울 때마다 투명해진다>',\n",
              " '현대차는 10일 GM 및 BMW 등에서 전문적인 경력을 가진 서주호 디자이너를 현대디자인이노베이션실 상무로 영입한다고 발표했다.',\n",
              " '환경부가 제주를 제외한 전국 16개 시·도에서 미세먼지 특별법 시행 이후 처음으로 보다',\n",
              " \"'SBS 인기가요\",\n",
              " '인천시 옹진군은 도서지역 자립을 위한 도서특성화 사업을 진행하며 향토음식 및 지역 특산품을 개발하여 관광객과 섬 주민 모두에게 이익이 되는 일석이조의 사업을 활성화 할 수 있도록 지원하겠다',\n",
              " '여야 4당 원내대표는 공동 성명을 발표하면서 자유한국당을 향해 \"당장 내일이라도 5당 원내대표 회동을 제안한다',\n",
              " '포스코가 사회공헌 분야에서 기업시민 봉사상을 신설해 여러가지 평가요',\n",
              " '미중 무역전쟁 여파와 일본의 수출 규제 등 악재 속에서도 주요',\n",
              " '회고전 9편의 영화가 오는 5~6일 광주시 동구 광주극장에서 개최된다.',\n",
              " \"지난해 개봉한 영화 '7년의 밤'은 '나는 내 아버지의 사형 집행인었다\",\n",
              " '전남대학교는 1980년 시민군으로 활동하다',\n",
              " '신인 걸그룹 ITZY(있지)가 기존 K-팝의 형식을 깨고 새롭게 제작한 퓨전 그루브 장르의 타이틀곡 ‘달라달라’로 가요',\n",
              " '군위군은 주요',\n",
              " '고장 순천시 월등면에서 ‘제16회 순천명품 월등복숭아 체험행사’가 3일과 4일 이틀 동안 월등면행정복지센터와 월등초등학교에서 개최되며,  MBC가요',\n",
              " '농식품부는 했다고 14일 밝혔다.',\n",
              " \"예산군에 따르면 장애인에 대한 인식 제고와 사회 참여확대로 재활의욕을 고취하고 장애인과 비장애인이 함께하는 사회 통합분위기를 마련하기 위해 '제39회 충남 장애인의 날' 기념식과 15개 시·군을 대표한 장애인들이 참여하는 장애인가요\",\n",
              " '내용으로 하는 가축전염병 예방법 시행령이 개정돼 7월 1일부터 구제역 백신접종을 하지 않은 농가는 구제역 발생 시 보상금을 한 푼도 받지 못하는 등 강력한 불이익을 받는다.',\n",
              " '등 비하 발언의 수위가 상당히 심해 많은 팬들의 항의가 이어지자 출연진들은 그제서야 사과를 하였다.',\n",
              " '코너를 통해 국내에서 가장 큰 섬제주도의 숨은 명소인 황우지 해안, 거문오름, 오리백숙 등이 공개 된다.',\n",
              " '광양시가 취약계층 방문건강관리서비스를 강화하였다.',\n",
              " '손녀가 명문 대학을 입학한 기념으로 다닌 학교에 장학금을 전달한 기부 사연이 잔잔한 감동을 주고 있다.',\n",
              " '지난 10일 해남군은 15억원을 투입해 군청사 신축 공사와 연계한 해남읍성 복원과 주변 정비사업을 착공하여 해남읍성을 지역의 역사문화 랜드마크크로 복원한다',\n",
              " '\"고 말하였다.',\n",
              " '이빙 경기장 등 주요 시설을 방문하는 팸투어를 실시했다.',\n",
              " \"등 여러 베스트셀러를 집필한 은유 작가를 강사로 초청해 ‘이해와 공감의 글쓰기’라는 주제로 '제46회 나를 찾는 삶의 인문학' 강연을 진행한다.\",\n",
              " \"인천시교육과학연구원이 개최 한 학생대상 '2019 인천시 과학동아리 활동 발표대회'의 참가팀들은 대회 참가를 통해 팀원들과 협업하는 과정과 과학진로 역량을 기를 수 있는 기회가 되었다고 얘기했고, 관계자는 과학 관련 동아리 활동을 더욱 활성화 시킬 수 있도록 지속적인 노력을 하겠다\",\n",
              " '이번 광주세계수영대회에서  하이다',\n",
              " '\"고 밝혔으며 이에 따라 남구는 내년부터 취약계층 1천90세대를 대상으로 에너지 복지사업을 본격적으로 펼칠 계획이다.',\n",
              " '순천시는 국민적 관심도를 높이고 특별법 제정을 촉구하기 위해 10월 19일 여순사건을 주제로 하는 전국창작가요',\n",
              " '지난 30일 방송된 고품격 토크쇼 MBC ‘라디오스타’에 출연해 “진정한 나를 찾고 자유롭게 살고 있다” 고 근황을 밝힌 오정연은 내가 진짜 뭘 하고 싶었지 생각하다',\n",
              " \"국립남도국악원은 3일 오후 7시 국립남도국악원 진악당에서 국악연주단의 '국악의 향연' 공연을 선보일 예정인데, 노래·춤·악기의 조화를 이뤄 구성될 본 공연은 무료로 진행으로 공연 당일 오후 6시 20분 진도읍사무소, 6시 35분 십일시 사거리에서 무료 셔틀버스도 운행된다.\",\n",
              " \"세종 조치원 봄꽃축제가 '청춘만발-조치원의 봄, 문화의 꽃을 피우다'를 주제로 4월 6일부터 7일까지 이틀간 조치원역과 중심가로, 조천변 일원에서 성대하게 열리며 벚꽃과 복사꽃을 배경으로 마련된 4개의 테마공간에서 개막 축하공연과 미디어 불꽃쇼, 봄꽃가요\",\n",
              " \"사망사고를 일으킨 10대 운전자에 대한 첫 공판이 17일 열리며, '대전 머스탱 사고'로 알려진 이 사건은 무면허로 머스탱 차량을 운전하던 A(17)군이 지난 2월 중구 대흥동에서 연인 관계에 있던 B씨와 C씨를 덮쳐 1명이 숨지고 다른 1명은 중상을 입은 사고로 이번 공판은 대전집버 형사6단독(부장판사 믄홍주)으로 진행될 예정이다.\",\n",
              " '이빙은 단순히 경기를 넘어서 역동적이고 예술적인 모습이 포착되는 종목이어서 관객들의 시선과 탄성을 자아낼 것으로 보인다.',\n",
              " \"소에 선제적으로 대응하고 안전사고 발생 시 즉각 조치가 가능하도록 'LH 안전 휘슬 제도'를 시행한다고 밝히고 건설 현장 내 모든 근로자의 안전모에 부착이 가능한 형태로 지급한다고 했다.\",\n",
              " '일반사람들이 생각할수 있는 그런 말들을 콕 집어서 말한 거 같아 캐사이다라는 엇갈린 반응에 대해 사과했다.',\n",
              " '적발됐으며 이에 감사원은 변칙 적립 용도로 사용한 보험금을 세입처리하라고 요청했다.',\n",
              " '암세포가 전이되어 향년 59세의 나이로 별세했다.',\n",
              " '’, ‘죽겠다',\n",
              " '충청북도는 지역실정에 맞는 외국인 환자 유치사업 역량 강화 및 지자체별 특화 의료기술 발굴·지원을 위해 보건복지부에서 공모하여 국비 7500만 원을 확보하여 지역 특화 의료기술 발굴·강화하였다.',\n",
              " \"29일 KBS '오늘밤 김제동'에 출연한 전 수영 국가대표 장희진 선수는 2000년 시드니 올림픽을 앞두고 중학생때 대표선수로 선발된 후, 중간고사를 위해 선수촌 밖에서의 훈련을 요구하다\",\n",
              " '신규시책93건 역점시책 142건이 나왔으며 이번 보고회에서 제안된 사업을 토대로 보완, 수정을 거쳐 예산안 편성과 주요업무계획에 반영할 방침이다.',\n",
              " '정치와 체육을 분리하는 내용을 골자로 한 국민체육진흥법 개정안이 올 연말 시행될 예정인 가운데 시민구단인 대전시티즌도 같은 맥락에서 인사가 이뤄져야 한다는 의견이 나오고 있다.',\n",
              " '태풍 다나스가 북상함에 따라 영향권에 들 것으로 보여 2019광주세계수영선수권대회 조직위원회는 21일 태풍이 지나갈 때까지 열리는 오픈워터수영과 수구, 하이다',\n",
              " '현안 예산 24건, 921억원의 국고 예산을 확보한 것으로 집계됐다고 밝혔는데, 이 중 지역 주도형 청년일자리 사업 100억원, 희망근로 지원 19억원 등 전라남도의 청년 일자리 창출 및 고용위기 극복을 위한 현안 사업비가 대거 반영됐다.',\n",
              " '경찰서를 찾았고, 경찰은 DNA 감식 과정에서 검출된 결과와 A씨의 몸에 있는 문신 모양에 대한 성폭행 피해자의 진술을 통해 A씨의 자백을 받아냈다.',\n",
              " '\\ufeff태안군이 10일자로 신속민원처리과 신설 등을 주요',\n",
              " \"'고 발표하였으나, 한림면 주민자치위원장은 주민과 근로자가 심각한 피해를 입고 있다며 당장 개통할 것을 요청했다.\",\n",
              " '이빙 종목이 지난 22일부터 24일까지 진행됐으며, 팬들에게 큰 볼거리를 제공해 흥행몰이에 성공했다.',\n",
              " '이 장치는 100kW미만의 소규모 태양광 발전소와 연계할 수 있으며, 일반적인 배터리룸보다 외부 기온에 영향을 받지 않고  최적의 성능을 유지할 수 있는 장점이 있다.',\n",
              " '완도군은 직장운동경기부 운영을 활성화시키고 선수들의 경기력 향상을 위해 완도 체육공원 내에 6억원의 사업비로 역도훈련장을 신축, 이달부터 운영에 들어가는데, 군에 입대하는 이양재와 전직을 위해 사직한 이상혁의 공백을 메우고 팀 전력을 보강하기 위해 신비(19), 최가연(23) 등 2명을 영입하며 \"훌륭한 선수들이 보강된 만큼 선수들이 최고의 기량을 발휘할 수 있도록 각종 지원을 아끼지 않겠다',\n",
              " \"신안군은 덴마크형 사회교육 모델인 '인생학교'를 도초도의 옛 서초등학교에 열었고 신안군수를 통해 '세상의 거친 풍파로 잃어버린 희망 등을 다시 내 안에서 찾을 수 있다.' 며 소개되었다.\",\n",
              " '학위 취득 유예제가 감소하고있다.',\n",
              " \"광주상공회의소가 지역 134개 제조업체를 대상으로 ‘3분기 기업경기전망지수’를 조사한 결과, 2분기(130개사 대상)보다 ‘악화’될 것으로 전망한 업체가 33.6%(45개사)로 전분기 (24.6%, 32개사)보다 증가하고, '신규채용 계획이 없다\",\n",
              " '보건복지부의 국민건강 보험법 및 의료금여법 시행령 일부개정령안이 국무회의에서 의결되어 의료계의 반발을 샀던 추나요',\n",
              " '함씨와 관련된 사람들은 죽거나 사라졌고 빚 독촉에 시달리는 경우가 많았으며 방송을 본 누리꾼은 해당 의혹에 대한 수사를 촉구했다.',\n",
              " '1989년 태안군으로 복군된지 30주년을 맞아 군민과 함께 미래 비전을 공유하여 더 찬란한 천년 태안을 만들어 갈 것을 다짐하는 마음으로 복군 30주년 기념 행사를 준비하고 있다.',\n",
              " '현 선수에게 승리하며 2년 연속 천하장사의 자리에 올랐다',\n",
              " '이 서비스는 독거노인 등 폭염 취약계층의 건강한 여름나기를 지원하는 제도이다.',\n",
              " '매일같이 일만 하다',\n",
              " '소로 인해 물갈이 대상을 의도적으로 컷오프를 할 수 있다는 분석이다.',\n",
              " '던 1심 판결을 뒤집고, 임금을 목적으로 기관에 종속적인 관계에서 근로를 제공했다고 볼 수 없다며 원고 패소 판결했다고 밝혔다.',\n",
              " '13일 시교육청에 따르면 교실 공기 질 개선을 위해 겨울방학기간 36억원, 올해말까지 168억원을 투입해 대구 유.초.중.고.',\n",
              " '프로축구 K리그2 전남 드래곤즈가 지난 19일 전남 광양전용구장에서 아산 무궁화와의 경기에서 브루노 바이오의 대뷔골과 정재희의 쐐기골을 앞세워 2대0 승리를 거뒀다.',\n",
              " '전남 신안군은 임자도에서 7일부터 이틀간 깡다리 축제를 열어 깡다리요리 및 시식회, 젓갈 담그기, 가요',\n",
              " '장마철에 접어들면서 고온다',\n",
              " '벡스코는 25일 글로벌 전시회 육성과 혁신 경영을 추진한다',\n",
              " '경기대회와 함께 목재체험부스가 진행됐다.',\n",
              " '지 강사와 고아름 강사가 교재 도용 문제로 설전을 벌였는데 이 강사는 고 강사가 학생들에게 제공한 연표를 제시하면서 오탈자 표기된 것까지 똑같다고 했다.',\n",
              " '관광안내소와 협력체제를 구축하고 발로 뛰는 관광마케팅을 시작했다.',\n",
              " '미세먼지가 주요',\n",
              " '학생들의 경우 졸업을 늦춰봤다',\n",
              " '꼬리 회전날개와 물주머니가 충돌하며 조종 불능 상태를 맞은 것이 원인이 된 것으로 밝혀졌다.',\n",
              " '여자 같다',\n",
              " '17일 인천시청 브리핑룸에서 기자회견을 열고 석탄발전 폐쇄 로드맵을 제시해야 한다고 촉구했다.',\n",
              " '온주아문 가족애 통통캠프 등을 운영한다.',\n",
              " '청양군은 백제문화체험박물관에 있는 일제에 항거하다',\n",
              " '가맹사업진흥법 개정으로 가맹사업 기본계획 및 실행계획을 추진하는 실태조사 범위가 산업재산권에서 지적재산권까지 넓어짐에 따라 가맹업계에서 종종 이뤄졌던 상품 카피가 더욱 면밀히 관리되는 등 지적재산권이 보다',\n",
              " 'MBC 새 월화드라마 ‘아이템’의 제작발표회에서 배우 주지훈이 \"“감독님이 적토마 같다고 해서 이게 욕인지, 칭찬인지 한참 헷갈렸다.',\n",
              " \"아산시는 '2019년 생생문화재 공모사업'에 선정되어 온주아문에서 관야유적을 기반으로 만든 문화재 체험프로그램 '온주아문 다시 수락하다\",\n",
              " '옥천군에 따르면 올해를 관광옥천 도약의 원년으로 선포하고 지역관광지 알리기를 추진하며 그 일환으로 주요',\n",
              " '사업으로 추진하고 있는 치유의 숲 사례지를 둘러보고자 숲속에서 진행되는 체험프로그램을 찾아 밀양, 울산, 부산을 한 바퀴 돌아보다가 산림청에서 추진하는 치유의 숲 프로그램이 전통사찰과 그 주변에서 우리가 무심코 해왔던 행동들과 크게 다르지 않다는 것을 깨달았다.',\n",
              " '경기장, 관광지를 안내하는 표지 및 대중교통 안내가 없어 불편을 호소했다.',\n",
              " '과제로 논의했다.',\n",
              " '이에 광양시에서는 폭염으로 인한 시민들의 불편을 최소화하기 위해 지난해에 이어 도시공원 분수 시설 운용, 그늘막 설치 등을 확대하고 있다.',\n",
              " '복싱의 대중화를 위해 Y복싱클럽을 열고 일반 시민들에게 복싱을 지도해오다 이번에 제22호 당찬사람들로 선정되었다.',\n",
              " '보니 주위 시선에 신경을 안 쓰고 \"직접 지원을 해서 면접을 보고 카페 아르바이트를 하게 되었다\"고 말했다.',\n",
              " '23일 전남도에 따르면 살처분보상금 감액과 과태료 상향 등을 주요',\n",
              " '부산에서 경찰의 대대적인 단속에도 불구하고 장거리 승객이 몰리는 주요',\n",
              " '관광지 18개소에 무료와이파이를 구축하여 관광객의 관광정보 서비스 이용에 편의를 제공할 예정이다.',\n",
              " '창원시는 벗꽃 개화가 예년에 비해 빨라진다는 예보에 군항제 공식 일정이 시작되기 전인 25일부터 주요',\n",
              " 'SK텔레콤과 연세대학교 의료원은 주요',\n",
              " '당진시가 당진시장의 100개 공약에 대한 평가와 주요',\n",
              " '2017년 헝가리 부다페스트대회 하이다',\n",
              " '이런 보복운전 뵘죄는 특정인을 자동차로 위협하거나 진로방해 고의 급제동, 폭행, 협박 등을 일컫는 것으로 보복봄죄 근절을 위한 제도적 개선이 필요하다.',\n",
              " \"태안군은 지난 29일 군청 대강당에서 관계자 170여 명이 참석한 가운데 교육 발전과 학생들의 올바른 성장을 위하여 '태안군 사랑 장학회 2019년 장학증서 수여식'을 가졌으며 이날 장학회는 엄격한 심사를 거쳐 선발된 초.중.고.\",\n",
              " '전남 순천경찰서는 도피생활 중 중국 본사 책임자와 연락하며 도박사이트를 새롭게 개설해 운영하다',\n",
              " '지난 수년간 산림청에서 주요',\n",
              " '온 사실이 함께 배치된 교육부 파견 중앙협력관의 제보로 드러나 교육 당국이 감사에 들어가 해당 행위가 근무 태만에 해당하는 것으로 보고 징계의결 요구 수위를 검토 중이다.',\n",
              " '\"고 강조했다.',\n",
              " \"한국무역협회 인천지역본부는 '일본 수출규제 대응 및 통상전략 2020 설명회’를 개최하여, 유관기관과 사전 대응 및 피해 기업에 총력을 기울이고 있다\",\n",
              " '제 식전공연 등 50여개의 다채로운 행사를 포함하여 23일~26일까지 단양읍 상상의 거리와 소백산 일원에서 화려한 막을 올린다.',\n",
              " '2012년부터 회장으로 일해온 한숙자씨는 엄마들이 아이들보다 먼저 지치지 않는 것이 가장 중요하다고 말하고 있다.',\n",
              " \"제조 회사인 '댄싱사이더 컴퍼니'가 농림축산식품부의'2019년 농업과 기업 간 연계강화사업'대상으로 선택됐는데, 이 회사의 애플사이더는 생사과즙을 발효시켜 사과 본연의 맛을 담은 사이다\",\n",
              " '매년 해외 어린이들에게 나눔의료를 시행하는 경북대병원이 소아청소년과 김여향 교수의 제의와 경북대병원 공공보건의료사업실 주관으로 지난 4월 17일 2016년 카자흐스탄 선천성 심장병 해외의료봉사 대 수술을 했던 아이다',\n",
              " '주말리그에서 선수들의 자신감있는 플레이로 12연승을 했고.',\n",
              " '습한 날씨가 이어질 것으로 예상됨에 따라 음식 적게 조리해 바로 먹기, 어패류 반드시 익혀먹기, 청결한 손씻기 등으로 식중독 예방에 신경써야한다.',\n",
              " '강화군은 돼지열병으로 입은 피해를 복구하기 위해 관광객 유입 홍보와 다방면으로 대책을 강구하고 있으나, 인접지역 김포시의 방역활동으로 인해 피해를 받고 있어, 이에 김포시 축산팀에서는 ASF 업무 매뉴얼 지침에 따라 방역을 하고 있다',\n",
              " '숨진 4살 어린이를 양육한 부모가 학대 혐의로 처벌받은 적이 있고 피해 어린이의 야윈 몸과 여러 상처로 미루어 봤을때 열약한 가정환경에서 지속적으로 학대를 당했을 것으로 판단할 수 있다.',\n",
              " '일흔이 됐을 무렵 치매 위험 진단을 받은 박막례 할머니를 위하여 손녀는 함께 떠난 여행에서 찍은 영상을 유튜브에 올렸고 그 영상들의 인기가 나날이 높아지며, 할머니의 인생은 완전히 달라졌다.',\n",
              " '순천에 터를 잡고 살게 된 이야기를 공모전을 통해 모으고, 옛 선조인 입향 성씨(入鄕 姓氏)에 대한 내용으로 함께 구성한 ‘순천에 뿌리내린 사람들’이라는 정착 사례집을 발간했는데, 순천 방문의 해를 맞아 전국의 관계 기관, 도서관 등에 배포될 예정이다.',\n",
              " '’는 응답도 66.4%(89개사)에 달하는 등 BSI(기업경기실사지수, 기준치=100) 전망치가 2분기보다 19포인트 하락한 ‘87’로 집계됐다.',\n",
              " '당정청은 27일 열린 고위 당정청 협의회에서 제사용품 등의 가격 안정을 꾀하고, 전통시장 가을 축제 및 특산물 할인, 소상공인·저소득층 맞춤형 지원에 주력하는 등 추석 민생안정 대책을 주요',\n",
              " \"3일 프로텍트엠이 일반 액정 보호 필름과 다르게 온스크린 지문인식에 대응할 수 있도록 제작한 '갤럭시S10 시리즈 전용 강화유리'와 '보호필름' 14종을 출시한다\",\n",
              " '효과적으로 사용할 수 있도록 하겠다고 전했다.',\n",
              " '충주 중원 문화재단이 지난 8일 기존 이사들에게 카톡 메시지를 통해 11일까지 등기 동의서를 요구하는 등  신임 이사에 대한 서류 추인을 무리하게 강행하다',\n",
              " ':고 말했다.',\n",
              " \"'라는 주제로 교사, 학생, 학부모, 지역활동가 등 100여 명이 지역 교육 현안의 정책과제 도출과 발전 방안에 대해 열띤 논의를 하였다..\",\n",
              " '이빙 최종전에서 호주의 이프랜드가 금메달을 차지해 여자 하이다',\n",
              " '이빙 최강자임을 다시 한번 입증했다.',\n",
              " '한국산업인력공단 부산지역본부는 산업인력 양성을 위해 지역 산업계와 연계하여 기능 인력 양성 등 다양한 사업을 성공적으로 수행하고 있다.',\n",
              " '”라고 반문하면서 기업의 기(氣)를 북도우는 정책을 추진해 국가 경제회복에 앞장서야 한다”고 주장했다.',\n",
              " '코너를 통해 거제 여행을, 가화맛사성 코너를 통해 52년 전통, 홍어 한상 맛집을 소개한다.',\n",
              " '·인도에 의류·신발·책가방 등 기부운동을 시작해 눈길을 끌고 있다.',\n",
              " '조선대 지식경영연구원은 21일 오후1시 경상대학 2층 경영산학관에서 세미나를 개최한다.',\n",
              " \"'며 대통령의 정쟁 몰두식 인식전환을 촉구하며 470조의 슈퍼 예산을 편성해놓고도 1.5%도 안 되는 재난 추경을 내세우며 총선용, 현금살포용인 추경이 통과되지 않아 큰일이 날 것처럼 말하고, 6조 7천억 원의 추경이 없어 정책적 대응이 안되는 수준이라면 정부가 실력이 없는 것이다.\",\n",
              " \"부산시의 '낙동강 하굿둑 운영개선 및 생태복원방안 연구' 용역 수행을 위해 낙동강 하굿둑 수문을 시범적으로 열기로 했는데, 이로 인해 취수원에 해를 끼칠 수 있다는 이유로 경남과 울산시가 걱정을 표하고 있다.\",\n",
              " '지난 26일 인천공항 제2여객터미널 입국불허자 대기실에 대기 중이던 러시아인, 우즈베키스탄인, 카자흐스탄인 등 3명이 공항 화장실 환풍구로 밀입국을 시도하다',\n",
              " '수출국에 대한 판촉 지원과 소포장 판매 등 수출 확대 방안을 논의했다.',\n",
              " '태안군이 민선7기 주요 사업을 추진하고 정부예산을 확보하기 위해 8일 군청 중회의실에서 주요',\n",
              " '구체적이고 체계적으로 대책을 마련했다고 말했다.',\n",
              " '슬기 40만마리를 방류하는 등의 노력을 통해 하천생태계의 보전과 자원회복을 도모했다.',\n",
              " 'EBS에서 유명세를 치른 뒤 현재 메가스터디에서 활동 중인 이다',\n",
              " '카타르 기업대표와 총 150만불의 수출 협약을 체결하고 고흥 농수특산품 수출 및 판매 확대를 위해 상호 간 적극 노력하기로 합의하여 앞으로 수출 확대를 도모할 수 있는 좋은 기회가 될 것으로 기대하고 있으며, 몽골.체코 등 신규 수출 채널 확대에 대비해 수출경쟁력 강화에 힘쓰겠다고 밝혔다.',\n",
              " '보성군 벌교읍 산불진화헬기 추락 사고가 헬기 매뉴얼 규정보다 1m이상 긴 물주머니를 사용하다',\n",
              " '청담동 주식부자 이희진 씨의 부모를 살해한 김씨는 이희진 씨의 동생 이희문씨가  부가티를 판 대금 중 부모에게 전달된 5억원을 훔친 것으로 드러났다.',\n",
              " '\"고 소감을 밝혔다.',\n",
              " '국제수영연맹이 주관하는 하이다',\n",
              " '학대 행위자가 친족이라는 점을 기억하고 존중받아야 할 노인의 노후를 위해 사회적 관심이 절실하게 필요하다.',\n",
              " \"이는 농협이 보급한 '스페인 종자'의 '대서 마늘'품종에서 발생하는것으로 보인다.\",\n",
              " '그룹 아이콘이 오는 7일 발표하는 리패키지 앨범의 트랙리스트를 공개하였으며, 엘범에는 신곡 ‘I’M OK’와  ‘사랑을 했다',\n",
              " '대전에서 무면허 운전을 하다',\n",
              " '사고를 낸 러시아인 선원 P씨를 불구속 입건했고, 앞으로 에이전시를 통하여 P씨를 소환해 정확한 사고 경위를 조사할 예정이다.',\n",
              " '결혼 후 30대 초반 다소 늦은 나이에 신학을 배우며 목회활동을 시작한 송악읍 고대리에 위치한 고대감리교회 성일용 담임목사는 1997년 당진시대에 종교칼럼 필진으로, 글을 쓰면서 당진시대와 인연이 닿았다.',\n",
              " \"' 고 했다.\",\n",
              " '사업으로 지역화폐, 일자리 창출 등을 꼽았다.',\n",
              " '현안들인 영 호남 관광교류활성화, SOC 분야 공동 협력, 그리고 세계수영선수권대회 홍보 협조를 위해 지자체 간의 상호 협력을 도모하는 시간을 가질 것으로 보여 이들의 결과물에 많은 관심이 쏠려 있다.',\n",
              " \"농촌지역 인구가 고령화하면서 농·어·임업 활동을 포기하거나 아예 업종을 바꾸는 전국적인 추세에 따라 '2018 농림어업조사' 결과에서 충남지역 농가는 12만 3000가구로 전년 12만 6000가구 대비 1.9% 줄었으며 어가, 임가도 일제히 감소한 것으로 나타났다.\",\n",
              " '광주 동성고가 황금사자기에서 질주를 이어간다.',\n",
              " \"20일 한국서부발전은 미국 전력연구소(EPRI) 및 현지 발전사들과 '글로벌 정비관리 플랫폼(Global PM 플랫폼)'을 개발 중이라고  밝혔는데, EPRI의 정비기준 개발 전용 시스템 PMBD와 서부발전의 현장 정비관리 전용 시스템 WP-PM을 연계해주는 역할을 할 이 Global PM 플랫폼을 2020년까지 개발 완료할 예정이라고 한다.\",\n",
              " \"사단법인 한국미술협회에서 주최하고 대한민국 미술대전 비구상·구상부문 운영위원회에서 주관하는 행사인 '제 38회 대한민국 미술대전'에서 구상부분(한국)에 금호동 주민 자치센터 한국화반 수강생들이 대거 입상했다.\",\n",
              " '가정의 달 5월을 맞아 영동천 하상주차장에서 브랜드 이미지를 높이기 위해  MBC 가요',\n",
              " '경기도교육청은 원아 수 200명 이상의 대형 유치원 120곳을 대상으로 진행한 감사 결과, 처분이 확정된 유치원 수원 6곳, 김포 4곳 등 20곳의 명단을 공개하고 세금 탈루가 의심되는 19곳을 국세청에 통보할 것이라고 밝혔다.',\n",
              " '지쳐버려 넉다운되는 모습을 방영했다.',\n",
              " '이용섭 조직위원장은 “광주가 이번 세계수영선수권대회를 통해 FINA와 뜻깊은 인연을 맺게 돼 더없이 기쁘다”면서 \"저와 150만 고 밝혔다.',\n",
              " '한국민화디자인센터와 다겸아트컴퍼니가 기획한 ‘한국을 담은 민화 특별전, 한국을 담은 한복전’이 오는 28일까지 하이다',\n",
              " '삼성전자는 20일 서울 서초사옥 다목적홀에서 1000여 명이 참석한 가운데 ‘제50기 정기 주주총회’를 개최했으며 김기남 대표이사는 체질개선을 통한 내실 강화를 추진하겠다',\n",
              " '광주 도구가 2020년 신규 역점시책 보고히를 개최했다.',\n",
              " '도교육청 정책기획관은 22일 브리핑룸에서 출입기자들을 대상으로 정책에 대한 이해도를 높이고자 여러 관계자들이 모인 자리에서 정책기획관 설명회를 열고 올해 추진하는 주요',\n",
              " '효과적인 대응을 위한 업무협약을 체결했다고 29일 밝히고 오는 8월 8일 관내 지역아동센터 아동들과 캐리비안베이 여름나기 행사를 시작으로 지역민들의 다양한 활동에 적극 협력하기로 했다.',\n",
              " '내년부터 서울 초등학교 3학년생과 중학교 1학년생은 3월 중 표준화된 도구로 기초학력진단평가를 받아야 하며, 초등학교 3학년행은 읽기.쓰기.셈하기능력, 중학교 1학년생은 해당 능력에 국어.',\n",
              " '2019광주세계수영선수권대회 기간 중 조선대학교에서는 수영대회의 ‘백미’인 하이다',\n",
              " '아프리카 열병이 퍼지면서 삼겹살의 가격이 오르는 데다',\n",
              " '수업을 진행할 예정이다.',\n",
              " '서울시는 9·19 평양체공동선언 1주년을 기념해 강화군·옹진군·서울시·김포시·파주시·연천군·철원군·화천군·양구군·인제군·고성군 등과 국내 평화관광 활성화를 위한 상생협력 업무협약을 체결했으며, 지자체간 교류 협력 강화, 평화 관광 공동 프로그램 개발, 홍보 마케팅 활성화 등을 주요',\n",
              " '결과는 25일 수험생에게 통보될 예정이며, 성적통지표에는 영역, 과목별로 표준점수, 백분위, 등급, 영역별 응시자 수가 표시된다',\n",
              " '지난 24일 인천국제공항에서 입국사유 불분명으로 입국이 거절돼 송환대기 중이던 외국인 3명이 입국장 화장실 천장을 열고 환풍구 통로로 밀입국을 시도하다',\n",
              " '지명수배된 20대 A 씨를 편의점에서 상습적인 절도 혐의로 구속했다고 21일 밝혔다.',\n",
              " '법 치료에 회당 1만∼3만원의 본인부담금을 지불하고 연간 20회까지 받을 수 있다.',\n",
              " '노인 배식 도우미 자원봉사를 진행하다',\n",
              " '허재영 총장은 심야학습 등의 공직 진출을 위한 다양한 프로그램을 지원해 실질적 결실을 맺고 있는 충남도립대학교가 2018년 공무원 임용에 최종 45명 합격하며 개교 이래 총 752명의 공직자를 배출했다고 밝혔다.',\n",
              " '특히, 일-학습병행제도와 지역ㆍ산업 맞춤형 인력 양성체계는 산업계의 호평을 받고 있다.',\n",
              " '이번 광주수영세계선수권대회에서 최고 관심종목인 하이다',\n",
              " \"'로 인기를 얻은 1세대 외국인 방송인 브루노와 보쳉 그리고 김장훈, 임은경이 출연했다.\",\n",
              " '해상교량의 점검에 안전성과 효율성을 높일 첨단장비가 투입돼 인력으로 고소작업에 의존하던 기존 방식에서 벗어나 보다',\n",
              " '현안들에 대해 보고 받고, 북러간 회담에 관심을 가질 예정이다.',\n",
              " '인천에너지전환네트워크는 인천시에 수도권 전력 소비의 20%를 맡는 영흥 석탄발전소가 2017년 기준 온실가스 3천196만7천t을 배출했으며, 이외에도 미세먼지, 해양에 배출하는 온배수 등으로 인근 주민과 해양생태계에 피해를 줘 석탄발전 폐쇄 로드맵 수립을 촉구했다.',\n",
              " \"과천시 김종천 시장은 지난 20일 시청 대강당에서 과천시와 안양과천교육지원청이 공동 개최한 '2019 혁신교육포럼'을 통해 모아진 다양한 의견들은 과천시 교육지원사업의 기본 방향에 반영하겠다고 말했고 포럼에서는 '온 마을이 함께 꿈꾸는 행복한 과천교육, 어떻게 실현할까?\",\n",
              " '2~3배 이상 수익이 늘었다고 말했다.',\n",
              " '현장방문, 조례 심의, 경주시의 올해 주요업무에 대해 보고받고, 주요 조례안을 심의하며 시민들의 의견을 최대한 시정에 반영하기 위해 노력하고 있다.',\n",
              " \"국비 사업의 심의 대응을 위해'2020 국비확보 지역 국회 보좌진 간담회'를 열어 실무 차원의 협조와 정보 공유를 할 예정이다.\",\n",
              " '사이다',\n",
              " '\"고 밝혔다.',\n",
              " '운 삶, 공존의 시대라는 주제로 진행된 제10회 전국 기초단체장 매니페스트 우수 사례 경진대회에서 시흥시가 지역사회 건강한 놀이문화 확산이라는 주제로 시흥 캠페인을 전개하면서 지역 문화 활성화분야 최우수상을 수상했다.',\n",
              " '최근 10년 동안 폭염과 열대야 지속일이 갈수록 증가하고 있는 가운데 폭염특보가 20일 이상 지속중이다.',\n",
              " '법 시범사업과 첩약 급여화 시범사업에 많은 재정이 소요되었다는 등의 우려를 낳고 있으며, 국민 건강에 대해서는 감성적으로 접근해서는 안된다는 의견이 나오고 있다.',\n",
              " '대전시 관계자는 \"정치인은 후임 대표이사 인선 원칙에 맞지 않고 경영 능력에 무게를 두고 인물을 물색 중\"이라고 말하며 후임 대표이사 인선 하마평을 두고 곱지 않은 시선을 내보이고 있다.',\n",
              " '17일 이영성 한국일보 편집인에 의하면 세월호 유가족을 향해 논란의 글을 올렸다',\n",
              " \"정부는 대학별로 입학정원 감축을 자율화 했으며 적정 정원 수준으로 입학생을 줄인 대학을 '일반재정지원대학'으로 선정하겠다\",\n",
              " '금지법을 지난 12일 발표해 11인~15인승 승합자동차를 임차할 때에는 단체관광이 목적인 경우에만 운전자를 알선할 수 있도록 규정했다.',\n",
              " '6주만에 상승하며 1천506.25원을 기록했다.',\n",
              " '미로와 카페 하인츠는 감각적인 콘테이너 하우스로 지어져 관광객들을 초대하고 있다.',\n",
              " '슈퍼콘서트를 준비 중이다.',\n",
              " '추락해 의식불명에 빠진 박준혁 씨의 사연이 알려졌는데 관광회사 측은 박씨가 안전지시를 따르지 않았다고 주장하는 반면 박씨 가족들은 평소 신중한 성격의 박씨가 안전지시를 따랐을 것이라는 주장을 하고 있으며 이 같은 사연이 담긴 국민청원에 22일 현재 1만1600여 명이 동의했다.',\n",
              " '현장들을 직접 방문한 소셜미디어 기자단의 노력으로 지역경제에 활력을 불어넣고 있다.',\n",
              " \"'웰다잉 전문 지도자'교육은 고령화시대에 맞춰 건강한 노후를 추구, 삶의 가치 및 생명존중 문화 확산을 통한 건강한 지역사회를 구현하기 뒤한 직원 연량 강화 교육이다.\",\n",
              " '자유한국당과 바른미래당은 더불어민주당이 손 의원을 둘러싼 부동산 투기 의혹에 대해 진실 규명을 가로막아 왔다고 주장하며 민주당과 여권을 비난 하고 국정조사를 해야 한다',\n",
              " '총상을 입고 사망한 고 유영선씨의 명예졸업증서를 유족 고인의 형수 신애덕씨에게 2018학년도 전기학위수여식에서 전달했다.',\n",
              " '또한, 김 후보자의 경영능력에 대한 의문도 제기됐다.',\n",
              " '이빙 경기가 36명의 선수가 출전한 가운데 22일부터 24일까지 사흘간 조선대학교 경기장에서 진행된다.',\n",
              " '광주시가 차세대 지능형 교통시스템 실증사업의 일환으로 오는 2021년까지 주요',\n",
              " '말했다.',\n",
              " '사랑방좌담회 도입,열린 청원제도,기초단체 매니페스토 우수사례 등이 평가를 받았고 정부혁신 평가에서는 전남에서 유일하게 총리상의 영예를 안았다.',\n",
              " '구간에 대해 범죄예방협의체 회의를 개최하고, 시민방범단체와 맞춤형 순찰을 실시할 예정이다.',\n",
              " '지난해 반등했으며 수입차 대비 비중도 높아질 전망이다.',\n",
              " \"지난 9일부터 12일까지 대구 엑스코에서 개최된 영남권 최대 규모의 토털 전시회 ‘2019 더 빅페어(THE BIG FAIR)’가 '없는 것 빼고 다 있다\",\n",
              " '11일 여수시의회에 따르면 지난해 7월 9일 개원한 제7대 여수시의회는 1년간 46건의 조례안을 발의하며 개원 후 어느 때보다도 적극적인 의정활동을 한 것으로 전했으나 다만 위원회 구성과 주요',\n",
              " '대구는 19일 DGB대구은행파크에서 열린 프로축구 K리그1 12라운드 인천 유나이티전에서 전반 세징야의 선제골과 후반 에드가의 결승골로 2-1 승리하며 선두권 도약의 발판을 마련하게 됐다.',\n",
              " '유곡리에서 나고 10년 간 공직생활을 하다',\n",
              " '대구의 프리미엄 라인인 달구벌대로 2호선 라인, 역세권인 만촌역 서한이다',\n",
              " '교육현안과 관련해 공론화로 이뤄진 합의 내용을 교육감에게 권고하는 역할을 해줄 광주 교육 시민 참여단 30명의 구성이 완료되었다고 17일 밝혔다.',\n",
              " '사법처분을 받았다고 한다.',\n",
              " '관계당국에 따르면 조명균 통일부 장관이 남북 합의 이행과 관련해 남북 고위급 회담 검토를 언급함에 따라 3일 국가안전보장회의 상임위원회를 열어 북측에 회담을 제안할지 여부와 시점을 주요',\n",
              " '소를 고려해 매년 외부 단체및 사내를 대상으로 포상하기로 발표했다.',\n",
              " '괴산군 사리면 기관·단체협의회회원 20여 명이 28일 사리면사무소에서 괴산읍 신기리 의료폐기물 소각장 설치 반대 및 대한민국 축구종합센터 유치 동참 결의 대회를 열어 \"폐기물 소각과정에서 발생하는 발암물질이 군민의 건강을 크게 위협할 것으로 예상되는 만큼 전면 재검토가 이뤄져야 한다\"고 주장하고, 선수들의 영양 공급지로서 최적의 조건을 갖추고 있다',\n",
              " '부천세계비보이대회는 국내 유일 비보이 세계대회로 부천시가 주최하고 세계 5대 메이저 대회를 석권한 비보이팀 진조크루가 주관한다.',\n",
              " '지난 16일에 방송인 김제동은 MBC FM4U \"굿모닝FM 김제동입니다',\n",
              " '대전시가 천변도시 고속화도로 하이패스 설치와, 도시철도 1호선 스프링클러 설치 부분 등 시민 생활과 직결된 현안해결에 소극적인 태도를 보이다',\n",
              " '50%에 육박했다.',\n",
              " \"9일 방송된 SBS '그것이 알고싶다'에서는 사라진 세 딸과 과외선생 함명주(가명)의 자세한 이야기를 추적했다.\",\n",
              " '씨름 다큐멘터리를 제작 방송함으로 씨름의 가치를 재조명하고 우리 씨름의 재도약을 도운 공로를 인정 받았다',\n",
              " '더불어민주당이 내년 4월 총선 대비를 준비하고 있고 상당폭의 물갈이가 이뤄질거라는 전망이 나오는 가운데 공천의 주관적인 평가요',\n",
              " '무료 관람 가능한 국립남도국악원 국악연주단의 ‘국악의 향연’ 공연을 선보인다.',\n",
              " '2019광주세계수영선수권대회 하이다',\n",
              " '하겠다.',\n",
              " '금 단속이 추진되나, 단속 효과는 미비할 것으로 보여 현실적인 대책 마련이 필요하다.',\n",
              " \"17일 방송된 TV조선 '인생다큐 마이웨이'에 출연한 트로트 가수 김혜연은 과거 뇌종양으로 슬픔에 잠겨 있다\",\n",
              " '이빙이 전체 입장권 판매율의 96%를 차지하며 최고 인기 종목으로 나타났다.',\n",
              " '던 인천시의 계획이 연기되었다.',\n",
              " '광주 세계수영 선수권대회 6개 종목 중 국내에서 처음 선보이는 절벽 다이빙에서 유래한 하이다',\n",
              " '이빙 등 경기와 각종 시설에 대해 만반의 대책을 세우고 있다.',\n",
              " '이에따라 도시재생사업으로 전환해야 한다는 목소리가 나오고 있다.',\n",
              " '\"며 \"대한민국 축구종합센터가 괴산군에 들어서야 한다',\n",
              " \"'로 응답한 비율이 63%로 전년보다 소폭 상승하는 등 초·중·고 학생들의 인식이 개선된 것으로 나타났다.\",\n",
              " '지점에서 일부 택시가 무리를 형성해 영업권을 독점하는 문제가 계속 되고 있다.',\n",
              " '안전국민의식과 소방안전의식, 대처능력을 높이는 소방안전 조기교육이 시급하다.',\n",
              " '이빙 경이를 포함해 2019 광주세계수영선수권대회에 비상이 걸려  조직위 시설팀 한 관계자는 “태풍의 경로가 유동적이기 때문에 우리나라를 피해 가길 바라고 있다”며 “당일 날씨 상태를 확인해 FINA 기술위원들이 진행 상황을 결정할 것으로 보인다.\"고 밝혔다.',\n",
              " '5월27일 새벽 계엄군의 전남도청 진압을 막기 위해 최후까지 저항하다',\n",
              " '20일 잡코리아는 인천공항운영관리가 21일까지 각 분야별 정규직 및 계약직 직원을, 펄어비스도 주요',\n",
              " '중소기업중앙회가 24일 발표한 경영전략조사에 따르면 중소기업의 86%는 투자 및 신사업 계획이 없다',\n",
              " '당진항만관광공사 ‘천안함 피격사건과 국가 안보의 중요성’을 주제로 개최한 제7회 학생안보글짓기대회에서 운문 분야에서는 한다',\n",
              " '전공별 내신 성적을 분리해 산출하기로 했으나 타 학교가 분리산출을 곧장 적용한 것과 달리 광주예고는 통합산출을 고수하며 뒤늦게 산출 방식을 바꾼 터라 타지역에 비해 대학 입시에서 불리하게 되었다며 학부모들이 반발하고 있다.',\n",
              " '경기도 주요',\n",
              " '대검찰청은 25일부터 새로운 ‘교통범죄 사건처리기준’을 마련해 음주운전을 하다',\n",
              " '베스트 축하공연과 복숭아 막걸리, 병조림, 복숭아 당도 맞추기 등 다채로운 체험 프로그램이 준비되어 있다.',\n",
              " '대전지방경찰청은 작년에 도로교통법 개정이후 대전지역은 4건의 자전거 음주운전 단속이 이루어지는 등 개정법이 유명무실하다는 지적이 나오는 가운데 경찰은 자전거는 주요',\n",
              " \"22일까지 북구에서 '지방규제 개선 아이디어'를 공모한다.\",\n",
              " '불법 주정차 주민 신고제 단속 규정이 8개 구, 군청별로 달라 운전자들이 혼란을 겪는다는 지적이 있자 대구시는 지자체별로 제각각이던 불법 주정차 주민신고제 운영 표준안을 만들어 신고대상과 정차유예시간을 통일하도록 했다',\n",
              " '대한민국플라워마켓의 우성용 대표는 화환, 근조 등을 렌털하는 방식의 화훼 공유마켓의 정착과 취약계층에게 일자리를 주고 꽃의 의미와 가치를 지역사회와 나눌 수 있는 기업이 되겠다',\n",
              " '강열 광주환경공단 이사장 후보자가 시민사회단체 이사장으로 활동하면서 규정을 위반해 급여를 받은 사실이 드러나 광주시의회 인사청문특별위원회는 12일 김 후보자에 대한 인사청문회를 실시했다.',\n",
              " '\"고 말했다.',\n",
              " '유적으로 평가받았다.',\n",
              " '협약 시기가 지연됐다고 해명했다.',\n",
              " '내용으로 하고 있다.',\n",
              " '안전하고 편리하게 이동할 수 있는 도로·교통 환경 조성을 위해 총 105억 원의 도비를 투자한다.',\n",
              " \"'라는 주제로 17일부터 29일까지 진행된다.\",\n",
              " '여러 옵션과 서비스, 커뮤니티 시설이 들어서며 근처에 한국전력 공사 본사를 비롯한 총 16개의 공공기관과 협력업체들이 다수 포진해 있어 직주근접 요소를 갖췄다.',\n",
              " \"5·18역사왜곡처벌 광주운동본부와 민주노총 광주본부는 지난 14일 자유한국당 전당대회장에서 '5·18 망언'의원을 규탄하다\",\n",
              " '3년만에 늘었다',\n",
              " '아이돌봄서비스(지원사업)란 다.',\n",
              " '넓어진 참여 범위와 높아진 기준의 미세먼지 비상저감조치를 실시한다고 언급했으며, 대구·경북에선 처음 경험하는 이번 조치로 혼선이 예상된다.',\n",
              " \"지난 3월 타계한 프랑스 누벨바그를 이끈 여성감독, '누벨바그의 대모' 고 아녜스 바르다\",\n",
              " '광주시 어등산 관광단지 조성사업을 두고 광주도시공사와 우선협상대상자인 서진건설과 최종 사업협약 체결절차에서 이견이 좁혀지지 않고 있다.',\n",
              " '한문 영역이 절대평가로 바뀌었습니다',\n",
              " '목포시는 부모참여가 보다',\n",
              " '2019광주세계수영선수권대회가 초반의 부진을 딛고 대회 인기종목인 경영과 하이다',\n",
              " '복지정책 예산이 경기도의회 상임위원회의 1차 심의를 통과해 예산결산특별위원회로 넘어가 내년도 경기도형 복지사업이 활성화될 것으로 기대된다.',\n",
              " '수원 A초 학부모들이 23일 경기도교육청 앞에서 기자회견을 열고  \"규정을 지키지 않는 석면 해체 제거 공사를 중단하라\"고  요구하며 A초교 본관동 석면 해체 및 제거 작업을 모니터링하던중 대다수 작업장에서 석면이 비산된 것을 발견했다',\n",
              " \"인천시 서구가 14일 경인아라뱃길 시천나루에서 음식점과 숙박시설의 정보를 제공하는 무인정보안내시스템인 '맛집 정보안내시스템(키오스크)' 구축 제막식과 함께 시연회를 열고 서구를 방문하는 나들이객의 음식점과 숙박시설 이용을 유도하겠다\",\n",
              " '내용으로 체계적 관리에 나선다.',\n",
              " '2부제에 참여하지 않아도 처벌할 규정이 없기 때문에 효과가 미미했다.',\n",
              " '이만희 자유한국당 의원이 4일 \"청와대 회의에서 대통령의 국회 탓, 야당 탓이 연일 이어지고 있다',\n",
              " '서측 안내카운터 인근 경비보안요원들에게 붙잡혔다.',\n",
              " \"오는 28일 인천시 동구 동인천역 북광장과 송림아뜨렛길에서는 동구문화예술제와 연계한 '지역 문화예술인들과 함께하는 막걸리 페스티벌'을 개최하며, 공예품 체험 및 판매 뿐만 아니라 가요\",\n",
              " \"중소기업중앙회 대전세종충남지역본부가 대전·세종·충남지역 중소기업 97곳을 대상으로 조사해 22일 내놓은 '2019년 중소기업 설 자금 수요조사'에 따르면 중소기업 52.5%가 설 자금사정이 '곤란하다\",\n",
              " '끝내 김재영의 마음을 거절하는 류혜영의 모습이 전파되었다.',\n",
              " '부산 사상경찰서에 따르면 더불어민주당 권경협 의원이 지난 16일 밤 10시40분 사상구청 인근 도로에서 음주운전을 하다',\n",
              " '당진환경운동연합, 참여자치시민연대 등 14개 단체로 구성된 현대제철 대기오염 대책위원회가 출범하여 연간 대기오염물질 배출량 전국 1위를 기록하고 청산가스를 불법 배출하다',\n",
              " '여야 의원들 간 고성이 오가는 등 소란이 빚어졌다.',\n",
              " \"중앙부처가 '제3차 항만 재개발기본계획' 용역을 추진하다\",\n",
              " '스포츠 브랜드 노이타는 건강하고 밝은 이미지가 동사 제품과 잘 맞으며 브랜드 인지도 향상과 이미지 제고에 크게 이바지한 가수 추화정과 전속 모델 계약을 1년 더 연장했다고 전했으며  그녀는 브랜드 홍보에 최선을 다하겠다',\n",
              " '한국서부발전은 20일 전력산업 기술 개발을 위해 1913년 설립된 비영리 컨소시엄 연구소 EPRI 및 현지 발전사들과 함께 2020년까지 두 기관의 중요 시스템인 WP-PM을 연계해주는 역할을 하는 글로벌 정비관리 플랫폼인 Global PM을 개발할 예정이다.',\n",
              " \"한국도박문제관리센터 광주센터는 '2018 청소년 도박문제 실태조사'결과 광주지역 전체 청소년의 2.0%가 도박중독이 심각한 것으로 나타났으며 이를 예방하기 위해 학부모와 학교뿐만 아니라 정부, 지자체에서도 보다\",\n",
              " '손혜원 의원은 목포 부동산 투기 의혹을 처음 보도한 SBS 기자 9명을 고소하고, SBS ‘끝까지 판다’ 에서 손 의원이 차명 구입해 4배 이상 시세차익을 봤다',\n",
              " '중단되면서 해당 사업을 경남기업과 티케이케미칼이 인수하여 경남아너스빌 아파트 건설을 추진하고 있으나 당시 지역업체들이 철근과 레미콘, 자재 등의 납품 대가를 돌려받지 못하는 상황이 계속돼왔다.',\n",
              " '대진대학교 휴먼건축공학부가  3일간 주제에 대한 집중토의를  하면서 양국 건축의 차이를 이해하고 상호 보완하여 미래 건축의 해답을 찾아보고자  한일 건축전공 학생 15명(한국 11명, 일본 4명)이  통해  참석한 ‘제1회 한·일 취업연계 학생교류’를 진행 했다.',\n",
              " '고흥의 대표 농산물 중 하나인 마늘이 수확기에 들었지만 껍질 안쪽이 색이 변하고 물기가 있어 상품가치가 없는 현상이 생기고 있다.',\n",
              " '2022학년 수능은 2015개정 교육과정의 의도에 따라 문이과의 구분이 사라지며 제2외국어.',\n",
              " '현안사업의 중단 없는 추진과 군민들의 행복을 실천하기 위한 주요 군정에 대한 구체적 실천 전략들을 제시하며 2019 주요업무 추진계획 보고회를 가졌다.',\n",
              " \"폐암 원인이라고 경고한 라돈에 대해 정밀측정기를 구입하여 취약시설 및 기준초과 가정에 대한 정밀검사 서비스를 실시하여 라돈으로부터 안전한 북구 만들기' 프로젝트를 추진한다.\",\n",
              " '경찰의 음주측정 요구에 불응하고 약 2㎞를 달아나다 경찰에 붙잡혀 불구속 입건됐다고 밝혔다.',\n",
              " '사람을 치어 교통사고를 낼 경우 음주 수치에 따라 최대 무기징역까지 구형하는 등 구형량을 높이기로 밝혔다.',\n",
              " '2017년 9월부터 2월까지 경남 산청군 단성면 연수원 및 야구장을 관리한 직원이 경성대 학내 게시판에 총장을 비판하는 글을 올렸다가 산청에 발령을 받았다며 국가인권위원회에 진정을 접수한 것으로 알려졌다.',\n",
              " '18일 TV조선 예능 인생감정쇼-얼마에요',\n",
              " '.',\n",
              " '·전통음악 등 여러 장르의 공연을 즐길 수 있는 ‘삶·숨·쉼이 있는 흥겨운 문화마당’이 오는 21일 오전 11시 곡성군 죽곡 봉정분교 목공예&커피체험관에서 개최된다.',\n",
              " \"2020년 1월 16일부터 2023년까지 3년동안 전남도체육회를 이끌어가게 될 회장으로 김재무 전 전남도의회 의장이 당선되었고 안정적인 재정 확보로 '튼튼한 전남체육회'를 만들겠다\",\n",
              " '대전중앙청과(주) 채소과일 비상대책추진위원회는 점포 균등배분을 주장하며 점포개선안을 요구했다.',\n",
              " '서울강남경찰서는 지난달 26일 새벽 무면허 음주운전을 벌이다',\n",
              " \"경기도는 지난 5일 경기창조경제혁신센터에서 국내외청년 200여 명이 참석한 '평화대담 토크쇼 비정상회담'을 개최했으며 이 날 청년들은 남북 정상회담과 북미 정상회담, 한반도 평화 실현의 방해요\",\n",
              " '지역의 문화유산을 적극 발굴, 보존하여 다양한 시책을 추진키로 했다.',\n",
              " '\"고 강조하는 정책토론회를 개최했다.',\n",
              " \"지난 주말 기획재정부가 발표한 ‘2019년 1분기 해외직접투자 동향’에 따르면 문재인 정부의 ‘반기업적 정책’ 등으로 제조업의 채산성이 낮아진 결과 지난 1분기 우리나라에서 빠져나간 해외직접투자 금액이 지난해 1분기보다 44.9% 늘어난 141억1천만 달러를 기록한 가운데,'정부의 반기업 정책부터 뜯어 고쳐야 한다\",\n",
              " '배달 대행 업체들의 경쟁이 치열하다',\n",
              " '2019광주세계수영선수권대회 개·폐막식이 7월12일 광주여대 유니버시아드 체육관, 7월28일 국립아시아문화전당 예술극장에서 열린다.',\n",
              " '주변 아파트의 일조권 등의 문제가 심각해질 것이고 구청장이 교육청에 책임을 전가한 것이라며 비판했다.',\n",
              " '금제와의 차이가 미미하거나 오히려 데이터 제공량이 적은 것으로 나타났다.',\n",
              " \"'2019광주세계수영선수권대회'에서 수영대회 6개 종목 중 하이다\",\n",
              " '효율적으로 예방할 수 있을 것이라고 말했다.',\n",
              " '인천시 남동구노인복지관은 사할린에 있는 동포들과의 교류가 더욱 이루어지는것을 바라며 사할린을 방문해 동포들을 격려하고 상호 협력 논의와 역사와 문화·복지 서비스를 지원하고자 노력하겠다',\n",
              " '제, 낭만시장, 청춘마켓, 버스킹 공연과 다양한 문화예술 프로그램이 진행될 예정이다.',\n",
              " \"'는 주장에는 망언 의원들에 대한 징계와 진상조사위원 재추천이나 똑바로 하라며 강하게 비난했다.\",\n",
              " '광주지법은 지난 3월 음주운전을 하다',\n",
              " '당진시보건소는 자격 기준을 갖춘 가구에 대해 매월 기저귀 6만4천원, 기저귀 및 분유 동시 최대 15만원을 지원하는 지원사업을 진행 중이다.',\n",
              " '16일 역사 강사 이다',\n",
              " '특가 좌석의 폭발적 반응에 따라 에어서울에서 사이다',\n",
              " '또한 문용현 문화예술과장은 \"올해 1월 기존의 \\'문화관광체육과\\'를 각 분야별로 분과하여 정책 추진력을 높였으며, 앞으로 군민 여가활동의 품격을 높일 수 있도록 하겠다\"고 말했다.',\n",
              " '사고 발생에 대한 책임은 사업주에게 있다는 판결을 내렸다.',\n",
              " '제 등 다양한 프로그램이 열리며 관광객들을 위한 직거래 판매코너와 홍보전시관을 운영한다.',\n",
              " '올해 가평군 공식 블로그 방문자수가 전년대비 318%증가하면서 가평관광 활성화에 큰 축이 되어 온라인 홍보창구로 자리매김을 하고있으며, 사람들이 신뢰할 정보를 바탕으로 올바른 정보를 얻어갈 수 있도록 주요',\n",
              " '평소와 다르게 눈이 가렵다',\n",
              " '여수시의회 웅천특위는 지난해 9명으로 구성했으나 3명의 의원의 사퇴로 현재 6명으로 운영되고 있는데 위원 구성문제로 갈등을 겪다',\n",
              " \"김천시는 오는 5일 김천종합스포츠타운 주차장에서 '1社-1청년 더채용릴레이운동 2019 김천 일자리 한마당' 행사를 개최할 예정인데, '일자리는 모두의 행복입니다!\",\n",
              " '쉽게 확인할 수 있도록 조회서비스를 개선한다고 밝혔다.',\n",
              " '관광지 25곳을 한눈에 쏙 들어오게 세 개의 코스로 나눠 하루만에 관광할 수 있도록 제작한 관광안내지도를 고속도로 휴게소 등에 배부하고 대대적인 홍보에 나선다.',\n",
              " '광주·전남 지역에 장마전선과 북상 중인 제5호 태풍 ‘다나스(DANAS)’의 영향으로 인해 이번 대회 최대 흥행 종목인 하이다',\n",
              " '원인이라고 이야기하면서 보호관찰처분 수위를 조금 더 강하게 내리는 것이 청소년 범죄 예방에 도움이 될 것이라고 말했다.',\n",
              " '여수 은파교회 고만호 목사가 3·1운동 설교에서 5·18민주화운동을 ‘끔찍한 폭력’이라고 규정한 사실이 알려지면서 공분을 사  \"3·1운동이 비폭력이었음을 강조하기 위한 것이었다”며 어떤 왜곡이나 폄훼할 의도는 추호도 없었다',\n",
              " '광주시의 이용섭 조직위원장은 2019광주세계수영선수권대회를 성공적인 대회로 치르기 위해 최선을 다한 것에 대한 공로로 국제수영연맹(FINA)로부터 감사패를 받아 대회의 성공적인 개최를 한 것에 대한 노력을 인정받았다.',\n",
              " '음, 청라언던역 서한이다',\n",
              " '오는 23일 경기도가 도민들이 사업별, 기관별로 진행됐던 사업 안내를 보다',\n",
              " '행사 취소 또는 연기를 주문했다.',\n",
              " '민주평화당 김경진 의원이 타다',\n",
              " \"번호안내 114를 운영하는 KT CS가 독거노인의 안부를 확인하고 보이스피싱 전화 수신 여부를 알려주는 '114 안부확인서비스'를 출시했다고 밝히고 독거노인의 안전사고를 보다\",\n",
              " \"7일 장흥 안양면 박람회장 주무대에서 ‘2019 대한민국통합의학박람회’가 개막식을 갖고 13일간 '건강한 삶의 길을 보여드립니다\",\n",
              " '포르투갈 출신의 하이다',\n",
              " \"선안군은 오는 7일부터 임자도에서 '섬 깡다리' 축제를 개최해 깡다리 요리 및 시식회, 깡다리 가요\",\n",
              " '여론조사 전문기관 리얼미터가 전국 19세 이상 유권자 2천18명을 대상으로 실시한 문재인 대통령 국정수행 지지도(긍정평가)결과 지난주보다 1.7%포인트 상승한 49.1%으로  7주 연속 40%대 후반을 유지하다',\n",
              " \"충남경찰청은 지난 2월부터 약 3개월간 '사업용자동차의 불법행위'를 집중단속하여 관련자 총 72명을 형사입건했다고 23일 밝혔다.\",\n",
              " '거나 사고의 책임이 사망자에게 있다는 등의 반응을 보이고 있다.',\n",
              " \"전남 무안군은 한국관광공사가 주관한 '2019 관광지 무료와이파이 구축지원 사업'에 선정돼 오는 6월 말 협약을 체결하고 올해 11월까지 주요\",\n",
              " '유엔식량농업기구에서 발표한 세계식량가격 지수는 안정세로 전환되었다.',\n",
              " '2019학년도 대입 수능 당일 새벽 교육청에 배송된 시험지를 보관 및 감독하던 장학관이 사우나에 갔다',\n",
              " '계에 등장하자마자 관심을 모으고 있다.',\n",
              " \"광명시에서는 홀몸노인 공동가구 '동행'이라는 저소득 주거취약계층 홀몸노인에게 거주지를 마련해 양질의 주거서비스를 지원하는 '홀몸노인 공동가구 시범사업'을 실시하고 있으며, 외로움과 고독감을 해소해 건강한 노후생활을 영위하는데 도움을 주고자 시행했다\",\n",
              " '이에 대해 관계자는 다각적인 방안을 고심해야 하는 만큼 중도매인들과 지속 협의를 해 나갈 예정이라고 설명했다.',\n",
              " \"순국하신 최익현 선생의 유품 '최익현 초상'과 최익현 선생이 서울을 떠나 부산으로, 부산에서 대마도로 압송되는 과정을 그린 '최익현 압송도'가 충청남도 유형문화재 제248호, 제249호로 각각 지정됐음을 알렸는데, 이는 올해가 3.1운동 100주년이 되는 해로 더 의미가 있다.\",\n",
              " '조사할만한 권한도 없다는 이유를 내새워 소극적 입장을 내놓고는 있지만 사학법인이 가지고 있는 인사권과 징계권은 교육청에서 침해할수 없는 제왕적인 사학법이기 때문이다.',\n",
              " '산업에선 오히려 일자리가 줄어든 만큼, 외형적 지표에 만족하기 앞서 양질의 일자리 창출이 절실하다는 점을 유념해야 한다.',\n",
              " '화순 모 보건지소에서 같은 지소로 발령받은 부부가 흉기로 자신의 아내를 찌르고 자신도 흉기로 찌른 뒤 자해해 사망하는 사건이 일어났다.',\n",
              " '거나 눈곱이 많이 낀다면 알레르기 유발 물질이 눈의 결막에 붙어 염증을 일으키는 알레르기 결막염을 의심해봐야 하며 추가적으로 눈꺼풀의 가려움, 결막의 충혈, 눈의 화끈거림을 동반한 통증, 눈물흘림 등의 증상이 생겨날 수 있다.',\n",
              " '부석면발전협의회는 18일 저녁 부석면행정복지센터에서 긴급회의를 열어 보험금만 70억원에 달하는 천수만 B지구 간척지 염해 피해는 현대농장이 보를 트면서 생긴 인재이며 경작자피해대책위를 꾸려 피해와 관련한 대응을 하기로 했다',\n",
              " '엄정한 처벌이 뒤따라야 한다는 주장이 강하다.',\n",
              " '5·18 당시 현장에서 투쟁하다',\n",
              " \"서삼석 의원이 26일 '국가재정법 및 국가회계법 일부 개벙법률안'을 대표발의 했다.\",\n",
              " \"경북의 대표적 관광상품인 '2019문경달빛사랑여행'은 모두 5회에 걸쳐 운영될 예정으로 첫 번째 여행이 오는 4월 6일 영신숲에서 출발하며 문경 곳곳의 아르다\",\n",
              " '사회문제로 부각되면서 2009년 10건에 불과하던 미세먼지 측정기술 관련 특허출원 건수는 지난해 129건을 기록하여 10년 사이 13배 정도 급증하였다.',\n",
              " '제11회 즐거운 2019 목재페스티벌이 열렸다.',\n",
              " '종이원료를 공급하는 3개 업체가 각자 거래하고 있는 제지업체들에 대해 주요 품목의 가격을 5-10% 인상하면서 가격을 담합하다',\n",
              " '광주시교육청은 주요',\n",
              " '법에 건강보험이 적용되면서 환자의 본인부담금이 감소하는 만큼 추나 이용 환자의 증가가 예상됨에 따라 대전지역 한의학계의 기대가 높아지고 있다.',\n",
              " '서천군은 16일에 주요',\n",
              " '수출 품목들이 부진한 모습을 보였다고 밝혔다.',\n",
              " '올해로 65세, 181cm의 큰 키에 자유분방하게 기른 머리카락과 수염을 가진 모델 김칠두는 27년 동안 요식업에 종사하다',\n",
              " '작년 10월부터 판매 중단됐던 뜸부기 쌀을 최근 재판매를 시작했다고 전했다.',\n",
              " '발생연령대인 30~40대에게 예방을 위해 각별한 주의를 당부했다.',\n",
              " '지자체들의 교통문화를 증진시키기 위한 취지로 실시되는 교통문화지수 실태조사에서 경기도가 전년도 보다',\n",
              " '23일 조선대학교에서 열린 여자 하이다',\n",
              " \"'을 발간했다.\",\n",
              " '부산 북구는 WHO에서 주요',\n",
              " '14일 보건복지부와 건강보험공단에 따르면 3월부터 추나요',\n",
              " \"광주시 동구가 '2019광주세계수영선수권대회' 하이다\",\n",
              " '확대되고 발전된 형태인 열린 어린이집을 기존의 17개에서 내년 36개소로 점진적으로 선정할 것이라고 발표하였다.',\n",
              " '전남 신안군 임자면 지역사회보장협의체는 인근 민간사회단체, 사회복지시설, 종교단체의 적극적인 참여와 함께 지난 4월 29일부터 5월 17일까지 아프리카 우간다',\n",
              " '게다가 이 상황에서 전남재난안전대책본부 측의 안일한 대처도 논란이 되고 있다.',\n",
              " '미 마쓰시마(27)와 페더급 경기를 갖는데 세 번째 1라운드 KO승 도전을 해 결과가 주목된다.',\n",
              " '27일 공정거래위원회는 가맹사업 희망자들이 반드시 사야 하는 주요',\n",
              " '세종시의 시민단체인 행정수도완성 시민대책위원회는 장차관의 공석으로 의사결정 지연 등의 문제가 생기는 세종청사 장차관 서울집무실을 폐지하는 방안에 긍정적으로 평가했지만 보다',\n",
              " \"박상철 호남대 총장은 'vision2028'을 통해 호남을 대표하는 5차산업혁명 혁신선도대학으로서 지역과 국가발전을 이끌어 갈 창의 융합형 인재를 양성하기 위해 이를 수립했다고 밝혔다.\",\n",
              " '부산에서 가장 오래된 삼국시대 성곽으로 알려진 연제구 배산성은 고고학적 연구 성과를 바탕으로 축조 시기가 7세기 전반~중반으로 파악됐었으나, 5~6세기로 볼 수 있다는 과학적 분석 결과가 나와 이에 부산 고대사 연구에서 주요',\n",
              " '교원웰스 제품을 접하게 된 김 지점장은 물 속 미네랄 성분의 중요성에 눈을 뜨면서 교원웰스에서 일하게 되었고 동시에 지역 가수로도 활동하고 있다.',\n",
              " \"'를 진행하고 사또 양로연이 뭐예요,\",\n",
              " '즐거운 목욕 시간을 가질 수 있을 것으로 기대한다.',\n",
              " '홍보하지만 실제 이를 통해 한국에서 의사가 된 사람은 많지 않다.',\n",
              " '의제로 다룰 것으로 보이며, 회담이 열린다면 개성공단과 금강산관광 재개 논의가 유력하다.',\n",
              " '작년에야 시작한 모델일이 즐겁지만 굉장히 어렵다고 했다.',\n",
              " \"한전산업개발은 그린에너지 엑스포에서 통합형 ESS인 'KEPID-ESS-200'을 선보였다.\",\n",
              " '경기도북부소방재난본부는 지난 30일 드럼통 폭발화재의 폭발사고는 부주의가 주요',\n",
              " '에 출연한 모델 박둘선과 사진작가 남편 조장석 부부의 과거 러브스토리가 재조명되고 있다.',\n",
              " '이빙 경기장, 염주체육관에서 빈틈 없는 의료지원을 통한 수준 높은 의료서비스로 선수 부상과 안전관리에 최선을 다할 것을 다짐했다.',\n",
              " '금융감독원이 다음 달 1일부터 상속인 금융거래 조회서비스를 개선해 개인연금보험 가입자가 사망했을 때 상속인이 받을 수 있는 연금 정보를 보다',\n",
              " '의정활동의 성과를 공개하며 앞으로 광양발전과 시민행복이라는 목표를 다졌다.',\n",
              " '14일 동구청역에서 음주로 몸을 가누지 못하다',\n",
              " \"관계자들이 참석한 가운데 을지로 SK텔레콤 사옥에서 5G·AI·미디어 등 최신 ICT 기술을 활용한 국내 최초의'5G 디지털혁신병원' 구축 협약을 체결했다고 28일 밝혔다.\",\n",
              " '수차례의 질타 후 하겠다는 반응을 보여 빈축을 사고 있다.',\n",
              " '합덕 소망교회의 최연순 담임목사 간 이식 수술비 5000만 원과 관련 본지 1일  사랑을 나눠주세요',\n",
              " '경기도교육청은 사립유치원 전수감사를 통해 처분이 확정된 유치원 20곳의 명단을 교육청 홈페이지에 추가 공개하고 세금 탈루가 의심되는 19곳에 대해서는 국세청에 통보할 예정인데, 현재까지 원아 수 200명 이상 대형 유치원 120곳 중 112곳에 대한 감사를 완료했으며, 이달부터 원아 수 100명 이상 200명 미만의 사립유치원 397곳을 대상으로 감사가 진행되고 있다.',\n",
              " '경기도는 2018년부터 2022년까지 교통약자 및 보행자가 보다',\n",
              " '장기침체에서 벗어나려면 해로운 기업을 구조조정하고 경제활동을 제약하는 규제를 없애 자원이 효율적으로 사용되고 개인과 기업의 경제 활동을 유인해야 하는데 일본의 실패를 타산지석으로 삼아야 할 판에 혈세를 퍼붓는 정책을 하겠다',\n",
              " \"충남도는 도내 10개 산업단지가  충남국가혁신클러스터로 지정됨에 따라 '수소전기차와 수소기반 산업 클러스터'로 육성하여 수소경제 사회를 선도하겠다\",\n",
              " '내용으로 하는 조직개편을 단행하면서 신속민원처리과, 가족정책과,문화예술과,교육체육과,해양산업과 등 5개과를 신설과 중복업를 통합해 조직운영 합리성을 제고하고, 기능이 약해지거나 업무효과가 불확실한 조직은 폐지 또는 축소 했다.',\n",
              " '전동평 영암군수가 문화체육관광부장관으로부터 공로상을 수상했다.',\n",
              " '공모지침에는 최종 협약체결 대상자는 사업이행보증금으로 전체 사업비의 10%(480억원)를 10일 이내에 납부해야 하지만 서진건설 측은 3단계로 나눠 분할납부하겠다는 제안을 하며 이견이 좁혀지지 않아 사업 자체가 좌초될 가능성이 제기되고 있다.',\n",
              " '경쟁력이 열악함에 따라 수출 지원을 통해 성장을 돕겠다고 밝혔다.',\n",
              " '현수막 몇개 걸고 보도자료나 뿌리는데 그치지 말고 현실적인 대책 마련이 절실하다.',\n",
              " '숭실호스피탈리티 직업전문학교가 관광분야 전공 신편입생의 원서 접수를 학교 홈페이지나 진학사 어플라이에서 받고 있으며 100% 면접전형으로 진행한다',\n",
              " '이빙, 오픈워터 수영 종목은 이미 매진됐다고 밝히며 입장권 매진사태가 벌어질 수도 있는 만큼 시민들의 신속한 입장권 구매를 부탁했다.',\n",
              " '2019광주세계수영선수권대회조직위원회는 하이다',\n",
              " '강화될 전망이다.',\n",
              " \"제 23회 부천판타스틱영화제는 오는 6일까지 '부천아트벙커B9'에서 ‘NEXT 100’ 프로젝트의 일환으로 마련한 VR 특별전인 '현실을 초월하다\",\n",
              " '공군에서 연구 개발 중인 항공기를 테스트하는 최초의 여성 개발시험비행 조종사로 선발된 정다정 소령(진)은 2021년 시제 1호기가 나올 한국형 전투기 등 신규 개발 항공기에 탑승해 고난도 임무를 수행하는 정예요',\n",
              " \"'를 발간했다.\",\n",
              " '부산 금정구 서동은 도시환경정비사업 대상지로 지정됐으나 13년째 추진 단계에 있어 불편함을 호소하고 있다.',\n",
              " '지역 80.1km 구간을 잇는  GTX-B노선 사업의 예비타당성 조사 결과 발표가 초읽기에 들어가자 교통환경 개선의 물꼬가 트일 것이라는 기대감에 들떠있다.',\n",
              " 'MBC에브리원 \\'비디오스타\\'는 9일 방송에서  \\'개척자 특집, 방송가 콜럼버스의 재림\\'으로 꾸며져 1999년 \"남희석 이휘재의 한국이 보인다',\n",
              " '2018- 2019 유럽축구연맹(UEFA) 챔피언스리그(이하 UCL)에서 메시가 현재 8골로 최다 득점을 기록하고 있고 호날두 역시 앞서 열린 UCL 16강 2차전에서 헤트트릭을 기록하며, 호날두 역시 앞서 열린 UCL 16강 2차전에서 헤트트릭을 기록하며 ‘인생 경기’를 펼쳤다.',\n",
              " \"딸의 그림을 자신의 인스타그램에 게시해 관심을 끌었던 장범준은 '슈퍼맨이 돌아왔다'에서 딸 장조아 양과 아들 장하다\",\n",
              " \"'고 발표했다.\",\n",
              " '윤의원은 일본 중의원 외교위원장도 접촉해 징용 문제를 둘러싼 양국 간 갈등 해소 방안을 놓고 의견을 나눠보고 싶었지만 만나는 것조차 꺼리는 바람에 회동하지 못했다고 밝혔다.',\n",
              " \"업무계획 보고회'를 진행했고 논의된 주요 사업이 문제없이 추진되도록 행정력을 집중할 예정이다.\",\n",
              " '지난 6일 인천국제공항 고속도로에서 발생한 교통사고의 사망자가 20대 여성의 탤런트였던 것으로 알려진 가운데 이 사건에 대해 네티즌들은 차량 블랙박스를 확인해봐야 한다',\n",
              " '부산 남부경찰서는 전국 최초로 성폭력, 소년범죄, 아동학대 분야 수사에 전담팀을 신설해 13일부터 본격 운영한다고 밝혔으며, 세심한 수사기법이 요구되는 여성·청소년 범죄 수사에 수사 인력의 전문성이 강화돼 사회적 약자들이 보다',\n",
              " '21대 선거를 앞두고 자신의 이익을 좇아 노선과 계파에 따라 흩어졌다',\n",
              " '(여·5)를 초청해 두 번째 수술을 통해 두 개의 심실을 선물했다.',\n",
              " '원인이라며, 취급 부주의에 의한 인명피해를 예방하기 위해 안전 작업 수칙을 지켜줄 것과 안전장비를 통한 안전 작업 환경을 조성할 것을 강조하였다.',\n",
              " '전남 목포시가 등록문화재 제696호 목포 정광정혜원을 5개월에 걸쳐 보존 및 활용 종합정비계획을 수립해 건물 원형복원 계획 수립과 정밀 안전진단, 실측도면 작성을 주요',\n",
              " \"광주광역시는 민주시민의식 함양과 생활 속 민주주의 실현을 위해 28일부터 '2019 광주시민대학'을 운영하기로했고 취지는 지속적인 민주시민 교육을 통해 항상 발전하는 광주를 만들고자 하는 것이며 민주시민의식을 함양하는 과정이 주요\",\n",
              " '관광지 및 7~8월 축제·문화예술행사를 담은 관광안내지도 10만부를 새로 제작해 배부할 계획이라고 5일 밝혔다.',\n",
              " '아산시가 민선 7기 들어 예산의 투명성과 공정성 확보를 위한 변화의 바람을 예고 하여 시는 산학협력사업 지원금에 대한 사후관리 강화와 산학협력사업 평가기준 마련과 평가자문단도 구성해 사업선정과 지원을 보다',\n",
              " '숨진 4살 어린이 사건에서 사망의 원인인 혈종이 생긴 경위에 대해 가족들의 진술을 조사했고 동시에 남은 자녀들에 대한 지원방법을 논의했다.',\n",
              " '거나, 명절 등 특정기간에 집중 판매되는 상품이라는 등의 이유로 정당한 사유없이 반품하는 이른바 갑질 행위를 일삼아 공정거래위원회로부터 시정명령과 함께 4억5천600만원의 과징금 및 과태료 150만원을 부과받았다.',\n",
              " '지난 7일 에너지밸리 정례포럼에서  임춘택 한국에너지기술평가원장은 재생에너지를 통한 에너지 자립국가로 나아가야 한다',\n",
              " '로 응답해 총 86.2%가 여름방학 중에도 자녀에게 사교육을 시키겠다고 응답했다.',\n",
              " '밝혔다.',\n",
              " '인간다',\n",
              " \"신한대학교는 일본군 위안부의 지워버리고 싶은 과거이지만 같은 역사가 되풀이되지 않도록 기억하기 위해 '평화의 소녀상'을 의정부캠퍼스 정문 앞에 건립한다\",\n",
              " '10여 년 전 미성년자를 성폭행한 뒤 흔적을 지운 A씨는 지난 2월 만취한 여성 승객과의 성추행 문제로 실랑이를 벌이다',\n",
              " '광주북부경찰서는 9일 윤창호법 시행으로 음주운전단속이 강화된 가운데 광주에서 음주상태로 운전을 하다',\n",
              " '습한 공기가 만나 발생한 강한 비 구름대의 영향을 받는다.',\n",
              " '사고를 당해 의식불명 상태에 빠진 박준혁씨에 대해 주 로스앤젤레스 총영사관은 행정적인 문제를 돕고 병원비 문제와 한국 이송 문제도 계속 협의하고 있다.',\n",
              " '이수정 경기대학교 범죄심리학과 교수는 이희문씨가 전달한  5억원이 집에  있었다는 사실을 알 정도라면 김씨와 이희문씨는 무연고일 가능성이 희박하다고 언급했다.',\n",
              " '이빙 예선이 국내에서는 처음으로 조선대 운동장에서 개최돼 국내외 관람객들에게 즐거운 볼거리를 제공했다.',\n",
              " '수학 교과학습능력을 평가받으며 진단결과는 평소 학습태도 등에 대한 분석과 함께 보호자에게 통지된다.',\n",
              " '와 침잠의 시간을 독자들이 상상하게 되는 두 번째 시집 ‘시인은 외톨이처럼’을 펴냈다.',\n",
              " '정책과 현안사업 등에 대해 소개하였다.',\n",
              " '윤창호법 시행 후 첫 설 명절을 맞아 대전경찰청은 오는 2월 6일까지 사고다발지역에 가용인력을 최대한 많이 배치하여 음주운전 집중 단속을 벌이기로 했다',\n",
              " '두발과 외모를 아름답게 해주던 미용실이 인간의 욕망과 집착을 담은 작품들은 선보이며 아울러 컬러 자화상 그리기 및 뷰티메이크엎 행사도 열린다',\n",
              " '대한빙상경기연맹 관리위원회는 지난달 24일 충북 진천선수촌에서 여자 선수 숙소동에 들어갔다',\n",
              " '대구지방경찰청은 대각선 및 고원식 횡단보도를 교통안전시설 심의를 통과한 매천고 네거리 등 5곳에 추가 설치하는 한편, 보행자를 위협하고 방해하는 행위를 단속하고, 스쿨존 어린이 안전활동과 주요',\n",
              " '현안 업무에 대해 상호간 공유하고 소통과 협업체계를 공고히 했다.',\n",
              " '인연이 된 오산세교로타리클럽과 신장동 지역사회보장협의체 그리고 오산시 신장동 행정복지센터는 관내 저소득층의 맞춤형 복지서비스 제공 및 주민 복지욕구에 보다',\n",
              " \"법률 이슈를 쉽게 설명하는 크리에이터 활동을 시작했으며 김병지 전 축구선수는 '꽁병지TV'를 통해 운동 콘텐츠를 만들어 성장 가능성을 보여 주고 있다.\",\n",
              " '많은 양국 시민들의 만남과 소통을 희망했으며 여름밤을 수놓은 800개의 홍등이 걸린 가운데 치러진 선포식에는 이 시장을 비롯해 각 기관 단체장 등이 참석했다.',\n",
              " '24개국 600여 명의 비보이가 참가해 총상금 4천200만 원을 놓고 열띤 경쟁을 펼치며 매일 다른 매력의 무대를 선보인다.',\n",
              " '제를 여는 방안을 검토중이다.',\n",
              " '캐나다 유학을 마치고 여행을 하다',\n",
              " \"부산시의 낙동강 하굿둑 개방이 염분이 있는 바닷물이 역류해 취수원에 피해를 줄 수 있다는 이유로 경남과 울산시가 우려를 표명한 가운데, 부산시는 '낙동강 하굿둑 운영개선 및 생태복원방안 연구' 등을 통한 시범개방으로 해수 역류로 인한 영향을 최소화하기 위한 다양한 방법을 연구하고 있다.\",\n",
              " \"8일 오후 방송되는 MBC '생방송 오늘저녁'은 나 혼자 간다\",\n",
              " \"남도일보는 9일 1층 대회의실에서 강신중 법무법인 강율 대표 변호사를 초청해 임직원들을 대상으로 '양성평등 및 공정보도와 취재윤리'를 주제로 직원 역량 강화 교육을 실시했는데, 강 변호사는 언론의 자유가 언론의 공정성을 훼손할 위험성과 세대간 간극으로 인한 직장 내 성범죄 문제에 대해 설명했다.\",\n",
              " '적극적으로 예방교육을 강화해야 한다고 밝혔다.',\n",
              " '대구지역 휘발유값이 5주 간 하락세를 보이다',\n",
              " '이 대회에는 24개의 직종에 216명의 선수가 참가할 예정이다.',\n",
              " '청소년 범죄가 매년 지속되는 가운데 경찰은 솜방망이처벌이 주요',\n",
              " '르노삼성자동차의 도미닉 시뇨라 사장이 부산상공회의소 허용도 회장을 만나 투 트랙 전략으로 신뢰를 되찾겠다',\n",
              " \"민주평화당 박지원 전 대표가 방송에 출연해 5·18을 북한군 폭도들의 소행이라고 주장하는 진상조사위원을 추천해 진실규명을 방해하며 5·18을 반쪽짜리로 만든 한국당이 독재자 후예라고 말하며 '5·18 행사장에서 김정숙 여사가 한국당 황교안 대표와 악수도 없이 지나쳤다\",\n",
              " '영어.',\n",
              " '바라보다> 展을 지난1일부터 6일까지 다원갤러리에서 개최했다.',\n",
              " '이빙 경기에서 입장객 누계 20만명을 돌파하는 등 막판 흥행 열기를 이어가고 있으며 세계신기록 달성을 비롯한 스타 플레이어들의 금빛 레이스, 새로운 슈퍼 루키 등장 등이 연출되면서 관심이 높아진 것으로 분석되고 있다.',\n",
              " \"인명사고를 가장 많이 낸 연령대는'10대'인 것으로 드러나 전문가들은 단속 빈도의 증대와 음주운전 교육 강화를 방안으로 내놓았다.\",\n",
              " '서천군이 금강하구 일원의 난개발 문제를 제기하면서 용역이 중단된 바 있는 군산시의 인공섬 금란도는 군산시에 많은 경제적 이익을 주고, 양지자체간 상생의 의미가 큰 사업이기에 서천시도 긍정적으로 바라봐야한다는 의견이 나오며 양 지역민들의 관심이 집중되고 있다.',\n",
              " '\\ufeff\\n\\ufeff',\n",
              " '고농도 미세먼지와 초미세먼지로 전국이 몸살을 앓고 있는 가운데 탈원전정책의 재검토와 보다',\n",
              " '노르웨이 프리미엄 유아용품 전문 기업 스토케에서 부모가 서서 아이들을 목욕시킬 수 있는 신제품인 플렉시바스 스탠드를 출시함으로써 아이와의 목욕을 낯설어하던 육아대디, 배쓰 파파들에게 보다',\n",
              " '사업으로 하는 2019 새기술 시범사업 대상자를 선정하고, 14기 당진농업기술대학 입학생을 선발 했다.',\n",
              " '향후 지속적으로 특성화고 및 마이스터 고교생이 대학 대신 취업할 수 있도록 지역 관계 기관과 협업해 나갈 계획을 밝혔다.',\n",
              " '2019광주세계수영선수권대회의 후원사인 한국전력공사가 후원 협약을 세계수영선수권대회가 개막하는 12일로 연기하여 한전 측의 후원 진정성에 의문이 제기되고 있으며, 이에 한전 측은 수영대회 조직위와 후원금 규모를 놓고 협상하다',\n",
              " '시험인증센터가 광주에 구축된다면 레독스흐름전지와 에너지저장장치 관련 기업이 따라서 광주로 이전되는 효과와 함께 일자리가 새로 생겨나는 등 경제효과 또한 기대하고 있다.',\n",
              " '시피 했다.',\n",
              " '\"는 의견을 내세웠다.',\n",
              " '특가 좌석을 27일, 28일 오전 10시 추가로 오픈해 판매한다.',\n",
              " '소득원이었던 굴과 바지락을 채취하지 못해 생계의 어려움을 호소하고 있어 정확한 원인 규명을 통해 관계기관에 원인 규명과 피해에 대한 정밀 조사 및 보상을 촉구할 방침이다.',\n",
              " '충남경찰은 지자체 및 유관기관과 합동으로 단속과 수사를 확대할 예정이다.',\n",
              " \"'고 밝혔다.\",\n",
              " '여주시는 지난 11일 한국콜마 여주아카데미연수원에서 ‘모든 세대가 함께 행복한 여주 만들기’라는 주제로 인구정책 시민토론회를 열었다.',\n",
              " '여름 휴가철을 맞아 전국의 해수욕장에서 바가지요',\n",
              " \"8일 방송 예정인 KBS 2TV '배틀트립'에 샤이니 키, 남창희, 한다\",\n",
              " '화장실에서 벌을 서다',\n",
              " '안전하고 효율적인 교량 점검을 수행할 수 있을 것으로 기대하고 있다.',\n",
              " \"' 추진위원회는 평화 분위기 조성을 위해 다양한 프로그램을 진행할 예정이다.\",\n",
              " '운 삶을 보장하기 위해 기준 중위소득 50% 이하의 취약계층과 그와 세대를 같이하는 직계존비속에게 주거비와 교육비, 물가상승률 등을 종합적으로 고려해 최저임금보다 높은 수준의 소득을 보장해 주는 청년생활임금제 시행을 앞두고 있다.',\n",
              " '제8대 광양시의회가 지난 1년간의 성적표와 주요',\n",
              " '세월호 참사 5주기를 하루 앞둔 지난 15일 오후, 차명진 자유한국당 경기 부천 소사 당협위원장의 SNS 글이 논란이다.',\n",
              " '인천시 동구는 가을을 맞아 지역 내 공원, 가로녹지대 등 주민들이 자주 왕래하는 주요',\n",
              " \"2014년 11월 '캔디 젤리 러브'로 데뷔한 후 청순한 이미지로 남성 팬들의 마음을 사로잡은 러블리즈는, 1년 전 아시아투어를 하고 싶다\",\n",
              " '보면 현재와 과거가 공존하는 시간여행이 가능하다.',\n",
              " '4일 대구시는 내년 예산을 9조 2천345억 원으로 편성해 시의회에 제출했으며, 예산은 장기 미집행 공원일몰제 대응과 주요',\n",
              " '과도한 분양자격 기준을 적용해 자의적 판단으로 우선 분양전환 자격을 결정하고 부적격자를 양산했을 뿐 아니라 분양받는 임차인들에게 웃돈까지 요구했다.',\n",
              " '시와 국회의원측이 주요',\n",
              " \"세종시는 정부세종청사 21개 정부부처 공무원을 대상으로 실시한 행정수도 관련 인식조사 결과에서 80%이상이 '국회 세종의사당' 설치가 필요하다고 밝히며 세종시장은 행정 비효율이 심각하고 해당 기관들의 설치가 시급하다\",\n",
              " '제품으로, 알코올 도수가 맥주와 비슷해 부담 없이 마실 수 있다.',\n",
              " '어기구 국회의원은 ‘충남지역발전소 주변지역 주민고용 확대방안’ 토론에서 당진화력 지역주민 고용율이 0.9%에 불과한 것에 대해 각 발전사들이 해당 지역주민들의 의견을 수렴해 개선안을 보완해야 하고  발전사들이 지역사회에 대한 책임을 충실히 해야 한다',\n",
              " '\"고 주장, 올 겨울방학 동안 석면 해체·제거 공사가 진행될 예정인 수원지역 초·중·고 17개 교에 석면 해체 및 제거 시 관리·감독 기능 강화와 감시체계를 만들어야 한다\"고 밝혔다.',\n",
              " '원인으로 꼽으며 가격 안정화를 위한 근본적인 대책 마련을 촉구하고 있다.',\n",
              " '나은 행정서비스 제공을 위해 1국 3과를 신설하는 내용의 조직 개편을 시행한다.',\n",
              " '한 보도에 따르면 버닝썬 직원이 서울에서 대마초를 팔다',\n",
              " '지난 11일 광주도시철도공사에 따르면 광주시 산하공기업인 도시철도공사는 각 지역별로 열리는 축제와 행사에 적극 참여해 2호선에 대한 시민 인지도와 호감도를 높일 수 있도록 홍보활동을 펼치고 시민사회와 공공영역이 함께하는 대중교통 혁신플랫폼을 구축해 시민 주도의 대중교통 붐업을 추진한다',\n",
              " '윤경환 관장은 2014년 선수 생활 은퇴 후 당진시체육회 복싱코치로 일하다',\n",
              " \"17일 광주광역시가 지난해 8월부터 아트도시 광주정책 추진, 광주 관문디자인 개선 등 다양한 사업을 수행해 온 가운데 지난 4일 '광주다운 도시공간 조성계획 용역' 착수보고회를 개최하고 '광주다운 도시만들기'를 본격 추진한다\",\n",
              " '사업을 추진함에 있어서 시민, 현장, 의회와 소통해야 한다.',\n",
              " '2015년 ‘유심’ 신인상을 수상하며 작품활동을 시작한 광주 출신 박노식 시인이 ‘이 시대의 외톨이’라고 시인의 존재를 규정해 그의 웅숭깊은 언어를 대면하며 잠깐이나마 ‘모두가 외톨이’가 되는 고요',\n",
              " '광산구는 송정공원역과 신창동 행정복지센터에 스마트 도서관을 설치해, 시민에게 보다',\n",
              " '스티브 로뷰(34·미국)와 아드리아나 히메네스(33·멕시코)는 국제수영연맹(FINA)에 의해서 2013년 바르셀로나 대회부터 정식 채택된 하이다',\n",
              " '대구시는 주요',\n",
              " '지난 31일 국회에서 이용섭 광주시장이 민주당과 예산정책협의회를 가지고 지역 국회의원들과 예산 간담회를 실시했으며, 김영록 전남지사가 전혜숙 행정안전위원장에게 지역 주요 현안을 설명하고 협조를 구하는 등 광주시와 전남도가 내년도 주요',\n",
              " '건을 충족한 신청자들을 대상으로 외부평가위원회에서 평가를 진행한다.',\n",
              " '원 역할을 할 것이다.',\n",
              " '과정으로 편성되었다.',\n",
              " '순직한 고 윤한덕 국립중앙의료원 중앙응급의료센터장에게 의인상을 수여하고 유가족에게 위로금을 전달키로 했다.',\n",
              " '다고 밝혔다.',\n",
              " '벚꽃명소를 부분 운영에 들어간다고 밝히고 31일 전야제 개막으로 화려한 꽃망울을 터트린다고 전했다.',\n",
              " '브랜드인 스프라이트가 지난 20일 다이브 인 스프라이트 존, 워터밤을 운영해 관객들에게 상쾌한 경험을 선사했다.',\n",
              " '”며 “내년에도 시정 제1목표인 일자리 창출을 위해 창업 활성화와 지속성장 기반 구축, 유망 중소기업 육성, 스마트 제조혁신을 통한 중소기업 경쟁력 강화에 매진해 나가겠다',\n",
              " '군정현황 설명회를 열고 지역구의 성일종 국회의원과 협력하여 지역발전을 위해 노력하기로 했다.',\n",
              " '최근 미국 그랜드캐년을 여행하다',\n",
              " '이빙과 수영대회의 꽃인 경영 등 인기 종목들이 일제히 시작되면서 대회 흥행몰이에 나선다.',\n",
              " \"30일 북구가 65세 이상 독거 노인과 1인가구를 대상으로 고독사를 예방하는 '모바일 안심 돌봄서비스'를 운영한다\",\n",
              " '시정정보를 신속하게 제공하게 되었으며, 향후 5년 이내에 공동주택을 제외한 전 마을로 서비스를 확대 보급할 수 있도록 적극 검토하겠다고 밝혔다.',\n",
              " '영화 ‘추격자’가 TV 방영하면서 실시간 검색어에 오르며 관심을 모으고 있는 가운데 한 인터뷰에서 한재덕 대표에게 나홍진 감독 차기작이 우범곤 총기 사건을 모티프로 한다는 그 영화인가?',\n",
              " \"불이익을 받는 일이 없도록 농림축산식품부 등 5개 부처 장관이 합동으로 서명한 '무허가 축사 적법화 추진을 위한 협조문'을 21일 광역·기초지자체장에게 보내기로 했다.\",\n",
              " '이철우 경북도지사는 주요',\n",
              " '말하며 1년 365일 상시국회 체제를 위해 국회법을 개정하자고 주장하고 국회의원에 대한 국민소환제를 도입할 것을 제안했다.',\n",
              " '경찰은 최근 전남도교육청의 학교물품 구입 비리 의혹에 대한 압수수색 중 전·현직 공무원들이 업자로부터 해외 골프 접대를 받았다',\n",
              " '대구시가 24일 시청별관에서 기관 현장 실무책임자들로부터 일자리 현장 체감과 개선점 발굴 등 평가와 의견을 제시받아 일자리 창출 대책에 적극 반영키 위해  \"2018년 일자리사업 성과평가 보고회\\'를 여는 가운데, 이승호 경제부시장은 \"이번 평가를 통해 지금까지의 관 중심 입안자 시각에서 벗어나 수요자 중심 시각에서 시민들이 체감할 수 있는 일자리 정책을 마련하겠다',\n",
              " '하여 붙여진 이름인데, 이 꽃의 이름은 흔하지 않게 경운 스님이 인도의 공주를 잊지 못하여 병에 걸린 애절한 사랑 이야기를 담고 있다.',\n",
              " '이에따라 김역록 지사는 2022년까지 해양쓰레기 제로화에 나섰고 정화운반선 지원 확대등 국고 보조율 상향을 해야 한다는 목소리도 높아졌다.',\n",
              " '니 답답할 뿐이다.',\n",
              " '전남은 전국에서 해양 길이당 쓰레기 분포 조사 결과 제일 많은 것으로 나타났다.',\n",
              " 'SOC 사업 진행에 지방채 발행 증액 등 시민 삶의 질 제고와 지역 경제 활성화를 위해 사용할 예정이다.',\n",
              " '18일 방송된 KBS2 제보자들에서 트로트 가수인 딸의 노래를 곡가 B씨에게 수천만 원을 주고 제작했고, 그 곡을 알리기 위해 몇 년간 열심히 활동을 해왔지만, 몇년간 불러왔던 노래가 유명 가요',\n",
              " '현안사업과 향후 국비 확보 추진 전략에 대해 논의하여 서로 협력해 나가기로 했으며 그에 따라 시는 사업 발굴에 주력한 뒤 주요 사업에 대한 국비 지원을 건의할 계획이다.',\n",
              " '식도 4자리 모두 쓸었으며 이러한 성적은 한국 정구 역사상 처음으로 진기록을 세운 순간이다',\n",
              " '당진시가 올해 전국 최초로 근로자가 최소한의 인간다',\n",
              " '던 방침은 크게 변질됐다.',\n",
              " \"계룡시는 취약계층의 생활 안정 도모와 중·장년층의 일자리창출을 위해 27일부터 31일까지 '2019년 공공근로 및 중장년층 일자리 사업'참여자를 모집해 재산, 가구소득 등 선발기준에 따라 총 209명을 선발할 예정으로, 단순한 일자리에서 벗어나 보다\",\n",
              " '인천의 사립유치원 248곳 중 44.4%에 해당하는 110곳이 유치원 회계로 만기환급형 보험금을 납부하다',\n",
              " '지난 12일 3월 14일인 화이트데이를 맞이하여 광주신세계가 지하 1층 식품관과 본관 2층에서 시즌에 맞춘 다양한 상품들을 선보이고 있다',\n",
              " '오는 12일 SBS 그것이 알고 싶다',\n",
              " '이번 세미나를 통해 대한민국이 비즈니스변화와 남북문제 및 대외문제 변화에 적응하여 새로운 방향으로 해결방법을 찾아야한다며 이번 세미나를 개최하게 되었다.',\n",
              " \"자유한국당 소속 윤상현 국회 외교통일위원장은 29일 일제 강점기 강제 징용 피해자에 대한 일본 기업의 배상문제로 한일관계가 역대 최악이라며 일본의 '코리아 패싱(한국 때리기)'이 심각하다고 말했다.\",\n",
              " \"명곡들과 수성구의 역사문화자원을 변사가 스토리텔링 방식으로 진행하는 변사극 '비 내리는 고모령'을 공연한다.\",\n",
              " \"'는 취지의 보도를 다룬 것에 대해 이는 명백한 허위사실이라고 주장하며 SBS와 양측의 공방이 이어지고 있다.\",\n",
              " \"'고 지적했다.\",\n",
              " '지난4일치른 19년도 대학수학능력시험 6월모의평가는 지난해 수능에 비해 표준 점수 하락이 예상되며, 가채점 결과 분석에 따르면 영어영역 1등급(90점이상) 학생수는 전체 7~8%로 예상된다.',\n",
              " '수목원이 한국관광 100선에 선정되었으며 3회 연속 국내 대표 관광지로 선정되었다.',\n",
              " '제64회 현중일을 맞아 광주시와 전라남도에서는 주요',\n",
              " '를 주제로 열리며 평생학습을 통한 소통과 축제의 장으로 치러진다.',\n",
              " '습한 날씨 속에서 나주시가 오는 7일까지 중점 방제기간을 정하고, 장성군도 지난 4일부터 7일간 ‘돌발해충 공동방제의 날’로 정하는 등 전남 자치단체들이 ‘돌발해충’ 피해 및 확산 방지를 위한 선제적 대응에 나서고 있다.',\n",
              " '곽대훈 한국당 대구시당 위원장은 패스트트랙으로 인한 국회의 운영이 잠시 중단된 가운데 대구·경북(TK) 자유 한국당 의원들이  지금 중요한 것은 민생경제이니 지역구 의원들의 민생현장 방문을 주문하고 있다',\n",
              " '2019광주세계수영선수권대회 조직위원회는 대회 개막 14일 전인 지난 6월 28일까지 대회 입장권 판매가 목표판매량의 88%를 달성했으며 하이다',\n",
              " '근본적인 대책으로 대통령의 세종집무실을 설치할 것을 요청하였다.',\n",
              " '이에따라 농가는 농업 재해로 규정하여 보상을 요구하고 있고 관계자는 조사가 필요하다',\n",
              " '적발된 17개 시설의 업주 17명을 형사입건했다고 5일 밝혔다.',\n",
              " '물뽕을 마시면 15분 안에 의식을 잃고, 이후 일어난 일도 전혀 기억을 못한다고 한다.',\n",
              " '검거된 총책 P(42), 각각 전남 일대 도박사이트를 관리하던 전남지사 관리책, 광양 도박장 운영자 P씨와 Y씨 등 일당 3명을 150억 대 사이버 도박장을 개설해 도박공간을 제공한 혐의 등으로 붙잡아 조사하고 있다고 17일 밝혔다.',\n",
              " '세기의 라이벌인 두 사람의 득점 경쟁이 치열하다.',\n",
              " '영동군은 지난 2일부터 7일까지 군청 상황실에서 주요',\n",
              " '광주예술고등학교가 내년 2020학년도 신입생부터 주요',\n",
              " '경기도교육청의 도내 여론 조사 결과 응답자 중 59.1%는 현재 사교육을 유지하겠다고 답했으며, 27.1%는 사교육 추가 실시하겠다',\n",
              " '이용석 광주시장은 정책간담회에서 경제 산업 전반의 패러다임이 급격히 변화하는 무한 경쟁 시대에 지역경제의 근간인 중소기업들의 지속 성장을 위한 경쟁력 강화가 매우 중요하다',\n",
              " \"체계적이고 종합적으로 파악하도록 하기 위해 해당 분야의 사업 담당자들이 예비신청자에게 소개하는 방식으로 진행하는'2020년도 문화·체육·관광 분야 공모사업 통합설명회'를 연다.\",\n",
              " '당진시건강가정지원센터는 아이돌보미 양성교육을 통해 부모의 맞벌이 등으로 양육 공백이 발생한 가정의 만3개월 이상부터 만12세 이하 아동을 아이돌보미가 직접 찾아가 돌봐주는 아이돌봄서비스를 제공하는데 이는 연중 24시간 원하는 때에 언제든 이용 가능하다.',\n",
              " '100주년을 맞은 3·1운동 및 상해 임시정부 수립의 숭고한 희생정신과 독립의지에 대하여 우리 후손들이 숨겨졌던 역사 및 인류 문화적 가치와 의미를 재조명해 되새기는 것이 마땅하다',\n",
              " 'A양은 지속적인 학대를 두 번이나 알렸으나, 법으로부터 제대로 된 보호 조치를 받지 못했다.',\n",
              " '또다시 송하진 의원의 사퇴가 이어졌다.',\n",
              " '제 등 다양한 프로그램을 진행하며 관광객들에게는 직거래 판매코너를 운영한다.',\n",
              " '서울호서예술실용전문학교 반려동물학과 계열 학생들이 7일 관세청장배 탐지견 경진대회의 8개 학교 40개 팀 중 최고의 수상 성적을 내어 종합 우승을 차지하였으며, 해당 학교는 여러 반려견관련학과가 있고, 면접으로만 학생을 선발하고 있다',\n",
              " \"대축제'에서 방탄소년단 지민은 완벽한 춤과 노래로 포털사이트 실시간 검색 1위에 오르는 기염을 토했다.\",\n",
              " '핵심 현안사업에 대한 국비 확보를 위한 노력을 펼쳤다.',\n",
              " '광주시는 고증을 통해 희경루를 중건할 계획이다.',\n",
              " '기업 131개사를 대상으로 실시한 설 연휴 및 상여금 실태 조사 결과, 부산지역 기업 중 설 상여금 제공 예정 기업이 작년보다 소폭 감소한  68.5%인 것으로 조사됐다.',\n",
              " '호남대는 이를 위해 대학교육 혁신, 산학 연구 혁신, 국제역량 혁신, 학생지원 혁신, 대학경영 혁신 등 5대 혁신 발전전략과 함께 20개의 전략과제를 세부적으로 발표하였다.',\n",
              " '밝혔으며 7월 중 모바일 모니터링 시스템 구축을 완료할 예정이다.',\n",
              " '전과 8범 A씨는 아동청소년 강간미수 혐의로 징역1년 3월형을 살고, 5년간 전자발찌 부착 명령상태에서 지난 17일 전자발찌를 끊고 도주하다',\n",
              " \"대구공항의 대중교통 접근성을 향상시키기 위해  대구국제공항과 동대구역에 도입하고자 했던 ‘13인승 공항 셔틀택시’가 국토교통부의 '현행법상 합승 금지 규정 위반의 소지가 있다\",\n",
              " '지난달 2일 민·관의 협력으로 전남 신안군 도초도에 한국 최초 덴마크형 사회교육 모델인 ‘섬마을 인생학교’가 열렸는데, 바깥 세상에서 잃어버린 것들을 내 안에서 찾아내고 인생을 돌아보며 미래를 설계하는 성인용 평생(사회)교육과정으로 참가자들의 높은 만족도에 입소문이 나 인기를 끌고 있다.',\n",
              " '가평군 상면에 위치하는 아침고요',\n",
              " '태안군은 서산군에 속해 있다',\n",
              " \"다시 뭉치는 '이합집산'은 한국 정치의 특징으로 보이고 있다.\",\n",
              " '퓨전·대중가요',\n",
              " \"'는 의견에 따라 그 전망이 불투명해졌다.\",\n",
              " '운 야행을 즐길 수 있는 곳을 소개할 예정이다.',\n",
              " '이빙 경기가 치러지며 조선대 본관 건물과 무등산을 배경으로 27m 높은 곳에서 뛰어내리는 아찔한 광경을 순간 포착하는 등 전 세계에 광주를 알릴 수 있는 절호의 기회가 될 것으로 보이고 하이다',\n",
              " '오산시는 보다',\n",
              " '대학원 입시와 전문연구요',\n",
              " '또한 광주시는 남구 도시첨단 사업에 멀티터미널 직류배전 플랫폼 구촉사업에 2000억원을 투입하는 등 사업 추진에 적극적이다.',\n",
              " '조아-하다',\n",
              " '이용섭 광주시장은 공공기관의 설립목적을 설명하며 시민들이 공감하는 획기적인 성과를 창출하는 공공기관에 대해서 반드시 보상을 하겠다',\n",
              " '남매와 아내 송승아 씨가 자외선 차단을 위해 궁중비책 선쿠션을 바르는 일상을 담은 궁중비책 광고 영상이 열흘 만에 유튜브 35만 조회수를 기록하며 화제가 되고 있다.',\n",
              " '소 실시간 접수·운영 채널 3개 분야로 운영한다.',\n",
              " '한쪽 눈을 잃은 이지현(이세상)씨의 자전적 이야기 ‘애꾸눈 광대’가  8일부터 11일까지 오후 7시 30분 광주 동구 궁동예술극장에서 막을 올린다.',\n",
              " '분야 직원을 채용한다고 밝혔다.',\n",
              " '에 출연한 손준호는 성악을 배우기 위해 중학생 때부터 김동규의 집에서 동고동락을 하였다고 밝히면서 놀라움과 훈훈한 분위기를 자아냈다.',\n",
              " '첫곡 영웅행진곡을 장식으로 오케스트라와 오르간 만남으로 음악체험을 선사할 예정이다.',\n",
              " '그리스의 한 TV쇼 출연진들이 방탄소년단과 엑소의 외모를 비하하는 발언을 하여 논란인 가운데 염색한 모습이 끔찍하다,',\n",
              " \"'는 주장이 제기되고 있다.\",\n",
              " '강력한 비상저감 조치들이 필요하다.',\n",
              " '던 소망대로 오는 3월 싱가포르를 거쳐 홍콩, 대만까지 아시아 투어에 나선다.',\n",
              " 'ONE Championship 2승을 모두 1라운드 KO승한 권원일(23)이  데뷔 후 가장 어려운 상대 고요',\n",
              " '피해를 입은 벼에 대해서는 적극적으로 도움이 되도록 지도해나갈 계획이라 하였다.',\n",
              " '은 학생은 앞으로 친구들도 공감할 수 있는 기사를 쓰고 싶다고 소감을 밝혔다.',\n",
              " '지속적이고 생산적인 일자리 창출을 도모할 예정이다.',\n",
              " '공급기업 간 매칭데이, 스마트 공장 설명회도 주최할 예정이다.',\n",
              " '이용섭 광주시장은 광주시와 중국과의 우정을 보다',\n",
              " '지난 20일 김모씨 등 아이돌보미 160여명이 광주 모 대학 산학협력단 등 4개 기관을 상대로 낸 임금 소송 항소심에서 광주고법 민사2부는 근로자로 인정해 휴일근로수당 등을 지급해야 한다',\n",
              " '이빙 종목을 모두가 사랑하고 즐길 수 있는 스포츠로 성장시키고 싶다고 포부를 밝혔다.',\n",
              " '법에 대해 건강보험이 적용됨에 따라 추나요',\n",
              " '밝히며, 한랭질환 일일모니터링과 홍보 캠페인 등 경계를 늦추지 않고 있다.',\n",
              " '붙잡혀 강제 출국 조치될 예정이다.',\n",
              " \"광주시 북구에 따르면 오는 4일 오전 10시부터 오후 4시까지 전남대 컨벤션홀 일대에서 '일자리 만남의 장'을 마련했다.\",\n",
              " '도로에 서 있던 A(60·여)씨를 친 뒤 조치를 취하지 않고 달아나 결국 사망에 이르게 한 정모(47·남)씨에게 특정범죄가중처벌등에관한법률위반(도주치사)등 혐의로 죄질이 나쁘다고 고려해징역 7년을 선고했다고 10일 밝혔다.',\n",
              " '26일 완도, 여수, 고흥 등 곳곳에 호우특보가 내려졌다',\n",
              " '정부는 올해 10월부터 ‘첩약 급여화 시범사업’을 시행한다는 발표를 하였으나, 이미 2017년과 올 해 10월 각각 한방 추나요',\n",
              " \"늘어나게 되었다고 밝히며'2019년 상반기 뉴라이프 아카데미' 에 수강생을 모집한다고 알렸다.\",\n",
              " '전남, 광주에 장맛비가 쏟아지며 물난리 피해가 발생했다.',\n",
              " '농촌진흥청의 자료에 따르면 국내에서 유통되는 주요',\n",
              " '캄보디아 프놈펜으로 봉사활동을 실시하다',\n",
              " '경기도 특별사법경찰단은 소방공사 기간에 해외여행 중이던 상주 감리원이 현장에서 업무 한 것처럼 감리일지를 거짓으로 작성하는 불법행위를 한 감리업체 9곳을 적발했으며, 이들이 없는 틈에  공사 현장에서는 주요',\n",
              " \"스 오피스의 '최영수' 부장역을 맡은 '이황의'는 명품 연기로 안방 시청자들의 공감을 이끌어 낼 예정이다.\",\n",
              " '대전지방경찰청은 지난달 10일 대전 중구 대흥동에서 무면허로 머스탱 차량을 운전하다',\n",
              " '중앙아시아 3개국 순방을 마치고 귀국한 문 대통령은 집무실로 출근하여 참모들로부터 주요',\n",
              " '지난 15일 취임한 김태봉 대덕대 총장은, 이날 기자 간담회에서 2013년부터 시작된 교직원 임금 문제는 상당한 재정 투입이 요구되지만 여건이 허락되는 범위 내에서 우선 순위로 해결해 나갈 것이며, 4차산업혁명시대에 걸맞는 중장기 대학발전계획 역시 재수립해 나가겠다',\n",
              " '특수학교 전 학급에 공기정화장치를 보급한다.',\n",
              " '추경호 의원은 근로시간 단축 위반 사업장에 처벌유예기간이 종료된 것과 관련해 탄력근로제 단위기간 확대 등 보완적 입법조치가 마련될 때까지 위반 사업장에 대한 처벌을 유예해야 한다',\n",
              " \"'라는 문장으로 시작되는 정유정 작가의 동명 베스트셀러 원작 '7년의 밤'을 바탕으로 제작된 영화이다.\",\n",
              " \"(재)군포문화재단이 수리산상상마을에서 진행하는 미디어아트 기획전시 '모두 잠든 밤, 빛을 주우러 가자'가 어린이들에게 새로운 경험의 기회를 제공하여 일 평균 240명의 관람객이 찾았고.\",\n",
              " '인천항만공사(IPA)는 온라인 소통 채널을 통해 국민 참여를 확대하고 다양한 아이디어를 제안받고자 ‘e-해해(海) 소셜네트워크(SNS) 플랫폼’을 오픈했으며, 국민 참여 제안과제 발굴과 이해관계자별 일대일 맞춤형 소통, 국민 참여형 인천항 안전 위해요',\n",
              " '현행 관련법상 시장,군수,구청장의 승인이 없는 차량개조 및 운행은 1년 이하의 징역이나 1000만원 이하의 벌금 부과대상이며, 정비불량차를 운전할 경우 6개월 이하의 지역이나 200만원 이하의 벌금형으로 규정하고 있다.',\n",
              " '과징금과 검찰 수사를 받게 되었다',\n",
              " '31일 서울 강서구 제주항공 회의실에서 제주항공과 국민체육진흥공단 관계자 등이 참석한 가운데 업무 수행 능력을 보다',\n",
              " '할머니는 남편의 유지를 받들어 서천에 1억을 기부했고 서천사랑장학회에 500만원도 전달했다.',\n",
              " '김진식 금호동장은“대한민국 최고 권위의 미술대전에서 대거 입선해 금호동주민자치센터의 명성을 전국에 알린 한국화반 수강생 모두에게 축하와 격려의 말을 전한다”며“앞으로도 다양한 여가활동 보장과 문화생활 향유를 위해 노력해 나가겠다”고 말했다.',\n",
              " '이빙에서 1위를 차지한 호주 선수 리아난 이프랜드가 광주세계수영선수대회에서도 1위에 오르며 2연패를 달성하였다.',\n",
              " \":산수-사소한 풍경의 익숙한 침묵'을 주제로 열리는 전시에서 작가는 산수동과 주변 두암동, 지산동의 소소한 풍경을 담아낸 신작들을 선보이고 있다\",\n",
              " '광주 북부경찰서가 검거하여 부착기간이 2020년 8월14일까지 늘었다.',\n",
              " '시정 및 지역 현안에 대해 설명하는 시간을 가졌다.',\n",
              " \"호남대학교가 개교 50주년인 2028년까지 대학교육과 산학연구, 국제연략, 학생지원,  대학경영 등의 5대 부문에서의 혁신을 통해 교육가치 창출 1위대학이 되겠다는 목표를 갖고, '호남대 vision 2028'을 발표하였으며, 대학교육 혁신으로 세상을 바꿀 수 있는 융복합대학으로 거듭나겠다는 비전을 밝혔다.\",\n",
              " '”고 주장했고 근로감독을 실시 계획으로 최저임금 인상으로 인한 고용대란과 소득분배 악화를 해소하기 위해 내년도 최저임금 동결을 강력히 촉구한다”고 밝혔다.',\n",
              " '충주의 사이다',\n",
              " '<엄마를 살릴 수만 있다면…> 기사가 보도된 이후 따뜻한 온정의 손길이 계속되고 있다.',\n",
              " '김영국 대전 회덕농협 조합장이 자진사퇴한 회덕농협은 내달 4일 보궐 선거를 치러야하는 데다',\n",
              " '아파트 전력 복구 작업에 나서 완료에는 최대 2주가 걸릴 것으로 예상된다고 전했다.',\n",
              " '팝송 등의 음악도 함께 방송한다고 밝혔다.',\n",
              " '최근 자신의 삶을 녹인 수필집을 낸 저자는 대전지방경찰청에서 30년 간 경찰로 근무하다',\n",
              " \"광주시 동구는 '아이 키우기 좋은 동구'를 목표로 생활환경.안전.교육환경.보건복지.\",\n",
              " '\"라고 약속했다.',\n",
              " '국가대표 자격을 박탈당하고 유학길에 올라 현재 미국에 거주하며 변호사로 지내고 있는 근황을 알렸다.',\n",
              " '김광진 원예특작원 연구관은 미세먼지대책으로 발생원을 축소하는 데에 주력하느라 일상 속 ‘자연과의 공존’은 놓치고 있는 실정으로 \"식물 동반환경 조성” 강조하며 자연을 대신할 수 있는 원예가 곧 생활이 돼야 한다',\n",
              " \"문재인 대통령은 22일 국립대 총장 24명을 청와대로 초청해 오찬을 함께하며 '4차 산업혁명 시대에 필수적인 미래융합형 연구와 인재를 양성하기 위해 학문 간, 전공 간, 심지어 문과,이과까지의 융합도 해야 한다\",\n",
              " '10일, 예산군이 저체온증, 동상 등의 한랭 질환 주의보를 발령한다',\n",
              " '이빙 경기가 다음 달 22일부터 광주시 동구 조선대 축구장 임시 풀에서 사흘간 펼쳐진다.',\n",
              " '이재명 경기도지사는 지방자치의 내실화를 위한 경기북부 분도는 필요하나 시기상조라고 선을 긋고 내년의 도 주요',\n",
              " '대전 리허설 중 큰 부상을 입은 것에 대해 레드벨벳 갤러리는 SBS의 안전불감증이 여전히 심하다며 SBS가 웬디에게 진심으로 사과하고 이번 사고의 진상 규명이 빠르게 이루어지지 않으면 법적 대응으로 이어질 것이라고 밝혔다.',\n",
              " '의심할 만한 정황을 포착하면서, 수사 결과에 따른 파장이 예상된다.',\n",
              " \"JYP엔터테인먼트 신인 걸그룹 ITZY(있지)가 첫 디지털 싱글 ‘IT’z Different’의 타이틀곡 ‘달라달라'를 발표하고 정식 데뷔한지 10일 만에 음악 방송 1위에 오르면서 가요\",\n",
              " '구직 희망자는 이력서와 자기소개서, 자격증 등 관련 서류를 지참해 구인기업과 1대1 현장면접 및 2차 심층면접을 통해 취업이 가능하다.',\n",
              " '응답했으며 이는 경기전망에 대한 부정적 인식이 영향을 미친 것으로 나타났다.',\n",
              " '밝혔으며, 교육은 AI 방역정책, 국내외 AI 발생 동향 및 분석, 축종별 특성에 맞는 예찰 및 소독요령, 휴업보상, 사양관리방법 등을 내용으로 진행될 예정이다.',\n",
              " \"' 등을 선정하고 상을 주는 자리를 가졌다.\",\n",
              " '유제품은 상승하고 육류는 유지되었고 유지류와 곡물 그리고 설탕의 가격이 하락했지만 전체적인 곡물 생산량과 소비량이 맞아 떨어지고 있다.',\n",
              " '판단한 것으로 보인다.',\n",
              " '목재페스티벌은 친환경 재료이며 인체 친화재료인 목재의 중요성과 효율성을 알리는 체험교육의 장으로 자리잡았다.',\n",
              " '고흥군은 네팔.인도.',\n",
              " '2012년 여수세계박람회 부지 사후 활용을 두고 민간업체에 매각시켜야 한다,',\n",
              " '접수된 아이디어는 6월 중 제한심사위원회에서 제안 등급을 정해 북구청장상과 함께 부상을 지급한다.',\n",
              " '한국당의 황교안 대표와 박근혜 전대통령이 세월호 사고 책임자로 고발당한 것에 대해 세월호 유가족을 원색적인 언어로 비난하였는데, 이와 관련해 논란이 커지자 차 위원장은 사과글을 남기고 SNS와 방송 활동 중단을 선언했다.',\n",
              " '민속씨름의 전통을 지켜 현대코끼리씨름단이 해체 위기에 있을때 인수를 했고.',\n",
              " '대진대학교 휴먼건축공학부가 양국 건축의 차이를 이해하고 상호 보완하여 미래 건축에 대한 답을 찾아보고자 개최한 ‘제1회 한·일 취업연계 학생교류’에서 한일 건축전공 학생 15명(한국 11명, 일본 4명)이 참가해 3일간의 합숙을 통해 많은 학생들이 실생활에 반영할 수 있는 창의적 아이디어를 제시하는 등 기대 이상의 성과를 이뤄냈다.',\n",
              " '소방공사가 그대로 시행됐다.',\n",
              " '순천시는 타지역에 거주하다',\n",
              " \"일본군의 총탄에 맞아 순국한 목면 출신 권흥규 의사의 숭고한 뜻을 기리기 위해 '순국 100주년 권흥규 의사 제향' 행사를 개최했다.\",\n",
              " '의회에 불참했다는 내용의 영상이 온라인에 퍼지는 것에 거짓 정보들이 너무 많아 열거하기 힘들 정도라고 비판하며 영상을 만든 사람이 기자였다면 이렇게 만들지 못했을 것이라고 부연했다.',\n",
              " '음 모두 주위에 편의시설이 있고, 중심 브랜드 타운라인에 서게 돼 수요자들의 관심이 집중되고 있다.',\n",
              " '29일 한국무역협회 대구경북지역본부는 지난해 대구, 경북지역 기업 수출이 전년 대비 5.9% 감소하였고, 대구 수출은 자동차부품과 산업기계 덕분에 전년 대비 12.3% 증가해 사상 최고치를 찍었지만 경북은 세계 스마트폰 시장의 감소로 주요',\n",
              " '\"며 소감을 전했다.',\n",
              " \"국회 행정안전위원회가 지난 10일 대구시를 상대로 진행한 국정감사에서 신공항 건설 및 공공기관 낙하산 인사 등이 주요 이슈가 된 가운데, 더불어민주당 김영호 의원이 대구시민들을 '수구'로 지칭한 발언을 했다\",\n",
              " '채솟값 폭락으로 인해 전남 농민들은 정부의 농산물 수급정책 실패에 대해 성토하면서 성난 민심을  표출하고, 최근 불황 여파로 음식점 등에서 채소 수요가 줄어든 것이 주요',\n",
              " \"'고 밝혀 앞으로의 귀추가 주목된다.\",\n",
              " '광주시의회 김점기 의원은 광주김치타운에 내 김치공장이 임대 전 시설 보수 및 보강을 하지 않아 위생상태 불량으로 평가받아 ‘0’점 처리가 돼 학교 납품업체 선정 부적격 평가를 받았다',\n",
              " '경주시의회가 오는 19일까지 제239회 임시회를 열어 상임위원회별로 주요',\n",
              " '베스트가 열리며 MC 조영구, 조정민 씨의 사회로 설운도, 김혜연, 문희옥, 배일호, 정수라, 강진, 유지나 등 20여 명의 유명 가수들이 총출동해 열정과 희망의 무대를 선보인다.',\n",
              " \"음의 '다정한 이웃, 사람중심 행복한 대구혁신도시 서한이 다음'이 가장 높은 점수를 받은바 있다.\",\n",
              " '계 데뷔를 예고했다.',\n",
              " '지난달 27일 송악농협 대공연장에서 당진시 이통장 워크숍과 당진시지회장의 이취임식이 열려 당진지역 273의 이통장을 대상으로 인권교육과 주요',\n",
              " '작년 12월 31일 포천시 A업체에서 지게차 위에 올라가 천정에 묶인 커튼 휘장을 걷어내던 직원이 떨어져 사망한 사고가 발생했고, 이에 대해 재판부는 보호구도 지급하지 않고 중장비 등을 다른 용도로 사용하다',\n",
              " \"하동지역 주민들의 협동조합인 ‘하동주민공정여행 놀루와' 는 29일에 경남 하동군 악양면 평사리 들판에서 ‘제1회 평사리 들판 논두렁 축구대회’를 개최한다고 밝혔다\",\n",
              " '인사와 유족, 시민들이 참여한 가운데 순국선열과 호국영령을 기리는 추념식을 거행해 나라를 위해 헌신한 분들을 추모했다.',\n",
              " '홍성군은 다음달까지 대규모 공사장을 중심으로 미세먼지 발생 핵심현장에 대한 특별점검활동과 위생업소 250개소를 집중관리하는 등 미세먼지 등 환경분야, 안전 먹거리 확보 분야, 재난 안전 인프라 구축 등 군민 생활을 위협하는 위해요',\n",
              " '계룡시는 민선5기 일자리 종합 계획을 수립하고 2022년까지 397억 원을 투입해 1만여 개의 일자리를 창출하겠다',\n",
              " '노인 학대 행위자의 70.6%가 자식 혹은 배우자로 주요',\n",
              " '휘발유와 소주 값까지 오르게 되면서, 지갑이 얇아지는 5월을 맞은 서민들은 이중고를 앓고 있다.',\n",
              " \"조선대병원이 운영하는 '2019 광주세계수영선수권대회' 의료지원단은 응급의학과, 내과, 외과, 정형외과, 영상의학과, 재활의학과, 간호부 등 총 140여 명으로 구성돼 선수촌 메디컬센터와 의무실, 조선대 하이다\",\n",
              " '말했고, 공공기관의 혁신과 소통을 강조했다.',\n",
              " '보행자도로를 완공했고 폐철도를 활용한 전국 첫 사례이다.',\n",
              " '제4회 부천세계비보이대회(BBIC)가 6일부터 8일까지 3일간 부천시청 어울마당에서 펼쳐진다.',\n",
              " '광주시는 주요',\n",
              " 'LG는 응급의료 전용 헬기 도입, 국가 응급진료 정보망 구축과 재난응급의료 상황실 운영 등 응급의료 발전을 위해 헌신하다',\n",
              " '현안사업에 대한 정부예산안 반영을 위해 19일 안일환 예산실장과 중앙정부에 방문해 경북도 현안사업을 설명하고 주요 현안사업에 대한 전폭적인 지원을 부탁했다.',\n",
              " '적발된 쇼트트랙 대표팀의 김건우에 대해 출전정지 1개월과 그의 출입을 도운 김예진에겐 견책 처분을 내리고  퇴촌과 동시에 각각 재입촌 금지 3개월, 1개월의 징계도 내렸다.',\n",
              " '부산 사하경찰서는 지난 16일 오후 7시 20분 사하구 괴정사거리에서 신호등 정지 신호를 피하려고 진로를 변경하며 주행하다',\n",
              " '유학원들은 문턱이 낮은 해외 의대를 통해 한국에서 의사가 될 수 있다',\n",
              " '광주를 찾는 국내외 방문객들이 주요',\n",
              " '문화콘텐츠 산업 전국 매출액의 85%가 서울과 경기 지역에 집중된 반면 전남은 0.4%로 최하위인 것으로 조사됐다.',\n",
              " '적발된 전직 경찰에게 징역 2년의 실형을 선고했다.',\n",
              " '인천 지역 주민들이 인천 송도국제도시를 기점으로 주요',\n",
              " '대표가 직접 주방서 요리하며 48시간 푹 고은 육수를 사용해 정성을 더했다.',\n",
              " '출퇴근 시간대 이용자들이 일시에 몰려 제때에 버스를 타지 못하는 병목정류소에 점핑버스 또는 3-Door 출퇴근 전용버스가 추가 투입되고, 또한 노폭이 좁고 이용 수요가 적은 곳에는 준중형버스를 운영하며, 노선 신설이 필요한 경우 입찰제를 도입하는데, 먼저 시민들에게 보다',\n",
              " '밝혔으며, 여성, 노인, 장애인, 청년 등 계층별 일자리 사업을 확대하고 일자리 안내 센터를 통한 취업 교육, 취업 알선 등 맞춤형 고용서비스를 시민들에게 제공할 예정이다.',\n",
              " '편리한 도서 대여 서비스를 제공한다.',\n",
              " '기적적으로 병을 극복한 사연을 소개했다.',\n",
              " '18일 서산시는 시의회 제238회 제2차 정례회 5분 발언을 통해 지역 쌀 판매를 등한시하는 대형마트에 문제점을 제기한 안원기 의원과 시 관련 부서의 노력으로 그간 롯데마트 서산점에 여러 번 입·퇴점을 되풀이하다',\n",
              " '대학생 161명에게 총 3억800만 원의 장학증서를 수여했다.',\n",
              " '전체 운전면허 소지자 가운데 술을 마시고 차를 몰다',\n",
              " '습한 환경에서도 형태안정성이 확보되고, 방충 성능이 우수한 ‘기능성 디자인 벽지’ 개발에 성공했으며, 동남아 인테리어 시장확대가 기대된다고 밝혔다.',\n",
              " '및 인도 아이들에게 의류·신발, 책가방을 전하기 위해 ‘선물이 간다간다 우간다’ 기부운동을 펼쳐 500점을 기부 받았다.',\n",
              " \"인천시는 1일 2019년 부터 달라지는 지원 정책을 소개하는 책 '2019년 인천시민의 생활은 어떻게 달라질까요\",\n",
              " '2019 광주세계수영선수권대회가 중반을 넘어서면서 경영과 하이다',\n",
              " '22일 광주시와 전남도.',\n",
              " '나주 혁신도시 이노시티 애시앙이 20일날 1천478가구를 분양한다고 밝혔다.',\n",
              " '해원초등학교에서 15m 떨어진 해운대구의 우3동 아파트 밀집지에 65층짜리 주상복합 건립을 위한 지구단위변경신청이 시도되자 주민들은 해원초등학교의 학습권이 침해되는 데다',\n",
              " '체계화 할 예정이다.',\n",
              " '던 여수시의 인구가 주거 여건의 불안정 등을 이유로 두 달만에 다시 감소하며 여수시는 인구 증가 정책의 근본 대책 마련이 급하다는 비판을 받고 있다.',\n",
              " '레드벨벳 멤버 웬디가 25일 SBS 가요',\n",
              " '적극적인 민간경제교류와 협력 활성화 방안을 논의했다.',\n",
              " '간선도로에 C-ITS를 구축한다.',\n",
              " '이는 지역 의료 수준 향상, 해외 시장에서 의료 기술 경쟁력 강화, 의료기관 외국인 환자 유치 등으로 지역경제가 활성화 될 것을 기대하고 있다.',\n",
              " '경남 밀양강 둔치 특설경기장에서 열린 제1회 밀양시장배 전국승마대회에서 고령군 대가야기마문화체험장 대가야유소년승마단이 권승경기, 거북이달린다,',\n",
              " '이빙 경기를 총괄하는 이종희 담당자는 현재까지 시설이나 선수가 전혀 없는 하이다',\n",
              " \"아시아 협력 강화와 이해 증진을 위해 '2019아시아문화주간'이 국립아시아문화전당에서 '아시아를 노래하다\",\n",
              " \"인 등에 대해 이야기하며 '한반도 평화'의 중요성을 강조했다.\",\n",
              " '법을 환자 본인이 1만-3만 원만 부담하고 진료를 받을 수 있다.',\n",
              " '당진시가 평생학습체육과로 평생학습을 변경하면서 평생교육팀이 전담해 오던 업무를 분리하여 평생교육 프로그램의 운영과 지원을 보다',\n",
              " '체계적으로 추진할 계획이라고 하면서 한단계 업그레이드 된 평생학습을 선보일 예정이다.',\n",
              " '황금사자기를 통해 또 다른 연승에 도전한다',\n",
              " '4일 해남경찰서와 해남소방서에 따르면 지난달 30일 오전11시3분 해남군 화원면에 사는 A(79)씨가 실종됐다는 신고가 경찰에 접수되어 경찰과 소방, 육군 등이 투입되어 수색 중 수색 개시 2시간30여분만인 오전 11시35분쯤 군부대 수색견이 A씨의 것으로 추정되는 슬리퍼를 발견한 후 주변을 집중 수색하여 A를 발견했다.',\n",
              " '광주교육 당국은 사학 공공성 강화를 위해 사립학교 교원 위탁채용을 실시하고 있지만 허울뿐인 제도라는 지적이다.',\n",
              " \"노무현 전 대통령과 김정일 전 국방위원장이 남북관계 발전과 평화 번영을 위해 발표한 '10·4 남북정상선언'이 발표된지 12주년을 맞아, 인천 시민단체로 구성된 '인천, 평화가 온다\",\n",
              " '이는 전경준 감독 대행 체제에서 처음 울리는 승전고이다.',\n",
              " '당진시여성단체협의회가 제24회 평등문화 공감축제 일환으로 서양화, 수묵호, 문인화, 서예, 도예, 조각 등 여러 분야에서 활동하는 여류작가 39인의 다양한 미술작품들이 선보이는 여성미술 초대전 <함께하다',\n",
              " '이인영 원내대표는 국회 교섭단체 연설에서 매달 1일 자동으로 국회를 열어 빈손 국회를 원천 차단해야 한다',\n",
              " '개인사업부터 봉사와 의정활동까지 열정적이었던 전 당진시의회 황선숙 의원이 지난해 6.13 지방선거 이후 위암 투병하다',\n",
              " '더불어민주당이 내년 총선 공천 심사에서 탈당 감산 기준을 ‘최근 4년 이내 탈당자’로 제한하고, 탈당 횟수는 감산 기준에서 배제하기로 결정하여 상습탈당자도 4년만 지나면 감점을 받지 않게 되어 무분별한 출마에 따른 탈당 경력자들을 엄벌하겠다',\n",
              " '사안의 견해차로 의원 간 심각한 대립을 노출했던 점은 풀어야 할 숙제라는 분석이다.',\n",
              " '공공을 위해 활용되어야 한다는 주장으로 나눠져 이견을 좁히지 못하고 있다.',\n",
              " \"3일, 김부겸 의원은 '수성 행복드림센터'사업이 생활SOC 복합화사업에 최종 선정된 것에 환영한다\",\n",
              " '2018년 공무원 임용에 합격한 충남도립대학교 학생은 총 45명(공개경쟁 37명, 경력경쟁 8명)으로 개교 이래 20년간 총 752명의 공직자가 배출됐는데, 이에 허재영 총장은 공직진출을 위해 지원한 다양한 프로그램들이 실질적 결실을 맺어가고 있으며, 앞으로 중부권 최고의 공직 배출 명문대의 명성을 계속 이어갈 수 있도록 최선을 다할 것을 다짐했다.',\n",
              " '적발된 현대제철 당진공장을 고발하였다.',\n",
              " '사고를 낸 무면허 운전자를 구속하고 차량까지 몰수하였으며 운전자들은 경각심을 일깨우지 않고 사고가 잇따라 적극적으로 차량 압수 조치를 시행할 예정이라고 밝혔다.',\n",
              " '·민요 공연이 준비될 예정이다.',\n",
              " '부산사하경찰서는 2일 길가에 세워둔 차량을 몰다',\n",
              " '도정 성과에 대해 설명하고 증평경찰서·종합운동장 조성을 적극 지원하겠다고 밝혔다.',\n",
              " \"감, 허영지, SF9 로운이 출연해 '혼자 떠나는 여행'이라는 주제로 혼자하는 여행을 설계하고 여행지의 메뉴를 소개한다.\",\n",
              " '이에 김 의원은 \"지방과의 문화 양극화가 경제 양극화로 이어질 가능성이 크다\"며 \"균형 발전 방안을 수립해 대응해야 한다\"고 말 했다.',\n",
              " \"광주수영대회 조직위원회에 따르면 '2019광주세계수영선수권대회'가 종반으로 접어든 가운데 가장 큰 관심을 끌고 있는 하이다\",\n",
              " '5분여간 상병헌 위원장과 윤형권 의원 간의 고성으로 중단된 감사는 약 2시간 이후 재개되었으며, 상위원장은 진행절차 협의사항에 대해 고지하고 윤 의원은 항의에 대하여 사과를 표명하였다.',\n",
              " \"수성문화재단은 대구시민주간을 맞아 28일 오후 8시 수성아트피아 무학홀에서 현인의 노래 '비 내리는 고모령'을 비롯한 한국가요\",\n",
              " '원 편입을 목적으로 텝스(TEPS) 시험 준비생들이 많아진 가운데, 실전 대비에 큰 효과를 준다고 알려진 해커스어학원이 뉴텝스를 준비할 수 있는 실전 문제풀이 특강을 실시한다고 해 큰 관심을 받고 있다.',\n",
              " '말했고, 공동가구 주변에는 행정복지센터와 종합사회복지관이 있어 경로식당 무료급식과 같은 복지서비스 연계가 용이해 1석2조의 효과를 볼 수 있다.',\n",
              " \"22일 인천스페셜올림픽코리아는 장애인과 비장애인, 자원봉사자 등 4천여 명이 함께 호수 주변 산책로 구간을 걸으며 편견을 낮추는 '2019 장애인과 비장애인이 함께 걷습니다\",\n",
              " '생산직 채용은 투명성을 확보하려 외부 전문업체에 위탁하는 방식으로 진행한다.',\n",
              " '드라마 ‘은주의 방’ 11화에서는 류혜영이 김재영과의 갑작스러운 키스 후 혼란스러워하는 모습을 보이다',\n",
              " \"광주시의회 이경호 의원은 19일 문화관광 체육실 추경안 심의에서 ''e스포츠 상설 경기장이 ‘반쪽짜리’ 경기장으로 전락할 우려가 있다\",\n",
              " '\"고 전했다.',\n",
              " '시민토론회는 ‘청년정책과 여성정책’이란 주제를 사전 선정해 신청을 받고 현장 접수 등을 통해 20대 초반 청년부터 70대 노인까지 각계각층 70여 명의 시민들이 참여해 3시간 동안 전문 퍼실리테이터의 진행과 함께 열띤 토론을 펼쳤다.',\n",
              " \"'고 답하며, 대전, 세종, 충남지역을 비롯한 설을 앞둔 중소기업의 자금사정이 악화되고 있는 상황이다.\",\n",
              " \"지난 2일 KBS 2TV ‘살림하는 남자들 시즌2'에서 최민환과 율희가 아들 재율을 데리고 계획에 없던 쇼핑을 하다\",\n",
              " '다이텍 연구원은 12일 고강도 원지를 이용한 벽지 제조 기술과 방충성, 항균성, 항곰팡이성의 기능성 코팅 수지 개발 기술을 확보함으로써 고온다',\n",
              " '2019광주세계수영선수권대회 조직위원회에 따르면 종목별 입장권 판매율을 분석한 결과, 하이다',\n",
              " '품목의 가격 범위를 미리 공개해야 하는 정보공개서 표준양식을 개정해 28일부터 적용함에 따라 가맹본부는 4월 말까지 정기변경등록시 새 표준양식에 따라 변경 등록을 해야 한다.',\n",
              " '다짐했다.',\n",
              " '정평이 나있는 방민서를 지명했다.',\n",
              " '이는 지역간 격차해소 사업들의 종합관리 시스템을 갖추기 위해 정부가 국가 예산 및 기금 사업 군형발전 기대효과, 보완대책 등을 포함한 보고서를 의무적으로 작성하는 것에 대한 법안이다.',\n",
              " \"대전 지역의 한 대학에서 여전히 존재하고 있는 '선,후배간 군기문화'에 대하여 고발한 실태는 한 학생의 실례를 통해 그 일들이 불합리하고 부조리한 일이었음을 알려주고 있다.\",\n",
              " '지난 11일 한국자동차산업협회와 한국수입자동차협회에 따르면 지난해 11월부터 지난달까지 수입차가 강세를 보이던 고급 자동차 시장에서 대표적인 국산 대형 고급세단의 판매가 뚜렷한 성장세를 보였다',\n",
              " '동절기 철새에 의한 AI 국내유입 가능성이 높아짐에 따라, 경기도는 AI 발생 사전 차단을 위해 오는 27일부터 9월 5일까지 4차례에 걸쳐 AI 특별방역대책기간 대비 가금류 방역교육을 실시한다',\n",
              " '철거 당한 상인들의 불만이 자자하다.',\n",
              " '현대자동차는 디자이너로서 20년의 다채로운 경험과 스타트업에서의 근무 경력은 기존 선행디자인 조직의 혁신과 역할 확대에 상당히 부합할 것으로 기대하고 있는데,  특히 고성능 전기차의 선행 및 양산 디자인을 이끈 서주호 디자이너의 경력은 현대차  EV 라이업 디자인의 경쟁력을 제고하는 데 기여할 것으로 예상하고 있다.',\n",
              " '해명했지만 강화군의 관광활성화가 무색해지고 있다.',\n",
              " \"논산시는 19일에 웰빙을 넘어 웰다잉으로 '아름다운 노년만들기'에 나섰다.\",\n",
              " '이빙 종목이 열리는 조선대 중앙도서관과 국제관에서 열리는데, 23일 수영대회 응원차 광주를 찾은 김정숙 여사가 들르기도 했던 민화전은 서울 가회민화박물관(관장 윤열수) 소장품을 만날 수 있는 기회이며, 민화전에는 화조도, 장생도, 모란도, 책가도 등 19세기 작품 116점이 전시되며 수영대회를 맞아 물 속의 물고기들이 평화롭고 자유롭게 노니는 모습을 표현한 ‘어해도’를 선보인다.',\n",
              " \"서재헌민주당 부대변인은 이만희 ,이철규의원이 '2011년 서울시장 보궐선거 때  정보경찰과 나경원 후보의 '소통창구' 역할 후  영전과 국회의원자리가  불법개입의 댓가일 수 있다며  선거개입에 대한  의혹을 밝혀야 한다\",\n",
              " \"지가 '김영철의 파워FM'에 출연해 이순신 장군이 명량해전 당시 거북선을 사용하지 않았다고 말해 화제다.\",\n",
              " \"제2회 전라남도 평생학습박람회가 순천만생태문화교육원에서 '평생학습, 전남을 잇다!\",\n",
              " '전했다.',\n",
              " '안전하게 보호받을 수 있을 것이라고 말했다.',\n",
              " '수산물에 대해 방사능, 중금속, 항생제, 환경 오염 물질 등의 안전성 조사를 대폭 강화한다',\n",
              " '순천여고 정구부가 전국정구대회 여자 고등부 단체전 우승을하였고 개인단식에 출전한 4명 모두 4강진출해 각 우승 및 준우승 3위로 오르며 개인다',\n",
              " \"한국도로공사는 지난 12월 개통 예정이었으나 운영방식 변경으로 연기된 한림나들목을 '8월, 9월 중 임시개통하겠다\",\n",
              " '송산면 유곡리 이장 최승영 씨와 아내 김귀선 씨, 아들 최재민 씨가 운영하는 식당 온다',\n",
              " '\"고 주장했다.',\n",
              " \"'를 슬로건을 걸고 전국 200여 유통회사가 참여해 라이프스타일에 필요한 모든 제품을 전시·판매해 2만8천명의 관람객을 유치하며 성황리에 마무리됐다.\",\n",
              " \"놀이권 보장을 위한 5대 분야별 '동구형 아동친화도시 종합계획을 수립하였으며, 계획에는 5대영역 20개 아동친화도시 세부사업이 포함됐다.\",\n",
              " '밝혔으며 임단협 진행 상황을 공유하고 지역상공계가 해야 할 역할 강화 방안도 논의했다.',\n",
              " '해제되었지만, 장마전선은 주말에 우리나라로 접근하며 다시 장맛비가 내릴 것이며, 일본 오키나와 부근에서는 태풍이 발달 할 가능성이 있겠다.',\n",
              " '많은 일자리를 생성하고 고용의 질을 높이기 위한 기업의 일자리 창출 역량평가 결과를 보증심사에 반영하는 제도를 27일부터 도입한다고 밝혔다.',\n",
              " '두 사람은 최근 이혼한 사실을 바탕으로 범행 동기를 파악, 유족들과 주변인들을 대상으로 정확한 사건 경위를 조사할 예정이다.',\n",
              " '불후의 명곡-전설을 노래하다',\n",
              " '2006년 생긴 충남장애인부모회 당진지회의 회원으로 활동하다',\n",
              " '주변에 있는 차를 들이받고 달아나다 붙잡힌 A씨가 지난해 12월 5일 대구지검에 조사를 받으러 가면서도 검찰청 민원인 주차장까지 음주운전을 하여 대구지검이 상습적으로 음주운전을 한 혐의로 구속하기로 했다.',\n",
              " \"'고  말하며 필요하면 정책적 지원을 더 과감히 지원하겠다고 했다.\",\n",
              " '전라남도는 지난 21일 국회 본회의에서 최종 의결된 추경예산에 주요',\n",
              " '이빙이 전체 입장권 판매율 중 96%를 차지해 최고 인기종목인 것으로 나타났다.',\n",
              " '주민들의 사랑방 역활을 했던 미용실이 전시장으로 변신하고 있다.',\n",
              " \"KBSTV 에서 신선한 기획으로 화제를 일으킨 파일럿 모큐멘터리 '회사가기 싫어' 가 새롭게 12부작 초밀착 오피스 드라마로 더 풍성하고 진정성 있는 스토리 라인으로 펼쳐지며, 극중 한다\",\n",
              " '최근 보복운전이 지난 2년간 약 9000건에 달하는 것으로 나타나 놀라움을 주고 있다.',\n",
              " '광주광역시는 수영대회에 대비해 광주의 맛, 흥, 멋, 정, 어울림의 다섯가지 매력을 소개한 책자와 주요',\n",
              " '왜냐하면 다음 달 정월 대보름을 앞두고 83만 평의 겨울 논에서 추억을 만들 수 있게 하기 위해서다.',\n",
              " '삭제한 차명진 전 자유한국당 의원이 서울대 정치학과 79학번 동기인 김학노 교수에게 대화방에서 질타를 받았다.',\n",
              " ':',\n",
              " '음(서야고)이 대상을 수상했으며 산문 분야에서는 이여경(송악중)과 김희경(기지초)이 대상을 수상했다.',\n",
              " \"경기도와 경기도경제과학진흥원이 주관하는 '2019 공유기업 발굴 & 육성 사업'의 지원을 받는 온다\",\n",
              " \"평택시는 지난달 23일부터 이달 14일까지 심도 있는 논의를 통해 시정 운영전략을 수립하고자 '2020년도 주요\",\n",
              " '22일 이시종 지사는 증평군청 대회의실에서 열린 200여 명과의 증평군민과 대화 시간에 주요',\n",
              " \"' 를 개최했다.\",\n",
              " '이빙 경기장이 철거될 계획이다.',\n",
              " '망곔소리는 대한민국의 강토를 악보로 하고, 민족의 역사를 노래하는 강산민요로, 충남보존회가 월요일과 금요일 오후 5시부터 7시, 오후 7시부터 9시까지 민요',\n",
              " '전남 영암 소산리 자연사이농원의 농업인 신순희 씨는 최근 늘어난 1인가구 소비 트렌드에 따라 기존 수박의 4분의 1크기로 미니수박으로 불리는 애플수박을 재배하며 기존에 청양고추를 재배하던 때 보다',\n",
              " 'c',\n",
              " '뺑소니 사고를 낸 배우 손승원씨를 윤창호법으로 불리는 특정범죄가중처벌법상 위험 운전치상 등 혐의로 검찰에 송치했다.',\n",
              " \"'에서 가수 이효리와 예상치못한 통화 연결을 진행했다.\",\n",
              " '도심에서 사라져가는 것들을 기억하는 빛과 그림자 주제로 산수미술관(관장 장민한)이 노여운 작가를 초대해 오는 21일까지 전시회를 열고, 기억하다',\n",
              " '지점 단속이 어려워 주로 신고나 사고 발생 시 단속이 이뤄지고 있다고 밝혔다.',\n",
              " '오는 3월부터 한방추나요',\n",
              " \"12월 27일 오후 경기도 고양시 일산 킨텍스에서 열린 '2019 KBS 가요\",\n",
              " '13일 대구경찰에 따르면 범죄예방진단팀 및 지자체와 함께 안심귀갓길에 대해  전수조사를 실시하여 불안환경에 대해 셉테드 기법을 적용한 환경개선에 나서 보행 안전에 불안감을 주는 주요',\n",
              " '당진화력발전소 민간환경감시센터가 석문면 난지섬 일대에 굴과 바지락 등 패류 폐사에 대한 실태파악 조사를 실시한 결과, 주민들이 주요',\n",
              " '신용보증기금은 중소기업이 보다',\n",
              " '전남도와 광주상공회의소는 오는 9월 6일까지 광주상공회의소 1층에서 직원과 회원사를 대상으로 우수 농수특산물을 판매한다.',\n",
              " '\"라고 밝혔다.',\n",
              " '광양시 임대아파트대책연대는 기자회견을 임대사업자들의 수익창구로 변질된 분양전환 민간·공공임대아파트 임차인들의 권리 보장 촉구하고  임대아파트 분쟁조정위원회를 설치를  요구했다.',\n",
              " \"우형숙 시인은 부천시가 유네스코 문학창의도시로 선정된 것을 기념하는 취지에서 부천을 근거지로 삼고 있는 60명의 시인의 시를 담은 번역시집 '60人, 부천을 노래하다\",\n",
              " '”고 밝히며 “광주 학생들에게조차 공급하지 못하는 김치를 전국화, 세계화하겠다는 것은 어불성설\"이라고 지적했다.',\n",
              " \"말하며 '구민의 복리 증진을 위한 조력자 역할에 충실하고자 노력했던 한 해’라고 돌아봤다.\",\n",
              " \"19일 방송된 MBC PD수첩 '검찰, 반성 없는 반성문' 편에서는 2013년 원주의 한 별장에서 사회 고위급 인사가 성접대하는 모습이 담긴 영상이 공개됐고, 이 남성이 김학의 전 법무부 차관이 아니냐는 의혹이 불거졌음에도 불구하고 인물을 특정할 수 없다는 등 여러 이해할 수 없는 이유를 들어 사건을 덮은 검찰의 이야기를 다뤘다.\",\n",
              " '대구시는 올해 1월15일부터 2월14일까지 공동주택 공동체 활성화사업을 공모해 37개 사업을 신청받아, 심사를 거쳐 16개 사업, 총 사업비 9천500여 만원을 지원키로 결정했으며 선정된 사업중 동구 대구혁신도시서한이다',\n",
              " \"'란 주제로 진행되는데, 모든 검사와 체험은 무료다.\",\n",
              " '전남도 해양수산기술원이 설 명절을 앞두고 수요가 증가될 것으로 예상되는 주요',\n",
              " '리 역할을 통해 자살 예방에 도움을 주는 사람을 일컫는 생명사랑지킴이 교육을 온 국민을 대상으로 펼치고자 한다.',\n",
              " \"제를 비롯한 장애인생산품 전시, 장애인과 가족을 위한 상담 부스 운영 등 다양한 부대행사로 진행한 '희망충남 어울림 한마당대회'가 성황리에 개최됐다.\",\n",
              " '박물관 건립을 놓고, 밀양가요',\n",
              " '서천 92세의 할머니가  손자.',\n",
              " '10년 넘게 방치돼 있던 장항선 폐철도가 태양관 발전시설을 갖추고 신재생에에너지를 생산하는 친환경 녹색 공간으로 탈바꿈하여  자전거.',\n",
              " '백운산 계곡 불법평상대여와 바가기 상흔으로 인한 피서객의 불만이 청와대 게시판에 올라왔다.',\n",
              " '‘문제적 보스’에 출연하는 배우 정준호는 패션, 웨딩, 뷔페 등의 다양한 분야에서 사업을 하고 있지만 어떤 사고가 터졌다',\n",
              " '검찰이 덮었으나, 지난해 7월 법무부 검찰 과거사 위원회에서 검찰권 남용 의혹 사건으로 선정된 김학의 전 차관 별장 성접대 사건을 다루었다.',\n",
              " '금융위원회와 금융감동원은 지난 31일 투명성과 공정성을 확보하기 위해 인터넷은행 예비인가에 적용할 주요 평가항목 및 배점을 공개했으며 제반 인가요',\n",
              " '지난 14일 광주시와 광주문화재단은 경제적인 도움을 주고받거나 친목을 도모하기 위해 만든 우리 전래 협동조직인 ‘계’에서 착안해 마련되어 모금액에 1대1 방식으로 이자를 지원하는 방식인 문화예술 펀딩프로젝트인 만만계를 운영한다',\n",
              " '옥천군은 20개 부서별 소관 부서장이 참석한 가운데 오는 25일까지 5일간 새해 군정업무보고회를 열고 공약과 주요',\n",
              " '목면초등학교는 21일 목면초등학교 운동장에서 교직원과 학생, 지역주민 200여명이 참가한 가운데, 1919년 4월5일 태극기를 흔들며 만세시위를 하다',\n",
              " '음성군은 13일 2014년부터 강동대학교와 함께한 뉴라이프 아카데미 사업에 2019년부터는 극동대학교도 참여함에 따라 주민들의 평생학습 참여 기회가 보다',\n",
              " '원으로 활동하게 된다.',\n",
              " '기상청 등에 따르면 이달 초 제13호 태풍 ‘링링’의 피해 복구가 한창인 상황에서 또다시 제17호 태풍 ‘타파’가 광주·전남에 많은 비를 뿌려 직격탄을 맞으면서 이에 농민들이 망연자실 해하고 있다.',\n",
              " '팬스타그룹(회장 김현겸)은 1일 그룹 항운사업 총괄 겸 (주)팬스타신항국제물류센터 대표이사에  경제기획원, 해양수산부, 부산 지방해양 수산청장, 해양환경 관리공단 이사장 등의 경력을 가진 곽인섭 전 한중훼리 대표를 선임했으며 또한 (주)팬스타트리 대표를 겸임한다',\n",
              " '김 전 조합장 및 일부 조합원이 검찰의 수사를 받는 등 후폭풍이 불 전망이다.',\n",
              " '든지 간에 문제가 발생했을 때 책임을 져야 하고 여론의 싸늘한 시선을 볼 수 있다는 여지가 많아 힘들다\"라고 토로했다.',\n",
              " '사람을 잇다!',\n",
              " '편리하고 개선된 대중교통 서비스를 제공하려고 많은 사람들의 의견을 반영한다고 말하였다.',\n",
              " '당진시 농업기술센터는 1.4 대 1의 경쟁률을 보이고, 생력재배 단지 육성, 감자생산 전 과정 기계화 등을 주요',\n",
              " '2019광주세계수영선수권대회를 위해 임시시설로 설치한 경기장을 철거하게 되면서 많은 사람들이 아쉬움을 표현했으며, 가장 먼저 하이다',\n",
              " '공약 추진상황을 점검하기 위해 한국매니페스토실천본부에서 추첨과 전화면접 방식으로 선발한 35명을 통해 시민배심원단을 운영한다.',\n",
              " '오픈 40여일 만에 관람객 수 1만 명을 넘었다.',\n",
              " '21일 대구 중구청은 91명의 사상자가 발생한 중구 포정동 대보사우나 화재 사고의 피해 복구에 노력하고 있으며 이날 한국전력이 대보상가.',\n",
              " '입건된 노조 조합원·학생의 구속영장 철회를 촉구하며 구속영장을 청구한 것은 명백히 과도한 법 집행이자 민주주의에 대한 도전이라고 강조했다.',\n",
              " '현안을 논의했다.',\n",
              " '3일 한국자동차산업협회와 한국수입자동차협회에 따르면 한국지엠(GM)과 르노삼성 등 국내 완성차업체가 모회사의 해외 생산 차량을 수입해 국내에 판매하는 OEM 수입차의 판매량이 2017년까지 하락세를 보이다',\n",
              " \"인천시와 인천시의회, 인천시지하도상가연합회 등이 '인천시 지하도상가 관리 운영 조례 전부개정 조례안'을 임시회가 아닌 다음 달에 열리는 시의회에서 다루기로 일정을 미루어서 지하도상가 운영의 공정성을 확보하겠다\",\n",
              " '전남도해양수산과학원은 섬진강에서 어린다',\n",
              " \"퇴임 후 칼럼과 글을 활발히 쓰고 제6회 '한국문학시대 문학대상'을 수상하기도 했다.\",\n",
              " \"''며 광주시가 경기장에 연간 12억 원의 운영비를 부담하나 매출액 산정의 명확한 기준을 세우지 않았다고 지적했다.\",\n",
              " '문재인 대통령은 24일에 나선 전국경제투어에서 \"4차산업혁명 시대를 향한 여러분의 꿈에는 늘 정부가 함께 할 것\"이라고 강조하며, 신기술을 통한 혁신성장이 한국 경제의 체질을 개선하여 경제활력 제고 및 신성장동력 확보를 모색할 수 있다',\n",
              " '광주·전남 곳곳에서  3·1운동 100주년 기념행사가 열린 가운데 이용섭 광주시장은  “선영들의 숭고한 정신을 선양하기 위해 광주에 독립 의병기념관을 건립하겠다\"며 \"때만 되면 정치적으로 악용되고 있는 5·18역사왜곡과 폄훼에 대해서도  \\'5·18역사왜곡 처벌 특별법\\'의 제정에 최선을 다해 더 이상 5·18정신이 훼손되지 않도록 하겠다',\n",
              " '신안군, 우간다',\n",
              " \"지난 12일 광주, '제3회 도시폭염 대응 포럼'에서 시민포럼과 패널토론이 진행됐다.\",\n",
              " '농산물의 원산지 식별 정보 제공 및 원산지 표시 단속을 할 예정이며, 품목별 원산지 식별법은 농관원 홈페이지에 올려 확인할 수 있도록 할 방침이다.',\n",
              " ...}"
            ]
          },
          "metadata": {
            "tags": []
          },
          "execution_count": 39
        }
      ]
    },
    {
      "cell_type": "markdown",
      "metadata": {
        "id": "-TPexnA7-rua"
      },
      "source": [
        "kss 라이브러리를 활용하여 sentence split을 시행했으나, 실제로 문장이 나눠지지 않아야 하는 부분들 까지도 나누는 현상이 있다. 또한 일부 abstract summary에 이상 문자가 존재함을 확인함. 따라서 kss를 보완하여 sentence split을 시행함. "
      ]
    },
    {
      "cell_type": "code",
      "metadata": {
        "colab": {
          "base_uri": "https://localhost:8080/"
        },
        "id": "8-8rPax5-qtc",
        "outputId": "3e3ed4c2-1ab9-44f1-ba48-7ef32613ef25"
      },
      "source": [
        "for abstractive in train_df['abstractive'].values:\r\n",
        "    sents_splited = kss.split_sentences(abstractive)\r\n",
        "    if len(sents_splited) > 1:\r\n",
        "        is_multi_sent = False\r\n",
        "        for sent_splited in sents_splited:\r\n",
        "            if sent_splited in ['?', ':', 'c', '‘', 'ㄱ', '\\ufeff']:\r\n",
        "                print(abstractive)"
      ],
      "execution_count": 40,
      "outputs": [
        {
          "output_type": "stream",
          "text": [
            "2017년 9월부터 2월까지 경남 산청군 단성면 연수원 및 야구장을 관리한 직원이 경성대 학내 게시판에 총장을 비판하는 글을 올렸다가 산청에 발령을 받았다며 국가인권위원회에 진정을 접수한 것으로 알려졌다.:\n",
            "농촌지역 인구가 고령화하면서 농·어·임업 활동을 포기하거나 아예 업종을 바꾸는 전국적인 추세에 따라 '2018 농림어업조사' 결과에서 충남지역 농가는 12만 3000가구로 전년 12만 6000가구 대비 1.9% 줄었으며 어가, 임가도 일제히 감소한 것으로 나타났다.c\n"
          ],
          "name": "stdout"
        }
      ]
    },
    {
      "cell_type": "markdown",
      "metadata": {
        "id": "agvsTn_2-3TU"
      },
      "source": [
        "#### kss를 보완하여 sentence split 시행 "
      ]
    },
    {
      "cell_type": "code",
      "metadata": {
        "colab": {
          "base_uri": "https://localhost:8080/"
        },
        "id": "J6dEHdrb-799",
        "outputId": "299656aa-b015-4a60-e29a-e0c93a8fb324"
      },
      "source": [
        "multi_abstractives = []\r\n",
        "for abstractive in train_df['abstractive'].values:\r\n",
        "    sents_splited = kss.split_sentences(abstractive)\r\n",
        "    if len(sents_splited) > 1:\r\n",
        "        is_multi_sent = False\r\n",
        "        for sent_splited in sents_splited:\r\n",
        "            if sent_splited[-1] in ['.','?' ]:\r\n",
        "                is_multi_sent = True\r\n",
        "            else:\r\n",
        "                is_multi_sent = False\r\n",
        "                break\r\n",
        "        if is_multi_sent:\r\n",
        "            multi_abstractives.append(sents_splited)\r\n",
        "print(len(multi_abstractives))\r\n",
        "multi_abstractives"
      ],
      "execution_count": 41,
      "outputs": [
        {
          "output_type": "stream",
          "text": [
            "84\n"
          ],
          "name": "stdout"
        },
        {
          "output_type": "execute_result",
          "data": {
            "text/plain": [
              "[[\"자유한국당 소속 윤상현 국회 외교통일위원장은 29일 일제 강점기 강제 징용 피해자에 대한 일본 기업의 배상문제로 한일관계가 역대 최악이라며 일본의 '코리아 패싱(한국 때리기)'이 심각하다고 말했다.\",\n",
              "  '일본 정보는 일본 전범 기업들에 배상을 명령한 작년 10월의 한국 대법원 판결과 관련해 1965년 체결된 한일청구권협정에 따라 배상 문제는 해결된 것이라고 주장하며 판결 이행을 거부한 채 지난 20일 한국 정부에 제3국 위원을 포함한 중재위원회 개최를 요청했다.',\n",
              "  '윤의원은 일본 중의원 외교위원장도 접촉해 징용 문제를 둘러싼 양국 간 갈등 해소 방안을 놓고 의견을 나눠보고 싶었지만 만나는 것조차 꺼리는 바람에 회동하지 못했다고 밝혔다.'],\n",
              " [\"농림축산식품부는 청년층의 농업분야 창업 활성화를 위해 2019년 '청년창업농 영농정착지원사업' 대상자를 선발하고 각 시군을 통해 통보했으며, 앞으로 지원 대상자 1600명에 대해서는 최장 3년간 매월 100만원씩 창업자금과 함께 영농기술 교육 등 맞춤형 지원을 제공한다고 14일 발표했다.\",\n",
              "  '농식품부는 했다고 14일 밝혔다.'],\n",
              " ['남도일보 기고-인위적인 사고로 대형 인명·재산 피해가 발생되면 안전불감증이 불러온 대형참사 되풀이되고 있다.',\n",
              "  '안전국민의식과 소방안전의식, 대처능력을 높이는 소방안전 조기교육이 시급하다.'],\n",
              " [\"한전산업개발은 그린에너지 엑스포에서 통합형 ESS인 'KEPID-ESS-200'을 선보였다.\",\n",
              "  '이 장치는 100kW미만의 소규모 태양광 발전소와 연계할 수 있으며, 일반적인 배터리룸보다 외부 기온에 영향을 받지 않고  최적의 성능을 유지할 수 있는 장점이 있다.'],\n",
              " ['인천에너지전환네트워크는 인천시에 수도권 전력 소비의 20%를 맡는 영흥 석탄발전소가 2017년 기준 온실가스 3천196만7천t을 배출했으며, 이외에도 미세먼지, 해양에 배출하는 온배수 등으로 인근 주민과 해양생태계에 피해를 줘 석탄발전 폐쇄 로드맵 수립을 촉구했다.',\n",
              "  '17일 인천시청 브리핑룸에서 기자회견을 열고 석탄발전 폐쇄 로드맵을 제시해야 한다고 촉구했다.'],\n",
              " [\"지난 12일 광주, '제3회 도시폭염 대응 포럼'에서 시민포럼과 패널토론이 진행됐다.\",\n",
              "  '이날 시민포럼 패널들은 지난해 폭염과 관련 분야별로 피해 사례를 언급하며 정부와 지자체의 적극적인 대책을 촉구했으며, 전문가들은 광주의 평균기온이 2000년 이후 전국 평균을 상회하는 가파른 상승추이를 보이고 있다며 폭염 위험성을 경고했다.'],\n",
              " ['MBC 새 월화드라마 ‘아이템’의 제작발표회에서 배우 주지훈이 \"“감독님이 적토마 같다고 해서 이게 욕인지, 칭찬인지 한참 헷갈렸다.',\n",
              "  '\"며 소감을 전했다.'],\n",
              " ['조선대 지식경영연구원은 21일 오후1시 경상대학 2층 경영산학관에서 세미나를 개최한다.',\n",
              "  '이번 세미나를 통해 대한민국이 비즈니스변화와 남북문제 및 대외문제 변화에 적응하여 새로운 방향으로 해결방법을 찾아야한다며 이번 세미나를 개최하게 되었다.'],\n",
              " [\"부산시의 낙동강 하굿둑 개방이 염분이 있는 바닷물이 역류해 취수원에 피해를 줄 수 있다는 이유로 경남과 울산시가 우려를 표명한 가운데, 부산시는 '낙동강 하굿둑 운영개선 및 생태복원방안 연구' 등을 통한 시범개방으로 해수 역류로 인한 영향을 최소화하기 위한 다양한 방법을 연구하고 있다.\",\n",
              "  \"부산시의 '낙동강 하굿둑 운영개선 및 생태복원방안 연구' 용역 수행을 위해 낙동강 하굿둑 수문을 시범적으로 열기로 했는데, 이로 인해 취수원에 해를 끼칠 수 있다는 이유로 경남과 울산시가 걱정을 표하고 있다.\"],\n",
              " ['충북도는 4차 산업혁명 시대에 제조분야의 경쟁력 확보를 위해 기업 부담금을 일부 지원하는 등 스마트공장 보급 확대에 힘쓸 계획이라고 13일 밝혔으며 또한 스마트공장 수요.',\n",
              "  '공급기업 간 매칭데이, 스마트 공장 설명회도 주최할 예정이다.'],\n",
              " ['문화콘텐츠 산업 전국 매출액의 85%가 서울과 경기 지역에 집중된 반면 전남은 0.4%로 최하위인 것으로 조사됐다.',\n",
              "  '이에 김 의원은 \"지방과의 문화 양극화가 경제 양극화로 이어질 가능성이 크다\"며 \"균형 발전 방안을 수립해 대응해야 한다\"고 말 했다.'],\n",
              " [\"광주시 북구에 따르면 오는 4일 오전 10시부터 오후 4시까지 전남대 컨벤션홀 일대에서 '일자리 만남의 장'을 마련했다.\",\n",
              "  '구직 희망자는 이력서와 자기소개서, 자격증 등 관련 서류를 지참해 구인기업과 1대1 현장면접 및 2차 심층면접을 통해 취업이 가능하다.'],\n",
              " [\"충남경찰청은 지난 2월부터 약 3개월간 '사업용자동차의 불법행위'를 집중단속하여 관련자 총 72명을 형사입건했다고 23일 밝혔다.\",\n",
              "  '현행 관련법상 시장,군수,구청장의 승인이 없는 차량개조 및 운행은 1년 이하의 징역이나 1000만원 이하의 벌금 부과대상이며, 정비불량차를 운전할 경우 6개월 이하의 지역이나 200만원 이하의 벌금형으로 규정하고 있다.',\n",
              "  '충남경찰은 지자체 및 유관기관과 합동으로 단속과 수사를 확대할 예정이다.'],\n",
              " ['최근 보복운전이 지난 2년간 약 9000건에 달하는 것으로 나타나 놀라움을 주고 있다.',\n",
              "  '이런 보복운전 뵘죄는 특정인을 자동차로 위협하거나 진로방해 고의 급제동, 폭행, 협박 등을 일컫는 것으로 보복봄죄 근절을 위한 제도적 개선이 필요하다.'],\n",
              " ['세월호 참사 5주기를 하루 앞둔 지난 15일 오후, 차명진 자유한국당 경기 부천 소사 당협위원장의 SNS 글이 논란이다.',\n",
              "  '한국당의 황교안 대표와 박근혜 전대통령이 세월호 사고 책임자로 고발당한 것에 대해 세월호 유가족을 원색적인 언어로 비난하였는데, 이와 관련해 논란이 커지자 차 위원장은 사과글을 남기고 SNS와 방송 활동 중단을 선언했다.'],\n",
              " ['부산 금정구 서동은 도시환경정비사업 대상지로 지정됐으나 13년째 추진 단계에 있어 불편함을 호소하고 있다.',\n",
              "  '이에따라 도시재생사업으로 전환해야 한다는 목소리가 나오고 있다.'],\n",
              " ['광주시는 고증을 통해 희경루를 중건할 계획이다.',\n",
              "  '희경루는 7월 중 토지매입을 완료하고 8월 실시설계등의 절차를 진행할 계획으로, 문화공간도 함께 설립할 예정이다.'],\n",
              " ['광양시가 취약계층 방문건강관리서비스를 강화하였다.',\n",
              "  '이 서비스는 독거노인 등 폭염 취약계층의 건강한 여름나기를 지원하는 제도이다.'],\n",
              " ['정치와 체육을 분리하는 내용을 골자로 한 국민체육진흥법 개정안이 올 연말 시행될 예정인 가운데 시민구단인 대전시티즌도 같은 맥락에서 인사가 이뤄져야 한다는 의견이 나오고 있다.',\n",
              "  '대전시 관계자는 \"정치인은 후임 대표이사 인선 원칙에 맞지 않고 경영 능력에 무게를 두고 인물을 물색 중\"이라고 말하며 후임 대표이사 인선 하마평을 두고 곱지 않은 시선을 내보이고 있다.'],\n",
              " ['광양시 임대아파트대책연대는 기자회견을 임대사업자들의 수익창구로 변질된 분양전환 민간·공공임대아파트 임차인들의 권리 보장 촉구하고  임대아파트 분쟁조정위원회를 설치를  요구했다.',\n",
              "  '과도한 분양자격 기준을 적용해 자의적 판단으로 우선 분양전환 자격을 결정하고 부적격자를 양산했을 뿐 아니라 분양받는 임차인들에게 웃돈까지 요구했다.',\n",
              "  '정인화의원은 공공주택 특별법과 민간임대주택에 관한 개정안을 발의한바있다.'],\n",
              " [\"서삼석 의원이 26일 '국가재정법 및 국가회계법 일부 개벙법률안'을 대표발의 했다.\",\n",
              "  '이는 지역간 격차해소 사업들의 종합관리 시스템을 갖추기 위해 정부가 국가 예산 및 기금 사업 군형발전 기대효과, 보완대책 등을 포함한 보고서를 의무적으로 작성하는 것에 대한 법안이다.'],\n",
              " ['한국산업인력공단 부산지역본부는 산업인력 양성을 위해 지역 산업계와 연계하여 기능 인력 양성 등 다양한 사업을 성공적으로 수행하고 있다.',\n",
              "  '특히, 일-학습병행제도와 지역ㆍ산업 맞춤형 인력 양성체계는 산업계의 호평을 받고 있다.',\n",
              "  '향후 지속적으로 특성화고 및 마이스터 고교생이 대학 대신 취업할 수 있도록 지역 관계 기관과 협업해 나갈 계획을 밝혔다.'],\n",
              " ['21일 대구 중구청은 91명의 사상자가 발생한 중구 포정동 대보사우나 화재 사고의 피해 복구에 노력하고 있으며 이날 한국전력이 대보상가.',\n",
              "  '아파트 전력 복구 작업에 나서 완료에는 최대 2주가 걸릴 것으로 예상된다고 전했다.'],\n",
              " ['대전중앙청과(주) 채소과일 비상대책추진위원회는 점포 균등배분을 주장하며 점포개선안을 요구했다.',\n",
              "  '이에 대해 관계자는 다각적인 방안을 고심해야 하는 만큼 중도매인들과 지속 협의를 해 나갈 예정이라고 설명했다.'],\n",
              " ['광주교육 당국은 사학 공공성 강화를 위해 사립학교 교원 위탁채용을 실시하고 있지만 허울뿐인 제도라는 지적이다.',\n",
              "  '조사할만한 권한도 없다는 이유를 내새워 소극적 입장을 내놓고는 있지만 사학법인이 가지고 있는 인사권과 징계권은 교육청에서 침해할수 없는 제왕적인 사학법이기 때문이다.'],\n",
              " ['22일 광주시와 전남도.',\n",
              "  '기상청 등에 따르면 이달 초 제13호 태풍 ‘링링’의 피해 복구가 한창인 상황에서 또다시 제17호 태풍 ‘타파’가 광주·전남에 많은 비를 뿌려 직격탄을 맞으면서 이에 농민들이 망연자실 해하고 있다.'],\n",
              " ['내년부터 서울 초등학교 3학년생과 중학교 1학년생은 3월 중 표준화된 도구로 기초학력진단평가를 받아야 하며, 초등학교 3학년행은 읽기.쓰기.셈하기능력, 중학교 1학년생은 해당 능력에 국어.',\n",
              "  '영어.',\n",
              "  '수학 교과학습능력을 평가받으며 진단결과는 평소 학습태도 등에 대한 분석과 함께 보호자에게 통지된다.'],\n",
              " [\"사단법인 한국미술협회에서 주최하고 대한민국 미술대전 비구상·구상부문 운영위원회에서 주관하는 행사인 '제 38회 대한민국 미술대전'에서 구상부분(한국)에 금호동 주민 자치센터 한국화반 수강생들이 대거 입상했다.\",\n",
              "  '김진식 금호동장은“대한민국 최고 권위의 미술대전에서 대거 입선해 금호동주민자치센터의 명성을 전국에 알린 한국화반 수강생 모두에게 축하와 격려의 말을 전한다”며“앞으로도 다양한 여가활동 보장과 문화생활 향유를 위해 노력해 나가겠다”고 말했다.'],\n",
              " ['백운산 계곡 불법평상대여와 바가기 상흔으로 인한 피서객의 불만이 청와대 게시판에 올라왔다.',\n",
              "  '현수막 몇개 걸고 보도자료나 뿌리는데 그치지 말고 현실적인 대책 마련이 절실하다.'],\n",
              " ['A양이 가족여행 중에 친어머니와 의붓아버지에게 살해당한 후 저수지에 버려졌다.',\n",
              "  'A양은 지속적인 학대를 두 번이나 알렸으나, 법으로부터 제대로 된 보호 조치를 받지 못했다.'],\n",
              " ['여주시는 지난 11일 한국콜마 여주아카데미연수원에서 ‘모든 세대가 함께 행복한 여주 만들기’라는 주제로 인구정책 시민토론회를 열었다.',\n",
              "  '시민토론회는 ‘청년정책과 여성정책’이란 주제를 사전 선정해 신청을 받고 현장 접수 등을 통해 20대 초반 청년부터 70대 노인까지 각계각층 70여 명의 시민들이 참여해 3시간 동안 전문 퍼실리테이터의 진행과 함께 열띤 토론을 펼쳤다.',\n",
              "  '이번 토론회를 계기로 시는 사람이 살기 좋은 여주 만들기를 위한 주제를 선정해 시민이 참여하는 인구정책 토론회를 개최할 계획이며, 각계각층 시민의 의견을 받는 인구정책 창구를 일원화할 것이라고 밝혔다.'],\n",
              " ['유엔식량농업기구에서 발표한 세계식량가격 지수는 안정세로 전환되었다.',\n",
              "  '유제품은 상승하고 육류는 유지되었고 유지류와 곡물 그리고 설탕의 가격이 하락했지만 전체적인 곡물 생산량과 소비량이 맞아 떨어지고 있다.'],\n",
              " ['지난달 2일 민·관의 협력으로 전남 신안군 도초도에 한국 최초 덴마크형 사회교육 모델인 ‘섬마을 인생학교’가 열렸는데, 바깥 세상에서 잃어버린 것들을 내 안에서 찾아내고 인생을 돌아보며 미래를 설계하는 성인용 평생(사회)교육과정으로 참가자들의 높은 만족도에 입소문이 나 인기를 끌고 있다.',\n",
              "  \"신안군은 덴마크형 사회교육 모델인 '인생학교'를 도초도의 옛 서초등학교에 열었고 신안군수를 통해 '세상의 거친 풍파로 잃어버린 희망 등을 다시 내 안에서 찾을 수 있다.' 며 소개되었다.\"],\n",
              " [\"대한민국 대표팀으로 소집돼 U-20월드컵에서 한국 대표팀의 결승 진출을 견인한 국민영웅 이강인의 할머니 김영례씨는 '강인이가 초등학교 2학년 때 강진에 내려와 축구를 했었다'며 그때도 사람들이 '축구신동'이라고 말했다.\",\n",
              "  \"' 고 했다.\"],\n",
              " ['10년 넘게 방치돼 있던 장항선 폐철도가 태양관 발전시설을 갖추고 신재생에에너지를 생산하는 친환경 녹색 공간으로 탈바꿈하여  자전거.',\n",
              "  '보행자도로를 완공했고 폐철도를 활용한 전국 첫 사례이다.'],\n",
              " ['광주시가 산업통상자원부의 2019년도 지역산업거점기관지원사업인 ‘대용량 전력 저장용 레독스흐름전지(RFB)인증센터 구축 사업’에 최종 선정되었다.',\n",
              "  '시험인증센터가 광주에 구축된다면 레독스흐름전지와 에너지저장장치 관련 기업이 따라서 광주로 이전되는 효과와 함께 일자리가 새로 생겨나는 등 경제효과 또한 기대하고 있다.',\n",
              "  '또한 광주시는 남구 도시첨단 사업에 멀티터미널 직류배전 플랫폼 구촉사업에 2000억원을 투입하는 등 사업 추진에 적극적이다.'],\n",
              " [\"대전 지역의 한 대학에서 여전히 존재하고 있는 '선,후배간 군기문화'에 대하여 고발한 실태는 한 학생의 실례를 통해 그 일들이 불합리하고 부조리한 일이었음을 알려주고 있다.\",\n",
              "  '대학 관계자들은 이러한 일들이 반복되지 않고 대책들이 만들어질 것이라고 강조했다.'],\n",
              " ['서천 92세의 할머니가  손자.',\n",
              "  '손녀가 명문 대학을 입학한 기념으로 다닌 학교에 장학금을 전달한 기부 사연이 잔잔한 감동을 주고 있다.',\n",
              "  '할머니는 남편의 유지를 받들어 서천에 1억을 기부했고 서천사랑장학회에 500만원도 전달했다.'],\n",
              " ['경기도교육청은 사립유치원 전수감사를 통해 처분이 확정된 유치원 20곳의 명단을 교육청 홈페이지에 추가 공개하고 세금 탈루가 의심되는 19곳에 대해서는 국세청에 통보할 예정인데, 현재까지 원아 수 200명 이상 대형 유치원 120곳 중 112곳에 대한 감사를 완료했으며, 이달부터 원아 수 100명 이상 200명 미만의 사립유치원 397곳을 대상으로 감사가 진행되고 있다.',\n",
              "  '경기도교육청은 원아 수 200명 이상의 대형 유치원 120곳을 대상으로 진행한 감사 결과, 처분이 확정된 유치원 수원 6곳, 김포 4곳 등 20곳의 명단을 공개하고 세금 탈루가 의심되는 19곳을 국세청에 통보할 것이라고 밝혔다.'],\n",
              " ['여수시가 한국지방자치경영대상 시상식에서 열린 혁신부문 대상을 차지했다.',\n",
              "  '사랑방좌담회 도입,열린 청원제도,기초단체 매니페스토 우수사례 등이 평가를 받았고 정부혁신 평가에서는 전남에서 유일하게 총리상의 영예를 안았다.'],\n",
              " ['강열 광주환경공단 이사장 후보자가 시민사회단체 이사장으로 활동하면서 규정을 위반해 급여를 받은 사실이 드러나 광주시의회 인사청문특별위원회는 12일 김 후보자에 대한 인사청문회를 실시했다.',\n",
              "  '또한, 김 후보자의 경영능력에 대한 의문도 제기됐다.'],\n",
              " [\"과천시 김종천 시장은 지난 20일 시청 대강당에서 과천시와 안양과천교육지원청이 공동 개최한 '2019 혁신교육포럼'을 통해 모아진 다양한 의견들은 과천시 교육지원사업의 기본 방향에 반영하겠다고 말했고 포럼에서는 '온 마을이 함께 꿈꾸는 행복한 과천교육, 어떻게 실현할까?\",\n",
              "  \"'라는 주제로 교사, 학생, 학부모, 지역활동가 등 100여 명이 지역 교육 현안의 정책과제 도출과 발전 방안에 대해 열띤 논의를 하였다..\"],\n",
              " [\"20일 한국서부발전은 미국 전력연구소(EPRI) 및 현지 발전사들과 '글로벌 정비관리 플랫폼(Global PM 플랫폼)'을 개발 중이라고  밝혔는데, EPRI의 정비기준 개발 전용 시스템 PMBD와 서부발전의 현장 정비관리 전용 시스템 WP-PM을 연계해주는 역할을 할 이 Global PM 플랫폼을 2020년까지 개발 완료할 예정이라고 한다.\",\n",
              "  '한국서부발전은 20일 전력산업 기술 개발을 위해 1913년 설립된 비영리 컨소시엄 연구소 EPRI 및 현지 발전사들과 함께 2020년까지 두 기관의 중요 시스템인 WP-PM을 연계해주는 역할을 하는 글로벌 정비관리 플랫폼인 Global PM을 개발할 예정이다.'],\n",
              " [\"호남대학교가 개교 50주년인 2028년까지 대학교육과 산학연구, 국제연략, 학생지원,  대학경영 등의 5대 부문에서의 혁신을 통해 교육가치 창출 1위대학이 되겠다는 목표를 갖고, '호남대 vision 2028'을 발표하였으며, 대학교육 혁신으로 세상을 바꿀 수 있는 융복합대학으로 거듭나겠다는 비전을 밝혔다.\",\n",
              "  '호남대는 이를 위해 대학교육 혁신, 산학 연구 혁신, 국제역량 혁신, 학생지원 혁신, 대학경영 혁신 등 5대 혁신 발전전략과 함께 20개의 전략과제를 세부적으로 발표하였다.',\n",
              "  \"박상철 호남대 총장은 'vision2028'을 통해 호남을 대표하는 5차산업혁명 혁신선도대학으로서 지역과 국가발전을 이끌어 갈 창의 융합형 인재를 양성하기 위해 이를 수립했다고 밝혔다.\"],\n",
              " ['충청북도는 지역실정에 맞는 외국인 환자 유치사업 역량 강화 및 지자체별 특화 의료기술 발굴·지원을 위해 보건복지부에서 공모하여 국비 7500만 원을 확보하여 지역 특화 의료기술 발굴·강화하였다.',\n",
              "  '이는 지역 의료 수준 향상, 해외 시장에서 의료 기술 경쟁력 강화, 의료기관 외국인 환자 유치 등으로 지역경제가 활성화 될 것을 기대하고 있다.'],\n",
              " ['당진시건강가정지원센터는 아이돌보미 양성교육을 통해 부모의 맞벌이 등으로 양육 공백이 발생한 가정의 만3개월 이상부터 만12세 이하 아동을 아이돌보미가 직접 찾아가 돌봐주는 아이돌봄서비스를 제공하는데 이는 연중 24시간 원하는 때에 언제든 이용 가능하다.',\n",
              "  '아이돌봄서비스(지원사업)란 다.'],\n",
              " ['최근 10년 동안 폭염과 열대야 지속일이 갈수록 증가하고 있는 가운데 폭염특보가 20일 이상 지속중이다.',\n",
              "  '이에 광양시에서는 폭염으로 인한 시민들의 불편을 최소화하기 위해 지난해에 이어 도시공원 분수 시설 운용, 그늘막 설치 등을 확대하고 있다.'],\n",
              " ['광주시의 이용섭 조직위원장은 2019광주세계수영선수권대회를 성공적인 대회로 치르기 위해 최선을 다한 것에 대한 공로로 국제수영연맹(FINA)로부터 감사패를 받아 대회의 성공적인 개최를 한 것에 대한 노력을 인정받았다.',\n",
              "  '이용섭 조직위원장은 “광주가 이번 세계수영선수권대회를 통해 FINA와 뜻깊은 인연을 맺게 돼 더없이 기쁘다”면서 \"저와 150만 고 밝혔다.'],\n",
              " ['전남도와 광주상공회의소는 오는 9월 6일까지 광주상공회의소 1층에서 직원과 회원사를 대상으로 우수 농수특산물을 판매한다.',\n",
              "  '이번 캠페인은 추석이 농식품 소비에 큰 비중을 차지하는 중요한 시기인 만큼 기업이 전남 농식품 소비 촉진에 적극 동참하도록 하기 위한 것이다.'],\n",
              " ['전남은 전국에서 해양 길이당 쓰레기 분포 조사 결과 제일 많은 것으로 나타났다.',\n",
              "  '이에따라 김역록 지사는 2022년까지 해양쓰레기 제로화에 나섰고 정화운반선 지원 확대등 국고 보조율 상향을 해야 한다는 목소리도 높아졌다.'],\n",
              " ['김영록 전남지사가 3차례 태풍후 피해 벼에 대해 철저한 품질관리를 부탁하였다.',\n",
              "  '피해를 입은 벼에 대해서는 적극적으로 도움이 되도록 지도해나갈 계획이라 하였다.'],\n",
              " ['화순 모 보건지소에서 같은 지소로 발령받은 부부가 흉기로 자신의 아내를 찌르고 자신도 흉기로 찌른 뒤 자해해 사망하는 사건이 일어났다.',\n",
              "  '두 사람은 최근 이혼한 사실을 바탕으로 범행 동기를 파악, 유족들과 주변인들을 대상으로 정확한 사건 경위를 조사할 예정이다.'],\n",
              " [\"9일 방송된 SBS '그것이 알고싶다'에서는 사라진 세 딸과 과외선생 함명주(가명)의 자세한 이야기를 추적했다.\",\n",
              "  '함씨와 관련된 사람들은 죽거나 사라졌고 빚 독촉에 시달리는 경우가 많았으며 방송을 본 누리꾼은 해당 의혹에 대한 수사를 촉구했다.'],\n",
              " ['자유 한국당 송언석 의원은 28일 우리나라 경제성장률이 10년 만에 최저치 도달이 좌파식 경제 실험이냐고 따졌으며 대통령 취임식에서 언급한 ‘한 번도 경험해보지 못한 나라’의 종착점이 ‘모두 함께 힘들게 사는 나라’는 아니지 않는가?',\n",
              "  '”라고 반문하면서 기업의 기(氣)를 북도우는 정책을 추진해 국가 경제회복에 앞장서야 한다”고 주장했다.'],\n",
              " ['전남, 광주에 장맛비가 쏟아지며 물난리 피해가 발생했다.',\n",
              "  '게다가 이 상황에서 전남재난안전대책본부 측의 안일한 대처도 논란이 되고 있다.'],\n",
              " [\"태안군은 지난 29일 군청 대강당에서 관계자 170여 명이 참석한 가운데 교육 발전과 학생들의 올바른 성장을 위하여 '태안군 사랑 장학회 2019년 장학증서 수여식'을 가졌으며 이날 장학회는 엄격한 심사를 거쳐 선발된 초.중.고.\",\n",
              "  '대학생 161명에게 총 3억800만 원의 장학증서를 수여했다.'],\n",
              " [\"국립남도국악원은 3일 오후 7시 국립남도국악원 진악당에서 국악연주단의 '국악의 향연' 공연을 선보일 예정인데, 노래·춤·악기의 조화를 이뤄 구성될 본 공연은 무료로 진행으로 공연 당일 오후 6시 20분 진도읍사무소, 6시 35분 십일시 사거리에서 무료 셔틀버스도 운행된다.\",\n",
              "  '무료 관람 가능한 국립남도국악원 국악연주단의 ‘국악의 향연’ 공연을 선보인다.'],\n",
              " ['영화 ‘추격자’가 TV 방영하면서 실시간 검색어에 오르며 관심을 모으고 있는 가운데 한 인터뷰에서 한재덕 대표에게 나홍진 감독 차기작이 우범곤 총기 사건을 모티프로 한다는 그 영화인가?',\n",
              "  '”라고 질문하자 나홍진 감독과는 구두로 \"함께 하자\"고 이야기를 나눈 상태라고 답했다.'],\n",
              " ['당진시보건소는 자격 기준을 갖춘 가구에 대해 매월 기저귀 6만4천원, 기저귀 및 분유 동시 최대 15만원을 지원하는 지원사업을 진행 중이다.',\n",
              "  '접수는 보건소 및 각 행정복지센터에서 가능하며, 신청 문의는 보건소 모자건강팀 041 360-6080~4로 문의하면 세부사항을 안내 받을 수 있다.'],\n",
              " ['4일 해남경찰서와 해남소방서에 따르면 지난달 30일 오전11시3분 해남군 화원면에 사는 A(79)씨가 실종됐다는 신고가 경찰에 접수되어 경찰과 소방, 육군 등이 투입되어 수색 중 수색 개시 2시간30여분만인 오전 11시35분쯤 군부대 수색견이 A씨의 것으로 추정되는 슬리퍼를 발견한 후 주변을 집중 수색하여 A를 발견했다.',\n",
              "  'A씨는 타박상 및 탈수 증상을 보였으나 그 외 큰부상 없이 발견됐다.'],\n",
              " ['고흥군은 네팔.인도.',\n",
              "  '카타르 기업대표와 총 150만불의 수출 협약을 체결하고 고흥 농수특산품 수출 및 판매 확대를 위해 상호 간 적극 노력하기로 합의하여 앞으로 수출 확대를 도모할 수 있는 좋은 기회가 될 것으로 기대하고 있으며, 몽골.체코 등 신규 수출 채널 확대에 대비해 수출경쟁력 강화에 힘쓰겠다고 밝혔다.'],\n",
              " ['13일 시교육청에 따르면 교실 공기 질 개선을 위해 겨울방학기간 36억원, 올해말까지 168억원을 투입해 대구 유.초.중.고.',\n",
              "  '특수학교 전 학급에 공기정화장치를 보급한다.'],\n",
              " [\"광주시 동구는 '아이 키우기 좋은 동구'를 목표로 생활환경.안전.교육환경.보건복지.\",\n",
              "  \"놀이권 보장을 위한 5대 분야별 '동구형 아동친화도시 종합계획을 수립하였으며, 계획에는 5대영역 20개 아동친화도시 세부사업이 포함됐다.\"],\n",
              " ['프로축구 K리그2 전남 드래곤즈가 지난 19일 전남 광양전용구장에서 아산 무궁화와의 경기에서 브루노 바이오의 대뷔골과 정재희의 쐐기골을 앞세워 2대0 승리를 거뒀다.',\n",
              "  '이는 전경준 감독 대행 체제에서 처음 울리는 승전고이다.'],\n",
              " [\"22일까지 북구에서 '지방규제 개선 아이디어'를 공모한다.\",\n",
              "  '접수된 아이디어는 6월 중 제한심사위원회에서 제안 등급을 정해 북구청장상과 함께 부상을 지급한다.'],\n",
              " ['광주문화예술회관 대극장에서 정기연주회를 개최한다.',\n",
              "  '첫곡 영웅행진곡을 장식으로 오케스트라와 오르간 만남으로 음악체험을 선사할 예정이다.'],\n",
              " ['청담동 주식부자 이희진 씨의 부모를 살해한 김씨는 이희진 씨의 동생 이희문씨가  부가티를 판 대금 중 부모에게 전달된 5억원을 훔친 것으로 드러났다.',\n",
              "  '이수정 경기대학교 범죄심리학과 교수는 이희문씨가 전달한  5억원이 집에  있었다는 사실을 알 정도라면 김씨와 이희문씨는 무연고일 가능성이 희박하다고 언급했다.'],\n",
              " [\"(재)군포문화재단이 수리산상상마을에서 진행하는 미디어아트 기획전시 '모두 잠든 밤, 빛을 주우러 가자'가 어린이들에게 새로운 경험의 기회를 제공하여 일 평균 240명의 관람객이 찾았고.\",\n",
              "  '오픈 40여일 만에 관람객 수 1만 명을 넘었다.'],\n",
              " ['광주시 어등산 관광단지 조성사업을 두고 광주도시공사와 우선협상대상자인 서진건설과 최종 사업협약 체결절차에서 이견이 좁혀지지 않고 있다.',\n",
              "  '공모지침에는 최종 협약체결 대상자는 사업이행보증금으로 전체 사업비의 10%(480억원)를 10일 이내에 납부해야 하지만 서진건설 측은 3단계로 나눠 분할납부하겠다는 제안을 하며 이견이 좁혀지지 않아 사업 자체가 좌초될 가능성이 제기되고 있다.'],\n",
              " ['2018년 공무원 임용에 합격한 충남도립대학교 학생은 총 45명(공개경쟁 37명, 경력경쟁 8명)으로 개교 이래 20년간 총 752명의 공직자가 배출됐는데, 이에 허재영 총장은 공직진출을 위해 지원한 다양한 프로그램들이 실질적 결실을 맺어가고 있으며, 앞으로 중부권 최고의 공직 배출 명문대의 명성을 계속 이어갈 수 있도록 최선을 다할 것을 다짐했다.',\n",
              "  '허재영 총장은 심야학습 등의 공직 진출을 위한 다양한 프로그램을 지원해 실질적 결실을 맺고 있는 충남도립대학교가 2018년 공무원 임용에 최종 45명 합격하며 개교 이래 총 752명의 공직자를 배출했다고 밝혔다.'],\n",
              " [\"고용노동부와 전남도가 주체하고 한국장애인고용공단 전남지사와 한국장애인고용안정협회 전남지부가 주관해서 열리는 '전남도 장애인 기능경기대회'가 26일에 목포에서 개막한다.\",\n",
              "  '이 대회에는 24개의 직종에 216명의 선수가 참가할 예정이다.'],\n",
              " [\"19일 방송된 MBC PD수첩 '검찰, 반성 없는 반성문' 편에서는 2013년 원주의 한 별장에서 사회 고위급 인사가 성접대하는 모습이 담긴 영상이 공개됐고, 이 남성이 김학의 전 법무부 차관이 아니냐는 의혹이 불거졌음에도 불구하고 인물을 특정할 수 없다는 등 여러 이해할 수 없는 이유를 들어 사건을 덮은 검찰의 이야기를 다뤘다.\",\n",
              "  '검찰이 덮었으나, 지난해 7월 법무부 검찰 과거사 위원회에서 검찰권 남용 의혹 사건으로 선정된 김학의 전 차관 별장 성접대 사건을 다루었다.'],\n",
              " ['현대차는 10일 GM 및 BMW 등에서 전문적인 경력을 가진 서주호 디자이너를 현대디자인이노베이션실 상무로 영입한다고 발표했다.',\n",
              "  '현대자동차는 디자이너로서 20년의 다채로운 경험과 스타트업에서의 근무 경력은 기존 선행디자인 조직의 혁신과 역할 확대에 상당히 부합할 것으로 기대하고 있는데,  특히 고성능 전기차의 선행 및 양산 디자인을 이끈 서주호 디자이너의 경력은 현대차  EV 라이업 디자인의 경쟁력을 제고하는 데 기여할 것으로 예상하고 있다.'],\n",
              " ['민선7기 광주시가 사회적 대통합의 광주형일자리 모델인 광주글로벌모터스가 26일 공장 착공 기공식을 하여 공사에 돌입한다.',\n",
              "  '생산직 채용은 투명성을 확보하려 외부 전문업체에 위탁하는 방식으로 진행한다.'],\n",
              " [\"태안군은 23일 군청 브리핑실에서 정례 브리핑을 통해 '문화가 있는 태안'건설에 나선다고 하였다.\",\n",
              "  '지역의 문화유산을 적극 발굴, 보존하여 다양한 시책을 추진키로 했다.',\n",
              "  '또한 문용현 문화예술과장은 \"올해 1월 기존의 \\'문화관광체육과\\'를 각 분야별로 분과하여 정책 추진력을 높였으며, 앞으로 군민 여가활동의 품격을 높일 수 있도록 하겠다\"고 말했다.'],\n",
              " ['제4회 부천세계비보이대회(BBIC)가 6일부터 8일까지 3일간 부천시청 어울마당에서 펼쳐진다.',\n",
              "  '부천세계비보이대회는 국내 유일 비보이 세계대회로 부천시가 주최하고 세계 5대 메이저 대회를 석권한 비보이팀 진조크루가 주관한다.',\n",
              "  '24개국 600여 명의 비보이가 참가해 총상금 4천200만 원을 놓고 열띤 경쟁을 펼치며 매일 다른 매력의 무대를 선보인다.'],\n",
              " ['2018- 2019 유럽축구연맹(UEFA) 챔피언스리그(이하 UCL)에서 메시가 현재 8골로 최다 득점을 기록하고 있고 호날두 역시 앞서 열린 UCL 16강 2차전에서 헤트트릭을 기록하며, 호날두 역시 앞서 열린 UCL 16강 2차전에서 헤트트릭을 기록하며 ‘인생 경기’를 펼쳤다.',\n",
              "  '세기의 라이벌인 두 사람의 득점 경쟁이 치열하다.'],\n",
              " [\"남도일보는 9일 1층 대회의실에서 강신중 법무법인 강율 대표 변호사를 초청해 임직원들을 대상으로 '양성평등 및 공정보도와 취재윤리'를 주제로 직원 역량 강화 교육을 실시했는데, 강 변호사는 언론의 자유가 언론의 공정성을 훼손할 위험성과 세대간 간극으로 인한 직장 내 성범죄 문제에 대해 설명했다.\",\n",
              "  \"직장 내 성범죄의 원인인 '세대간 성인식의 간극'이 벌어지지 않도록 의식 개선이 중요하다고 강조했다.\"],\n",
              " ['광주 도구가 2020년 신규 역점시책 보고히를 개최했다.',\n",
              "  '신규시책93건 역점시책 142건이 나왔으며 이번 보고회에서 제안된 사업을 토대로 보완, 수정을 거쳐 예산안 편성과 주요업무계획에 반영할 방침이다.'],\n",
              " ['대진대학교 휴먼건축공학부가 양국 건축의 차이를 이해하고 상호 보완하여 미래 건축에 대한 답을 찾아보고자 개최한 ‘제1회 한·일 취업연계 학생교류’에서 한일 건축전공 학생 15명(한국 11명, 일본 4명)이 참가해 3일간의 합숙을 통해 많은 학생들이 실생활에 반영할 수 있는 창의적 아이디어를 제시하는 등 기대 이상의 성과를 이뤄냈다.',\n",
              "  '대진대학교 휴먼건축공학부가  3일간 주제에 대한 집중토의를  하면서 양국 건축의 차이를 이해하고 상호 보완하여 미래 건축의 해답을 찾아보고자  한일 건축전공 학생 15명(한국 11명, 일본 4명)이  통해  참석한 ‘제1회 한·일 취업연계 학생교류’를 진행 했다.'],\n",
              " ['나주 혁신도시 이노시티 애시앙이 20일날 1천478가구를 분양한다고 밝혔다.',\n",
              "  '여러 옵션과 서비스, 커뮤니티 시설이 들어서며 근처에 한국전력 공사 본사를 비롯한 총 16개의 공공기관과 협력업체들이 다수 포진해 있어 직주근접 요소를 갖췄다.',\n",
              "  '23일~24일 특별공급을 시작으로 25일 1순위 청약, 28일 2순위 청약을 받는다.'],\n",
              " ['제11회 즐거운 2019 목재페스티벌이 열렸다.',\n",
              "  '경기대회와 함께 목재체험부스가 진행됐다.',\n",
              "  '목재페스티벌은 친환경 재료이며 인체 친화재료인 목재의 중요성과 효율성을 알리는 체험교육의 장으로 자리잡았다.'],\n",
              " ['수원에서 14년 동안 해장국을 운영해온 이창성·양숙희 대표가 구 원당가든 자리에 ‘원당해장’을 개업했으며 가장 신선하고 맛좋은 고기를 제공하고 있으며 배추김치와 깍두기맛도 자랑할 만하다.',\n",
              "  '대표가 직접 주방서 요리하며 48시간 푹 고은 육수를 사용해 정성을 더했다.'],\n",
              " [\"23일 세종시의회 '2019 행정사무감사'의 교육안전위원회 진행 중 의원간 진행절차 이견으로 인한 감사 중단 사태가 벌어졌다.\",\n",
              "  '5분여간 상병헌 위원장과 윤형권 의원 간의 고성으로 중단된 감사는 약 2시간 이후 재개되었으며, 상위원장은 진행절차 협의사항에 대해 고지하고 윤 의원은 항의에 대하여 사과를 표명하였다.']]"
            ]
          },
          "metadata": {
            "tags": []
          },
          "execution_count": 41
        }
      ]
    },
    {
      "cell_type": "markdown",
      "metadata": {
        "id": "yckhIp_Y-_cy"
      },
      "source": [
        "대부분이 1문장으로 구성되어 있으며 일부 (86개)만 2문장 이상으로 구성되어 있음."
      ]
    },
    {
      "cell_type": "markdown",
      "metadata": {
        "id": "Nu0o_igx_GmW"
      },
      "source": [
        "#### word 분포 확인 "
      ]
    },
    {
      "cell_type": "code",
      "metadata": {
        "colab": {
          "base_uri": "https://localhost:8080/",
          "height": 412
        },
        "id": "bM9wDH1K_FJZ",
        "outputId": "428b1183-c385-4d55-f89a-8bdbbd10d65b"
      },
      "source": [
        "# word 수\r\n",
        "import re\r\n",
        "abstractive_word_counts = train_df['abstractive'].apply(lambda x:len(re.split('\\s', x)))\r\n",
        "\r\n",
        "fig, axs = plt.subplots(1, 2, figsize=(16, 6), gridspec_kw=dict(width_ratios=[4, 3]))\r\n",
        "sns.histplot(abstractive_word_counts, binwidth=1, ax=axs[0])\r\n",
        "sns.boxplot(abstractive_word_counts, ax=axs[1])"
      ],
      "execution_count": 24,
      "outputs": [
        {
          "output_type": "execute_result",
          "data": {
            "text/plain": [
              "<matplotlib.axes._subplots.AxesSubplot at 0x7fd8824ba908>"
            ]
          },
          "metadata": {
            "tags": []
          },
          "execution_count": 24
        },
        {
          "output_type": "display_data",
          "data": {
            "image/png": "[encoded data removed]",
            "text/plain": [
              "<Figure size 1152x432 with 2 Axes>"
            ]
          },
          "metadata": {
            "tags": [],
            "needs_background": "light"
          }
        }
      ]
    },
    {
      "cell_type": "code",
      "metadata": {
        "colab": {
          "base_uri": "https://localhost:8080/"
        },
        "id": "SsTgRyY__JbK",
        "outputId": "1e270bf4-1d74-40ad-8b79-c83f7ef7ebc6"
      },
      "source": [
        "abstractive_word_counts.describe()"
      ],
      "execution_count": 25,
      "outputs": [
        {
          "output_type": "execute_result",
          "data": {
            "text/plain": [
              "count    42803.000000\n",
              "mean        26.187510\n",
              "std          8.162073\n",
              "min          3.000000\n",
              "25%         20.000000\n",
              "50%         25.000000\n",
              "75%         31.000000\n",
              "max         98.000000\n",
              "Name: abstractive, dtype: float64"
            ]
          },
          "metadata": {
            "tags": []
          },
          "execution_count": 25
        }
      ]
    },
    {
      "cell_type": "markdown",
      "metadata": {
        "id": "Z_h1-OMq_LJd"
      },
      "source": [
        "### 4. 추출 요약 정답값(extractive)"
      ]
    },
    {
      "cell_type": "code",
      "metadata": {
        "colab": {
          "base_uri": "https://localhost:8080/"
        },
        "id": "VkDc8GLk_POn",
        "outputId": "68d1cf2b-7ba9-4346-cd58-10fba5806c03"
      },
      "source": [
        "train_df['extractive'][1]"
      ],
      "execution_count": 26,
      "outputs": [
        {
          "output_type": "execute_result",
          "data": {
            "text/plain": [
              "[0, 1, 3]"
            ]
          },
          "metadata": {
            "tags": []
          },
          "execution_count": 26
        }
      ]
    },
    {
      "cell_type": "code",
      "metadata": {
        "colab": {
          "base_uri": "https://localhost:8080/"
        },
        "id": "iQ8FGdjhAdzO",
        "outputId": "10a73626-cfe4-4c9e-ea83-659de1c42849"
      },
      "source": [
        "train_df['extractive_sents'][1]"
      ],
      "execution_count": 27,
      "outputs": [
        {
          "output_type": "execute_result",
          "data": {
            "text/plain": [
              "['미국 메이저리그(MLB)에서 활동하는 한국 선수들의 시즌 초반 희비가 엇갈리고 있다.',\n",
              " 'LA 에인절스의 최지만은 맹활약으로 주전 입지를 굳혀가는 반면 텍사스 레인저스의 추신수는 개막전 선발에서 밀려나는 수모를 당한 뒤에서도 좀처럼 반등을 하지 못하고 있다.',\n",
              " '시즌 타율은 0.250에서 0.313(16타수 5안타)로 올랐다.']"
            ]
          },
          "metadata": {
            "tags": []
          },
          "execution_count": 27
        }
      ]
    },
    {
      "cell_type": "code",
      "metadata": {
        "colab": {
          "base_uri": "https://localhost:8080/"
        },
        "id": "1NlRueqwAerZ",
        "outputId": "ccf04840-66e6-4754-a7ae-b762714ab084"
      },
      "source": [
        "train_df['extractive_sents'].apply(lambda tmp_list: ' '.join(tmp_list) )"
      ],
      "execution_count": 28,
      "outputs": [
        {
          "output_type": "execute_result",
          "data": {
            "text/plain": [
              "0        당진시 문화관광과를 대상으로 하는 행정사무감사에서 당진시립합창단 관계자가 보낸 것으...\n",
              "1        미국 메이저리그(MLB)에서 활동하는 한국 선수들의 시즌 초반 희비가 엇갈리고 있다...\n",
              "2        16일 부평구와 협회 등에 따르면 부영공원 안에 있는 야구장을 구생활체육야구협회가 ...\n",
              "3        대구·경북첨단의료산업진흥재단(이하 대구첨복재단) 의약생산센터는 주세제 특수제제인 세...\n",
              "4        식품의약품안전처는 29일 여름철 어린이가 즐겨 마시는 탄산음료 282개와 혼합음료 ...\n",
              "                               ...                        \n",
              "42798    칠곡북삼초등학교(교장 서금자)에서는 지난달 7일부터 18일까지 3-5학년 학생 중 ...\n",
              "42799    최근 5년간, LH공공임대 임차인이 사망했으나 상속되거나 반환되지 못한 임대보증금이...\n",
              "42800    경기도의 ‘DMZ 155마일 걷기’ 행사가 5일 오전 파주 임진각에서 열린 출정식을...\n",
              "42801    지난 14일 기준 휘발유 가격이 가장 저렴한 곳은 AJ토탈(주)당진주유소(신평)였으...\n",
              "42802    양승조 충남도지사는 12일 대기오염물질 배출 주요 사업장인 현대제철㈜ 당진공장을 찾...\n",
              "Name: extractive_sents, Length: 42803, dtype: object"
            ]
          },
          "metadata": {
            "tags": []
          },
          "execution_count": 28
        }
      ]
    },
    {
      "cell_type": "markdown",
      "metadata": {
        "id": "HTV1-qdtAjIS"
      },
      "source": [
        "#### sentence 분포"
      ]
    },
    {
      "cell_type": "code",
      "metadata": {
        "colab": {
          "base_uri": "https://localhost:8080/"
        },
        "id": "LEnmYE0CAgR7",
        "outputId": "a61056f6-a1e5-413a-ebf0-518f2c8ae67b"
      },
      "source": [
        "import collections\r\n",
        "\r\n",
        "temp = []\r\n",
        "for l in train_df['extractive']:\r\n",
        "    temp.append(len(l))\r\n",
        "    \r\n",
        "collections.Counter(temp)"
      ],
      "execution_count": 29,
      "outputs": [
        {
          "output_type": "execute_result",
          "data": {
            "text/plain": [
              "Counter({1: 3, 2: 234, 3: 42566})"
            ]
          },
          "metadata": {
            "tags": []
          },
          "execution_count": 29
        }
      ]
    },
    {
      "cell_type": "code",
      "metadata": {
        "colab": {
          "base_uri": "https://localhost:8080/",
          "height": 386
        },
        "id": "XPHEVRLHAoRQ",
        "outputId": "39aa05ea-ce6e-44f0-9206-d6c57f584ccd"
      },
      "source": [
        "extractives = []\r\n",
        "for extractive_idxes in train_df['extractive'].values:\r\n",
        "    extractives += extractive_idxes\r\n",
        "\r\n",
        "sns.displot(extractives, binwidth=1)  # , x=\"flipper_length_mm\""
      ],
      "execution_count": 30,
      "outputs": [
        {
          "output_type": "execute_result",
          "data": {
            "text/plain": [
              "<seaborn.axisgrid.FacetGrid at 0x7fd8822e6668>"
            ]
          },
          "metadata": {
            "tags": []
          },
          "execution_count": 30
        },
        {
          "output_type": "display_data",
          "data": {
            "image/png": "[encoded data removed]",
            "text/plain": [
              "<Figure size 360x360 with 1 Axes>"
            ]
          },
          "metadata": {
            "tags": [],
            "needs_background": "light"
          }
        }
      ]
    },
    {
      "cell_type": "markdown",
      "metadata": {
        "id": "2Sq9lNe7Arrw"
      },
      "source": [
        " 데이터가 뉴스이므로, 글의 앞문장일수록 extractive summary에 포함될 확률이 굉장히 높음 "
      ]
    },
    {
      "cell_type": "markdown",
      "metadata": {
        "id": "2Y4zVo1lAyj9"
      },
      "source": [
        "#### word 분포 "
      ]
    },
    {
      "cell_type": "code",
      "metadata": {
        "colab": {
          "base_uri": "https://localhost:8080/",
          "height": 412
        },
        "id": "A1Sq0uryAx1u",
        "outputId": "3372be05-14af-436a-804e-65c13657138b"
      },
      "source": [
        "# word 수\r\n",
        "extractive_word_counts = train_df['extractive_sents'].apply(lambda x:len(' '.join(x).split(' ')))\r\n",
        "\r\n",
        "fig, axs = plt.subplots(1, 2, figsize=(16, 6), gridspec_kw=dict(width_ratios=[4, 3]))\r\n",
        "sns.histplot(extractive_word_counts, binwidth=1, ax=axs[0])\r\n",
        "sns.boxplot(extractive_word_counts, ax=axs[1])"
      ],
      "execution_count": 31,
      "outputs": [
        {
          "output_type": "execute_result",
          "data": {
            "text/plain": [
              "<matplotlib.axes._subplots.AxesSubplot at 0x7fd8819e43c8>"
            ]
          },
          "metadata": {
            "tags": []
          },
          "execution_count": 31
        },
        {
          "output_type": "display_data",
          "data": {
            "image/png": "[encoded data removed]",
            "text/plain": [
              "<Figure size 1152x432 with 2 Axes>"
            ]
          },
          "metadata": {
            "tags": [],
            "needs_background": "light"
          }
        }
      ]
    },
    {
      "cell_type": "markdown",
      "metadata": {
        "id": "NNIU7LAuA0sW"
      },
      "source": [
        "### 5. 데이터 내 키워드 bi-gram 분포 "
      ]
    },
    {
      "cell_type": "code",
      "metadata": {
        "id": "269Y5EdTA32Z"
      },
      "source": [
        "import matplotlib.pyplot as plt\r\n",
        "plt.rc('font', family='NanumBarunGothic') "
      ],
      "execution_count": 32,
      "outputs": []
    },
    {
      "cell_type": "markdown",
      "metadata": {
        "id": "3aee6zFKA5TD"
      },
      "source": [
        "#### 키워드 추출 "
      ]
    },
    {
      "cell_type": "code",
      "metadata": {
        "id": "DcrFgsmZIeXP"
      },
      "source": [
        "%%bash\r\n",
        "bash <(curl -s https://raw.githubusercontent.com/konlpy/konlpy/master/scripts/mecab.sh)\r\n",
        "pip3 install /tmp/mecab-python-0.996"
      ],
      "execution_count": null,
      "outputs": []
    },
    {
      "cell_type": "code",
      "metadata": {
        "id": "ZGWIPDcwIoEB"
      },
      "source": [
        "%%bash\r\n",
        "pip3 install pytest\r\n",
        "TEST_DIR=$(mktemp -d -t test-XXXXXXXXXX)\r\n",
        "git clone https://github.com/konlpy/konlpy --depth=1 $TEST_DIR\r\n",
        "python3 -m pytest -v $TEST_DIR"
      ],
      "execution_count": null,
      "outputs": []
    },
    {
      "cell_type": "code",
      "metadata": {
        "id": "DETXSzEtA6qJ"
      },
      "source": [
        "from sklearn.feature_extraction.text import CountVectorizer\r\n",
        "\r\n",
        "def get_top_ngram(corpus, n=None):\r\n",
        "    vec = CountVectorizer(ngram_range=(n, n)).fit(corpus)\r\n",
        "    bag_of_words = vec.transform(corpus)\r\n",
        "    sum_words = bag_of_words.sum(axis=0) \r\n",
        "    words_freq = [(word, sum_words[0, idx]) for word, idx in vec.vocabulary_.items()]\r\n",
        "    words_freq =sorted(words_freq, key = lambda x: x[1], reverse=True)\r\n",
        "    return words_freq[:20]"
      ],
      "execution_count": 60,
      "outputs": []
    },
    {
      "cell_type": "code",
      "metadata": {
        "id": "9_mdnb7PBEiM"
      },
      "source": [
        "from konlpy.tag import Mecab\r\n",
        "tokenizer = Mecab() \r\n",
        "\r\n",
        "fig,ax=plt.subplots(1,3,figsize=(15,15))\r\n",
        "\r\n",
        "doc = train_df['abstractive']\r\n",
        "doc = doc.apply(lambda sent: ' '.join(tokenizer.morphs(sent)))\r\n",
        "top_n_bigrams=get_top_ngram(doc,2)[:20]\r\n",
        "x,y=map(list,zip(*top_n_bigrams))\r\n",
        "sns.barplot(x=y,y=x,ax=ax[0]).set_title('In abstractive summary') # ,color=colors[i+1]\r\n",
        "\r\n",
        "doc = train_df['extractive_sents'].apply(lambda tmp_list: ' '.join(tmp_list) )\r\n",
        "doc = doc.apply(lambda sent: ' '.join(tokenizer.morphs(sent)))\r\n",
        "top_n_bigrams=get_top_ngram(doc,2)[:20]\r\n",
        "x,y=map(list,zip(*top_n_bigrams))\r\n",
        "sns.barplot(x=y,y=x,ax=ax[1]).set_title('In extractive summary') # ,color=colors[i+1]\r\n",
        "\r\n",
        "doc = train_df['no_extractive_sents'].apply(lambda tmp_list: ' '.join(tmp_list) )\r\n",
        "doc = doc.apply(lambda sent: ' '.join(tokenizer.morphs(sent)))\r\n",
        "top_n_bigrams=get_top_ngram(doc,2)[:20]\r\n",
        "x,y=map(list,zip(*top_n_bigrams))\r\n",
        "sns.barplot(x=y,y=x,ax=ax[2]).set_title('Not in extractive summary') # ,color=colors[i+1]\r\n",
        "\r\n",
        "    \r\n",
        "fig.suptitle(\"Common bigrams\")"
      ],
      "execution_count": null,
      "outputs": []
    },
    {
      "cell_type": "markdown",
      "metadata": {
        "id": "h_8Q3EEzI7Y2"
      },
      "source": [
        "![image.png](data:image/png;base64,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)"
      ]
    },
    {
      "cell_type": "code",
      "metadata": {
        "id": "qrf7TjQuBGwO"
      },
      "source": [
        ""
      ],
      "execution_count": null,
      "outputs": []
    }
  ]
}